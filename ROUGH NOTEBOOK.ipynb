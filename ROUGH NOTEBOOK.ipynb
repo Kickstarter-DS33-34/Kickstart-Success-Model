{
  "cells": [
    {
      "cell_type": "code",
      "source": [
        "# Hello"
      ],
      "metadata": {
        "id": "CO5LoeCsPWPW"
      },
      "id": "CO5LoeCsPWPW",
      "execution_count": null,
      "outputs": []
    },
    {
      "cell_type": "code",
      "execution_count": null,
      "id": "b8e7b3ea-c272-4274-bbc4-0f193044c1ee",
      "metadata": {
        "id": "b8e7b3ea-c272-4274-bbc4-0f193044c1ee"
      },
      "outputs": [],
      "source": [
        "import pandas as pd\n",
        "import os, sys\n",
        "import datetime\n",
        "import json"
      ]
    },
    {
      "cell_type": "code",
      "execution_count": null,
      "id": "5baf98fd-b7c4-4051-b499-f185f9c14ac8",
      "metadata": {
        "id": "5baf98fd-b7c4-4051-b499-f185f9c14ac8"
      },
      "outputs": [],
      "source": [
        "# files = [file_path for file_path in os.listdir('CSVs') if file_path.endswith('.csv')]"
      ]
    },
    {
      "cell_type": "code",
      "execution_count": null,
      "id": "5707d940-6d0e-493c-9702-a247668de31a",
      "metadata": {
        "id": "5707d940-6d0e-493c-9702-a247668de31a"
      },
      "outputs": [],
      "source": [
        "# df = pd.read_csv(os.path.join('CSVs', files[0]))\n",
        "\n",
        "# for csv_path in files[1:]:\n",
        "#     df_to_add = pd.read_csv(os.path.join('CSVs', csv_path))\n",
        "#     df = pd.concat([df,df_to_add])\n",
        "    \n",
        "    \n",
        "# df.reset_index(drop=True, inplace=True)"
      ]
    },
    {
      "cell_type": "code",
      "execution_count": null,
      "id": "de91cb0d-691e-42eb-9d86-8171bf4d597e",
      "metadata": {
        "id": "de91cb0d-691e-42eb-9d86-8171bf4d597e"
      },
      "outputs": [],
      "source": [
        "COLs = ['country','location','category', 'blurb', 'slug', 'backers_count', \n",
        "       'created_at','goal','launched_at','deadline','converted_pledged_amount',\n",
        "        'state','state_changed_at', 'currency','spotlight',\n",
        "        'staff_pick', 'static_usd_rate','usd_type']\n",
        "    \n",
        "\n",
        "def wrangle(CSV_PATH):\n",
        "    df = pd.read_csv(CSV_PATH, usecols= COLs)\n",
        "    df.dropna(inplace=True)\n",
        "\n",
        "    #Reorder columns\n",
        "    df = df[['country','location','category', 'blurb', 'slug', 'backers_count', \n",
        "        'created_at','launched_at','deadline','converted_pledged_amount','goal',\n",
        "        'state','state_changed_at', 'currency','spotlight',\n",
        "        'staff_pick', 'static_usd_rate','usd_type']]\n",
        "    \n",
        "    # Dropping rows where state is = to 'live' or 'canceled'\n",
        "    df = df[df['state'].isin(['successful','failed'])]\n",
        "    \n",
        "    # Convert str to dicts (category and location columns)\n",
        "    convert_to_dicts = lambda x: json.loads(x)\n",
        "    df['category'] = df['category'].apply(convert_to_dicts)\n",
        "    df['location'] = df['location'].apply(convert_to_dicts)\n",
        "    \n",
        "    # Exctract name from dicts (category and location columns)\n",
        "    extract_name = lambda x: x['name']\n",
        "    df['category'] = df['category'].apply(extract_name)\n",
        "    df['location'] = df['location'].apply(extract_name)\n",
        "    \n",
        "    # Timestamps to Dates\n",
        "    convert = lambda x: datetime.datetime.fromtimestamp(x)\n",
        "    df['created_at'] = df['created_at'].apply(convert)\n",
        "    df['launched_at'] = df['launched_at'].apply(convert)\n",
        "    df['deadline'] = df['deadline'].apply(convert)\n",
        "    df['state_changed_at'] = df['state_changed_at'].apply(convert)\n",
        "    \n",
        "    # Rename\n",
        "    df.columns = ['country','location','category', 'blurb', 'slug', 'n_backers', \n",
        "       'created_at','launch_date','deadline','pledged_$','goal',\n",
        "        'state','state_changed_at', 'currency','spotlight',\n",
        "          'staff_pick', 'usd_rate','usd_type']\n",
        "    \n",
        "\n",
        "    \n",
        "    return df"
      ]
    },
    {
      "cell_type": "code",
      "execution_count": null,
      "id": "f52c190e-2022-4bde-a693-29742c4fe6e0",
      "metadata": {
        "id": "f52c190e-2022-4bde-a693-29742c4fe6e0"
      },
      "outputs": [],
      "source": [
        "df = wrangle('Kick(2021-2022).csv')"
      ]
    },
    {
      "cell_type": "code",
      "execution_count": null,
      "id": "41e50aeb-e723-4ab6-9326-036d109033fe",
      "metadata": {
        "id": "41e50aeb-e723-4ab6-9326-036d109033fe",
        "outputId": "57b84535-5245-47b6-f439-a5e754d7539d"
      },
      "outputs": [
        {
          "name": "stdout",
          "output_type": "stream",
          "text": [
            "<class 'pandas.core.frame.DataFrame'>\n",
            "Int64Index: 208215 entries, 0 to 223288\n",
            "Data columns (total 18 columns):\n",
            " #   Column            Non-Null Count   Dtype         \n",
            "---  ------            --------------   -----         \n",
            " 0   country           208215 non-null  object        \n",
            " 1   location          208215 non-null  object        \n",
            " 2   category          208215 non-null  object        \n",
            " 3   blurb             208215 non-null  object        \n",
            " 4   slug              208215 non-null  object        \n",
            " 5   n_backers         208215 non-null  int64         \n",
            " 6   created_at        208215 non-null  datetime64[ns]\n",
            " 7   launch_date       208215 non-null  datetime64[ns]\n",
            " 8   deadline          208215 non-null  datetime64[ns]\n",
            " 9   pledged_$         208215 non-null  int64         \n",
            " 10  goal              208215 non-null  float64       \n",
            " 11  state             208215 non-null  object        \n",
            " 12  state_changed_at  208215 non-null  datetime64[ns]\n",
            " 13  currency          208215 non-null  object        \n",
            " 14  spotlight         208215 non-null  bool          \n",
            " 15  staff_pick        208215 non-null  bool          \n",
            " 16  usd_rate          208215 non-null  float64       \n",
            " 17  usd_type          208215 non-null  object        \n",
            "dtypes: bool(2), datetime64[ns](4), float64(2), int64(2), object(8)\n",
            "memory usage: 27.4+ MB\n"
          ]
        }
      ],
      "source": [
        "df.info()"
      ]
    },
    {
      "cell_type": "code",
      "execution_count": null,
      "id": "6daf0c84-933d-4642-b416-3fc8462d772f",
      "metadata": {
        "id": "6daf0c84-933d-4642-b416-3fc8462d772f",
        "outputId": "155b9ef2-9b64-4efb-afa1-a38c761ef5c2"
      },
      "outputs": [
        {
          "data": {
            "text/html": [
              "<div>\n",
              "<style scoped>\n",
              "    .dataframe tbody tr th:only-of-type {\n",
              "        vertical-align: middle;\n",
              "    }\n",
              "\n",
              "    .dataframe tbody tr th {\n",
              "        vertical-align: top;\n",
              "    }\n",
              "\n",
              "    .dataframe thead th {\n",
              "        text-align: right;\n",
              "    }\n",
              "</style>\n",
              "<table border=\"1\" class=\"dataframe\">\n",
              "  <thead>\n",
              "    <tr style=\"text-align: right;\">\n",
              "      <th></th>\n",
              "      <th>country</th>\n",
              "      <th>location</th>\n",
              "      <th>category</th>\n",
              "      <th>blurb</th>\n",
              "      <th>slug</th>\n",
              "      <th>n_backers</th>\n",
              "      <th>created_at</th>\n",
              "      <th>launch_date</th>\n",
              "      <th>deadline</th>\n",
              "      <th>pledged_$</th>\n",
              "      <th>goal</th>\n",
              "      <th>state</th>\n",
              "      <th>state_changed_at</th>\n",
              "      <th>currency</th>\n",
              "      <th>spotlight</th>\n",
              "      <th>staff_pick</th>\n",
              "      <th>usd_rate</th>\n",
              "      <th>usd_type</th>\n",
              "    </tr>\n",
              "  </thead>\n",
              "  <tbody>\n",
              "    <tr>\n",
              "      <th>0</th>\n",
              "      <td>US</td>\n",
              "      <td>Burlington</td>\n",
              "      <td>Glass</td>\n",
              "      <td>I make these adorable planters myself.   Custo...</td>\n",
              "      <td>i-would-like-to-produce-and-sell-my-lightbulb-...</td>\n",
              "      <td>2</td>\n",
              "      <td>2014-08-14 17:03:06</td>\n",
              "      <td>2014-08-20 14:16:23</td>\n",
              "      <td>2014-09-19 14:16:23</td>\n",
              "      <td>31</td>\n",
              "      <td>2000.0</td>\n",
              "      <td>failed</td>\n",
              "      <td>2014-09-19 14:16:23</td>\n",
              "      <td>USD</td>\n",
              "      <td>False</td>\n",
              "      <td>False</td>\n",
              "      <td>1.000000</td>\n",
              "      <td>domestic</td>\n",
              "    </tr>\n",
              "    <tr>\n",
              "      <th>1</th>\n",
              "      <td>US</td>\n",
              "      <td>Vineyard</td>\n",
              "      <td>Events</td>\n",
              "      <td>The Utah Valley Food Fest is a sampling event,...</td>\n",
              "      <td>utah-valley-food-fest-2019</td>\n",
              "      <td>188</td>\n",
              "      <td>2019-07-17 22:31:20</td>\n",
              "      <td>2019-07-31 21:55:28</td>\n",
              "      <td>2019-08-17 02:01:00</td>\n",
              "      <td>3367</td>\n",
              "      <td>3000.0</td>\n",
              "      <td>successful</td>\n",
              "      <td>2019-08-17 02:01:00</td>\n",
              "      <td>USD</td>\n",
              "      <td>True</td>\n",
              "      <td>False</td>\n",
              "      <td>1.000000</td>\n",
              "      <td>domestic</td>\n",
              "    </tr>\n",
              "    <tr>\n",
              "      <th>2</th>\n",
              "      <td>BE</td>\n",
              "      <td>Antwerp</td>\n",
              "      <td>Comedy</td>\n",
              "      <td>Newly found cabaret project Bunny Burlesk Even...</td>\n",
              "      <td>bbe-cabaret-burlesque-show</td>\n",
              "      <td>12</td>\n",
              "      <td>2018-10-01 04:32:40</td>\n",
              "      <td>2018-10-02 05:02:05</td>\n",
              "      <td>2018-12-01 05:02:05</td>\n",
              "      <td>380</td>\n",
              "      <td>300.0</td>\n",
              "      <td>successful</td>\n",
              "      <td>2018-12-01 05:02:05</td>\n",
              "      <td>EUR</td>\n",
              "      <td>True</td>\n",
              "      <td>False</td>\n",
              "      <td>1.159643</td>\n",
              "      <td>international</td>\n",
              "    </tr>\n",
              "    <tr>\n",
              "      <th>3</th>\n",
              "      <td>US</td>\n",
              "      <td>Oxnard</td>\n",
              "      <td>Children's Books</td>\n",
              "      <td>A children's book about a bear that discovers ...</td>\n",
              "      <td>you-are-loved-a-bear-odd-fruit-origin-story</td>\n",
              "      <td>89</td>\n",
              "      <td>2020-12-13 19:21:05</td>\n",
              "      <td>2020-12-29 22:00:16</td>\n",
              "      <td>2021-01-19 22:30:00</td>\n",
              "      <td>4839</td>\n",
              "      <td>4500.0</td>\n",
              "      <td>successful</td>\n",
              "      <td>2021-01-19 22:30:00</td>\n",
              "      <td>USD</td>\n",
              "      <td>True</td>\n",
              "      <td>True</td>\n",
              "      <td>1.000000</td>\n",
              "      <td>domestic</td>\n",
              "    </tr>\n",
              "    <tr>\n",
              "      <th>4</th>\n",
              "      <td>US</td>\n",
              "      <td>New York</td>\n",
              "      <td>Musical</td>\n",
              "      <td>What happens when the queen of darkness decide...</td>\n",
              "      <td>wish-a-mystical-magical-murderful-musical</td>\n",
              "      <td>30</td>\n",
              "      <td>2015-06-28 10:42:17</td>\n",
              "      <td>2015-07-02 17:49:19</td>\n",
              "      <td>2015-08-02 19:00:00</td>\n",
              "      <td>10703</td>\n",
              "      <td>10000.0</td>\n",
              "      <td>successful</td>\n",
              "      <td>2015-08-02 19:00:16</td>\n",
              "      <td>USD</td>\n",
              "      <td>True</td>\n",
              "      <td>False</td>\n",
              "      <td>1.000000</td>\n",
              "      <td>international</td>\n",
              "    </tr>\n",
              "  </tbody>\n",
              "</table>\n",
              "</div>"
            ],
            "text/plain": [
              "  country    location          category  \\\n",
              "0      US  Burlington             Glass   \n",
              "1      US    Vineyard            Events   \n",
              "2      BE     Antwerp            Comedy   \n",
              "3      US      Oxnard  Children's Books   \n",
              "4      US    New York           Musical   \n",
              "\n",
              "                                               blurb  \\\n",
              "0  I make these adorable planters myself.   Custo...   \n",
              "1  The Utah Valley Food Fest is a sampling event,...   \n",
              "2  Newly found cabaret project Bunny Burlesk Even...   \n",
              "3  A children's book about a bear that discovers ...   \n",
              "4  What happens when the queen of darkness decide...   \n",
              "\n",
              "                                                slug  n_backers  \\\n",
              "0  i-would-like-to-produce-and-sell-my-lightbulb-...          2   \n",
              "1                         utah-valley-food-fest-2019        188   \n",
              "2                         bbe-cabaret-burlesque-show         12   \n",
              "3        you-are-loved-a-bear-odd-fruit-origin-story         89   \n",
              "4          wish-a-mystical-magical-murderful-musical         30   \n",
              "\n",
              "           created_at         launch_date            deadline  pledged_$  \\\n",
              "0 2014-08-14 17:03:06 2014-08-20 14:16:23 2014-09-19 14:16:23         31   \n",
              "1 2019-07-17 22:31:20 2019-07-31 21:55:28 2019-08-17 02:01:00       3367   \n",
              "2 2018-10-01 04:32:40 2018-10-02 05:02:05 2018-12-01 05:02:05        380   \n",
              "3 2020-12-13 19:21:05 2020-12-29 22:00:16 2021-01-19 22:30:00       4839   \n",
              "4 2015-06-28 10:42:17 2015-07-02 17:49:19 2015-08-02 19:00:00      10703   \n",
              "\n",
              "      goal       state    state_changed_at currency  spotlight  staff_pick  \\\n",
              "0   2000.0      failed 2014-09-19 14:16:23      USD      False       False   \n",
              "1   3000.0  successful 2019-08-17 02:01:00      USD       True       False   \n",
              "2    300.0  successful 2018-12-01 05:02:05      EUR       True       False   \n",
              "3   4500.0  successful 2021-01-19 22:30:00      USD       True        True   \n",
              "4  10000.0  successful 2015-08-02 19:00:16      USD       True       False   \n",
              "\n",
              "   usd_rate       usd_type  \n",
              "0  1.000000       domestic  \n",
              "1  1.000000       domestic  \n",
              "2  1.159643  international  \n",
              "3  1.000000       domestic  \n",
              "4  1.000000  international  "
            ]
          },
          "execution_count": 295,
          "metadata": {},
          "output_type": "execute_result"
        }
      ],
      "source": [
        "df.head()"
      ]
    },
    {
      "cell_type": "code",
      "execution_count": null,
      "id": "47834e57-bbee-4ddc-8bb8-43ada34d6b09",
      "metadata": {
        "id": "47834e57-bbee-4ddc-8bb8-43ada34d6b09"
      },
      "outputs": [],
      "source": [
        "df['launch_week'] = [i.week for i in df['launch_date']]"
      ]
    },
    {
      "cell_type": "code",
      "execution_count": null,
      "id": "d5049b0c-3854-44b1-a91a-b2046409a36f",
      "metadata": {
        "id": "d5049b0c-3854-44b1-a91a-b2046409a36f"
      },
      "outputs": [],
      "source": [
        "test = df['deadline'][1] - df['launch_date'][1]"
      ]
    },
    {
      "cell_type": "code",
      "execution_count": null,
      "id": "7d9fd3f5-b1a4-4397-8fc5-9d6bac391fcd",
      "metadata": {
        "id": "7d9fd3f5-b1a4-4397-8fc5-9d6bac391fcd",
        "outputId": "e5baa536-1c85-46ef-9bec-7215df734c5b"
      },
      "outputs": [
        {
          "data": {
            "text/plain": [
              "16"
            ]
          },
          "execution_count": 291,
          "metadata": {},
          "output_type": "execute_result"
        }
      ],
      "source": [
        "test.days"
      ]
    },
    {
      "cell_type": "code",
      "execution_count": null,
      "id": "c893e294-3a51-45fa-9028-6799f59c847b",
      "metadata": {
        "id": "c893e294-3a51-45fa-9028-6799f59c847b",
        "outputId": "0248a73d-f546-4659-903b-03828809bacd"
      },
      "outputs": [
        {
          "data": {
            "text/plain": [
              "country                 25\n",
              "location             10834\n",
              "category               161\n",
              "blurb               130836\n",
              "slug                131581\n",
              "n_backers             3114\n",
              "created_at          131535\n",
              "launch_date         131489\n",
              "deadline            125114\n",
              "pledged_$            29267\n",
              "goal                  4541\n",
              "state                    2\n",
              "state_changed_at    125202\n",
              "currency                15\n",
              "spotlight                2\n",
              "staff_pick               2\n",
              "usd_rate             13715\n",
              "usd_type                 2\n",
              "dtype: int64"
            ]
          },
          "execution_count": 271,
          "metadata": {},
          "output_type": "execute_result"
        }
      ],
      "source": [
        "df.nunique()"
      ]
    },
    {
      "cell_type": "code",
      "execution_count": null,
      "id": "0bca8fae-a766-4004-a434-b9cc54d38d5e",
      "metadata": {
        "id": "0bca8fae-a766-4004-a434-b9cc54d38d5e",
        "outputId": "bbc063f8-df39-405d-9cb5-c338bb1f055d"
      },
      "outputs": [
        {
          "data": {
            "text/plain": [
              "datetime.datetime(2018, 5, 29, 9, 56, 42)"
            ]
          },
          "execution_count": 41,
          "metadata": {},
          "output_type": "execute_result"
        }
      ],
      "source": [
        "datetime.datetime.fromtimestamp(df['created_at'][1])"
      ]
    },
    {
      "cell_type": "code",
      "execution_count": null,
      "id": "e273fae0-9d6b-415b-b306-e42b419eb4d9",
      "metadata": {
        "id": "e273fae0-9d6b-415b-b306-e42b419eb4d9",
        "outputId": "1ba1b73c-2112-4796-f956-4d247568ce96"
      },
      "outputs": [
        {
          "ename": "AttributeError",
          "evalue": "'numpy.int64' object has no attribute 'to_pydatetime'",
          "output_type": "error",
          "traceback": [
            "\u001b[1;31m---------------------------------------------------------------------------\u001b[0m",
            "\u001b[1;31mAttributeError\u001b[0m                            Traceback (most recent call last)",
            "\u001b[1;32m<ipython-input-34-199596b11cee>\u001b[0m in \u001b[0;36m<module>\u001b[1;34m\u001b[0m\n\u001b[1;32m----> 1\u001b[1;33m \u001b[0mdf\u001b[0m\u001b[1;33m[\u001b[0m\u001b[1;34m'created_at'\u001b[0m\u001b[1;33m]\u001b[0m\u001b[1;33m[\u001b[0m\u001b[1;36m0\u001b[0m\u001b[1;33m]\u001b[0m\u001b[1;33m.\u001b[0m\u001b[0mto_pydatetime\u001b[0m\u001b[1;33m(\u001b[0m\u001b[1;33m)\u001b[0m\u001b[1;33m\u001b[0m\u001b[1;33m\u001b[0m\u001b[0m\n\u001b[0m",
            "\u001b[1;31mAttributeError\u001b[0m: 'numpy.int64' object has no attribute 'to_pydatetime'"
          ]
        }
      ],
      "source": [
        "df['created_at'][0].to_pydatetime()"
      ]
    },
    {
      "cell_type": "code",
      "execution_count": null,
      "id": "3c6ca4fd-df84-472e-9abf-2cca6bdf590e",
      "metadata": {
        "id": "3c6ca4fd-df84-472e-9abf-2cca6bdf590e"
      },
      "outputs": [],
      "source": [
        "d_test = pd.read_csv('CSVs/2022 (9).csv')"
      ]
    },
    {
      "cell_type": "code",
      "execution_count": null,
      "id": "283aa661-09b0-4aa6-8317-de53569f257c",
      "metadata": {
        "id": "283aa661-09b0-4aa6-8317-de53569f257c"
      },
      "outputs": [],
      "source": [
        "convert = lambda x: datetime.datetime.fromtimestamp(x)\n",
        "df['created_at'] = df['created_at'].apply(convert)\n",
        "# d_test['created_at'] = d_test['created_at'].apply(convert)\n",
        "# d_test['launched_at'] = d_test['launched_at'].apply(convert)"
      ]
    },
    {
      "cell_type": "code",
      "execution_count": null,
      "id": "8abe2468-a704-46f5-a0ca-806e37bde7f9",
      "metadata": {
        "id": "8abe2468-a704-46f5-a0ca-806e37bde7f9",
        "outputId": "7b12f96b-7d96-4c0a-84c9-286f94cec6fd"
      },
      "outputs": [
        {
          "data": {
            "text/plain": [
              "0        2014-08-14 17:03:06\n",
              "1        2019-07-17 22:31:20\n",
              "2        2018-10-01 04:32:40\n",
              "3        2020-12-13 19:21:05\n",
              "4        2015-06-28 10:42:17\n",
              "                 ...        \n",
              "223284   2015-07-28 19:00:33\n",
              "223285   2015-07-01 22:01:36\n",
              "223286   2015-07-15 12:23:38\n",
              "223287   2015-07-02 07:11:45\n",
              "223288   2017-07-26 08:49:18\n",
              "Name: created_at, Length: 222754, dtype: datetime64[ns]"
            ]
          },
          "execution_count": 242,
          "metadata": {},
          "output_type": "execute_result"
        }
      ],
      "source": [
        "df['created_at'] "
      ]
    },
    {
      "cell_type": "code",
      "execution_count": null,
      "id": "c9d95fdc-992d-4b10-9203-645be4c5fbed",
      "metadata": {
        "id": "c9d95fdc-992d-4b10-9203-645be4c5fbed",
        "outputId": "7c48251f-d7fa-473b-e124-e3bb2ccbb50c"
      },
      "outputs": [
        {
          "data": {
            "text/plain": [
              "1.592374e+09    1\n",
              "Name: last_update_published_at, dtype: int64"
            ]
          },
          "execution_count": 76,
          "metadata": {},
          "output_type": "execute_result"
        }
      ],
      "source": [
        "df['last_update_published_at'].value_counts()"
      ]
    },
    {
      "cell_type": "code",
      "execution_count": null,
      "id": "0133373d-4081-4737-b5f9-6d90390629ec",
      "metadata": {
        "id": "0133373d-4081-4737-b5f9-6d90390629ec",
        "outputId": "d8bf1f2d-93e0-4a5f-ae42-a5bfdee1a64c"
      },
      "outputs": [
        {
          "data": {
            "text/plain": [
              "Timedelta('216 days 11:17:00')"
            ]
          },
          "execution_count": 70,
          "metadata": {},
          "output_type": "execute_result"
        }
      ],
      "source": [
        "(d_test['deadline'][1] - d_test['created_at'][2])"
      ]
    },
    {
      "cell_type": "code",
      "execution_count": null,
      "id": "54be7b1c-e7cc-4e9d-9916-975edcae85b0",
      "metadata": {
        "id": "54be7b1c-e7cc-4e9d-9916-975edcae85b0"
      },
      "outputs": [],
      "source": [
        ""
      ]
    },
    {
      "cell_type": "code",
      "source": [
        ""
      ],
      "metadata": {
        "id": "UnoJp6SogpX0"
      },
      "id": "UnoJp6SogpX0",
      "execution_count": null,
      "outputs": []
    },
    {
      "cell_type": "code",
      "source": [
        "import pandas as pd\n",
        "from google.colab import files\n",
        "uploaded = files.upload()"
      ],
      "metadata": {
        "colab": {
          "resources": {
            "http://localhost:8080/nbextensions/google.colab/files.js": {
              "data": "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",
              "ok": true,
              "headers": [
                [
                  "content-type",
                  "application/javascript"
                ]
              ],
              "status": 200,
              "status_text": ""
            }
          },
          "base_uri": "https://localhost:8080/",
          "height": 73
        },
        "id": "N2Pmsrdzg74n",
        "outputId": "70d31d5b-c3c9-48b3-a24e-93f973e2613a"
      },
      "id": "N2Pmsrdzg74n",
      "execution_count": 1,
      "outputs": [
        {
          "output_type": "display_data",
          "data": {
            "text/html": [
              "\n",
              "     <input type=\"file\" id=\"files-c5ec26c3-ed45-401e-8523-b7bae0215325\" name=\"files[]\" multiple disabled\n",
              "        style=\"border:none\" />\n",
              "     <output id=\"result-c5ec26c3-ed45-401e-8523-b7bae0215325\">\n",
              "      Upload widget is only available when the cell has been executed in the\n",
              "      current browser session. Please rerun this cell to enable.\n",
              "      </output>\n",
              "      <script src=\"/nbextensions/google.colab/files.js\"></script> "
            ],
            "text/plain": [
              "<IPython.core.display.HTML object>"
            ]
          },
          "metadata": {}
        },
        {
          "output_type": "stream",
          "name": "stdout",
          "text": [
            "Saving Kick(2021-2022)_wrangled.csv to Kick(2021-2022)_wrangled (2).csv\n"
          ]
        }
      ]
    },
    {
      "cell_type": "code",
      "source": [
        "import pandas as pd"
      ],
      "metadata": {
        "id": "2pgq86jTdHkd"
      },
      "id": "2pgq86jTdHkd",
      "execution_count": 2,
      "outputs": []
    },
    {
      "cell_type": "code",
      "source": [
        "DF = pd.read_csv('Kick(2021-2022)_wrangled.csv').drop(columns=['Unnamed: 0'])"
      ],
      "metadata": {
        "id": "NHWY0auFZVFI"
      },
      "id": "NHWY0auFZVFI",
      "execution_count": 3,
      "outputs": []
    },
    {
      "cell_type": "code",
      "source": [
        "DF.head()"
      ],
      "metadata": {
        "colab": {
          "base_uri": "https://localhost:8080/",
          "height": 406
        },
        "id": "gy9prAI0hSvd",
        "outputId": "005df8ce-33f2-4882-d2fa-e7a7a3bfa187"
      },
      "id": "gy9prAI0hSvd",
      "execution_count": 4,
      "outputs": [
        {
          "output_type": "execute_result",
          "data": {
            "text/html": [
              "\n",
              "  <div id=\"df-15d7083a-cab6-4b73-b47b-101110704190\">\n",
              "    <div class=\"colab-df-container\">\n",
              "      <div>\n",
              "<style scoped>\n",
              "    .dataframe tbody tr th:only-of-type {\n",
              "        vertical-align: middle;\n",
              "    }\n",
              "\n",
              "    .dataframe tbody tr th {\n",
              "        vertical-align: top;\n",
              "    }\n",
              "\n",
              "    .dataframe thead th {\n",
              "        text-align: right;\n",
              "    }\n",
              "</style>\n",
              "<table border=\"1\" class=\"dataframe\">\n",
              "  <thead>\n",
              "    <tr style=\"text-align: right;\">\n",
              "      <th></th>\n",
              "      <th>country</th>\n",
              "      <th>city_name</th>\n",
              "      <th>category</th>\n",
              "      <th>description</th>\n",
              "      <th>project_name</th>\n",
              "      <th>goal</th>\n",
              "      <th>state</th>\n",
              "      <th>currency</th>\n",
              "      <th>launch_month_number_of_the_year</th>\n",
              "      <th>campaign_duration_in_days</th>\n",
              "    </tr>\n",
              "  </thead>\n",
              "  <tbody>\n",
              "    <tr>\n",
              "      <th>0</th>\n",
              "      <td>US</td>\n",
              "      <td>Burlington</td>\n",
              "      <td>Glass</td>\n",
              "      <td>I make these adorable planters myself.   Custo...</td>\n",
              "      <td>i would like to produce and sell my lightbulb ...</td>\n",
              "      <td>2000.0</td>\n",
              "      <td>failed</td>\n",
              "      <td>USD</td>\n",
              "      <td>8</td>\n",
              "      <td>30</td>\n",
              "    </tr>\n",
              "    <tr>\n",
              "      <th>1</th>\n",
              "      <td>US</td>\n",
              "      <td>Vineyard</td>\n",
              "      <td>Events</td>\n",
              "      <td>The Utah Valley Food Fest is a sampling event,...</td>\n",
              "      <td>utah valley food fest 2019</td>\n",
              "      <td>3000.0</td>\n",
              "      <td>successful</td>\n",
              "      <td>USD</td>\n",
              "      <td>7</td>\n",
              "      <td>16</td>\n",
              "    </tr>\n",
              "    <tr>\n",
              "      <th>2</th>\n",
              "      <td>BE</td>\n",
              "      <td>Antwerp</td>\n",
              "      <td>Comedy</td>\n",
              "      <td>Newly found cabaret project Bunny Burlesk Even...</td>\n",
              "      <td>bbe cabaret burlesque show</td>\n",
              "      <td>300.0</td>\n",
              "      <td>successful</td>\n",
              "      <td>EUR</td>\n",
              "      <td>10</td>\n",
              "      <td>60</td>\n",
              "    </tr>\n",
              "    <tr>\n",
              "      <th>3</th>\n",
              "      <td>US</td>\n",
              "      <td>Oxnard</td>\n",
              "      <td>Children's Books</td>\n",
              "      <td>A children's book about a bear that discovers ...</td>\n",
              "      <td>you are loved a bear odd fruit origin story</td>\n",
              "      <td>4500.0</td>\n",
              "      <td>successful</td>\n",
              "      <td>USD</td>\n",
              "      <td>12</td>\n",
              "      <td>21</td>\n",
              "    </tr>\n",
              "    <tr>\n",
              "      <th>4</th>\n",
              "      <td>US</td>\n",
              "      <td>New York</td>\n",
              "      <td>Musical</td>\n",
              "      <td>What happens when the queen of darkness decide...</td>\n",
              "      <td>wish a mystical magical murderful musical</td>\n",
              "      <td>10000.0</td>\n",
              "      <td>successful</td>\n",
              "      <td>USD</td>\n",
              "      <td>7</td>\n",
              "      <td>31</td>\n",
              "    </tr>\n",
              "  </tbody>\n",
              "</table>\n",
              "</div>\n",
              "      <button class=\"colab-df-convert\" onclick=\"convertToInteractive('df-15d7083a-cab6-4b73-b47b-101110704190')\"\n",
              "              title=\"Convert this dataframe to an interactive table.\"\n",
              "              style=\"display:none;\">\n",
              "        \n",
              "  <svg xmlns=\"http://www.w3.org/2000/svg\" height=\"24px\"viewBox=\"0 0 24 24\"\n",
              "       width=\"24px\">\n",
              "    <path d=\"M0 0h24v24H0V0z\" fill=\"none\"/>\n",
              "    <path d=\"M18.56 5.44l.94 2.06.94-2.06 2.06-.94-2.06-.94-.94-2.06-.94 2.06-2.06.94zm-11 1L8.5 8.5l.94-2.06 2.06-.94-2.06-.94L8.5 2.5l-.94 2.06-2.06.94zm10 10l.94 2.06.94-2.06 2.06-.94-2.06-.94-.94-2.06-.94 2.06-2.06.94z\"/><path d=\"M17.41 7.96l-1.37-1.37c-.4-.4-.92-.59-1.43-.59-.52 0-1.04.2-1.43.59L10.3 9.45l-7.72 7.72c-.78.78-.78 2.05 0 2.83L4 21.41c.39.39.9.59 1.41.59.51 0 1.02-.2 1.41-.59l7.78-7.78 2.81-2.81c.8-.78.8-2.07 0-2.86zM5.41 20L4 18.59l7.72-7.72 1.47 1.35L5.41 20z\"/>\n",
              "  </svg>\n",
              "      </button>\n",
              "      \n",
              "  <style>\n",
              "    .colab-df-container {\n",
              "      display:flex;\n",
              "      flex-wrap:wrap;\n",
              "      gap: 12px;\n",
              "    }\n",
              "\n",
              "    .colab-df-convert {\n",
              "      background-color: #E8F0FE;\n",
              "      border: none;\n",
              "      border-radius: 50%;\n",
              "      cursor: pointer;\n",
              "      display: none;\n",
              "      fill: #1967D2;\n",
              "      height: 32px;\n",
              "      padding: 0 0 0 0;\n",
              "      width: 32px;\n",
              "    }\n",
              "\n",
              "    .colab-df-convert:hover {\n",
              "      background-color: #E2EBFA;\n",
              "      box-shadow: 0px 1px 2px rgba(60, 64, 67, 0.3), 0px 1px 3px 1px rgba(60, 64, 67, 0.15);\n",
              "      fill: #174EA6;\n",
              "    }\n",
              "\n",
              "    [theme=dark] .colab-df-convert {\n",
              "      background-color: #3B4455;\n",
              "      fill: #D2E3FC;\n",
              "    }\n",
              "\n",
              "    [theme=dark] .colab-df-convert:hover {\n",
              "      background-color: #434B5C;\n",
              "      box-shadow: 0px 1px 3px 1px rgba(0, 0, 0, 0.15);\n",
              "      filter: drop-shadow(0px 1px 2px rgba(0, 0, 0, 0.3));\n",
              "      fill: #FFFFFF;\n",
              "    }\n",
              "  </style>\n",
              "\n",
              "      <script>\n",
              "        const buttonEl =\n",
              "          document.querySelector('#df-15d7083a-cab6-4b73-b47b-101110704190 button.colab-df-convert');\n",
              "        buttonEl.style.display =\n",
              "          google.colab.kernel.accessAllowed ? 'block' : 'none';\n",
              "\n",
              "        async function convertToInteractive(key) {\n",
              "          const element = document.querySelector('#df-15d7083a-cab6-4b73-b47b-101110704190');\n",
              "          const dataTable =\n",
              "            await google.colab.kernel.invokeFunction('convertToInteractive',\n",
              "                                                     [key], {});\n",
              "          if (!dataTable) return;\n",
              "\n",
              "          const docLinkHtml = 'Like what you see? Visit the ' +\n",
              "            '<a target=\"_blank\" href=https://colab.research.google.com/notebooks/data_table.ipynb>data table notebook</a>'\n",
              "            + ' to learn more about interactive tables.';\n",
              "          element.innerHTML = '';\n",
              "          dataTable['output_type'] = 'display_data';\n",
              "          await google.colab.output.renderOutput(dataTable, element);\n",
              "          const docLink = document.createElement('div');\n",
              "          docLink.innerHTML = docLinkHtml;\n",
              "          element.appendChild(docLink);\n",
              "        }\n",
              "      </script>\n",
              "    </div>\n",
              "  </div>\n",
              "  "
            ],
            "text/plain": [
              "  country  ... campaign_duration_in_days\n",
              "0      US  ...                        30\n",
              "1      US  ...                        16\n",
              "2      BE  ...                        60\n",
              "3      US  ...                        21\n",
              "4      US  ...                        31\n",
              "\n",
              "[5 rows x 10 columns]"
            ]
          },
          "metadata": {},
          "execution_count": 4
        }
      ]
    },
    {
      "cell_type": "code",
      "source": [
        "DF['description'] = [len(x) for x in DF['description']]\n",
        "DF['project_name'] = [len(x) for x in DF['project_name']]"
      ],
      "metadata": {
        "id": "LPbMcG6F9tpN"
      },
      "id": "LPbMcG6F9tpN",
      "execution_count": 5,
      "outputs": []
    },
    {
      "cell_type": "code",
      "source": [
        "DF.head()"
      ],
      "metadata": {
        "colab": {
          "base_uri": "https://localhost:8080/",
          "height": 206
        },
        "id": "mMaPYQd0Aurp",
        "outputId": "fda46cd5-7f20-47e4-b411-af0e7c71fe4b"
      },
      "id": "mMaPYQd0Aurp",
      "execution_count": 6,
      "outputs": [
        {
          "output_type": "execute_result",
          "data": {
            "text/html": [
              "\n",
              "  <div id=\"df-a4b5d8b4-ed9c-480b-8e69-e7df133a9ec1\">\n",
              "    <div class=\"colab-df-container\">\n",
              "      <div>\n",
              "<style scoped>\n",
              "    .dataframe tbody tr th:only-of-type {\n",
              "        vertical-align: middle;\n",
              "    }\n",
              "\n",
              "    .dataframe tbody tr th {\n",
              "        vertical-align: top;\n",
              "    }\n",
              "\n",
              "    .dataframe thead th {\n",
              "        text-align: right;\n",
              "    }\n",
              "</style>\n",
              "<table border=\"1\" class=\"dataframe\">\n",
              "  <thead>\n",
              "    <tr style=\"text-align: right;\">\n",
              "      <th></th>\n",
              "      <th>country</th>\n",
              "      <th>city_name</th>\n",
              "      <th>category</th>\n",
              "      <th>description</th>\n",
              "      <th>project_name</th>\n",
              "      <th>goal</th>\n",
              "      <th>state</th>\n",
              "      <th>currency</th>\n",
              "      <th>launch_month_number_of_the_year</th>\n",
              "      <th>campaign_duration_in_days</th>\n",
              "    </tr>\n",
              "  </thead>\n",
              "  <tbody>\n",
              "    <tr>\n",
              "      <th>0</th>\n",
              "      <td>US</td>\n",
              "      <td>Burlington</td>\n",
              "      <td>Glass</td>\n",
              "      <td>96</td>\n",
              "      <td>50</td>\n",
              "      <td>2000.0</td>\n",
              "      <td>failed</td>\n",
              "      <td>USD</td>\n",
              "      <td>8</td>\n",
              "      <td>30</td>\n",
              "    </tr>\n",
              "    <tr>\n",
              "      <th>1</th>\n",
              "      <td>US</td>\n",
              "      <td>Vineyard</td>\n",
              "      <td>Events</td>\n",
              "      <td>133</td>\n",
              "      <td>26</td>\n",
              "      <td>3000.0</td>\n",
              "      <td>successful</td>\n",
              "      <td>USD</td>\n",
              "      <td>7</td>\n",
              "      <td>16</td>\n",
              "    </tr>\n",
              "    <tr>\n",
              "      <th>2</th>\n",
              "      <td>BE</td>\n",
              "      <td>Antwerp</td>\n",
              "      <td>Comedy</td>\n",
              "      <td>134</td>\n",
              "      <td>26</td>\n",
              "      <td>300.0</td>\n",
              "      <td>successful</td>\n",
              "      <td>EUR</td>\n",
              "      <td>10</td>\n",
              "      <td>60</td>\n",
              "    </tr>\n",
              "    <tr>\n",
              "      <th>3</th>\n",
              "      <td>US</td>\n",
              "      <td>Oxnard</td>\n",
              "      <td>Children's Books</td>\n",
              "      <td>133</td>\n",
              "      <td>43</td>\n",
              "      <td>4500.0</td>\n",
              "      <td>successful</td>\n",
              "      <td>USD</td>\n",
              "      <td>12</td>\n",
              "      <td>21</td>\n",
              "    </tr>\n",
              "    <tr>\n",
              "      <th>4</th>\n",
              "      <td>US</td>\n",
              "      <td>New York</td>\n",
              "      <td>Musical</td>\n",
              "      <td>92</td>\n",
              "      <td>41</td>\n",
              "      <td>10000.0</td>\n",
              "      <td>successful</td>\n",
              "      <td>USD</td>\n",
              "      <td>7</td>\n",
              "      <td>31</td>\n",
              "    </tr>\n",
              "  </tbody>\n",
              "</table>\n",
              "</div>\n",
              "      <button class=\"colab-df-convert\" onclick=\"convertToInteractive('df-a4b5d8b4-ed9c-480b-8e69-e7df133a9ec1')\"\n",
              "              title=\"Convert this dataframe to an interactive table.\"\n",
              "              style=\"display:none;\">\n",
              "        \n",
              "  <svg xmlns=\"http://www.w3.org/2000/svg\" height=\"24px\"viewBox=\"0 0 24 24\"\n",
              "       width=\"24px\">\n",
              "    <path d=\"M0 0h24v24H0V0z\" fill=\"none\"/>\n",
              "    <path d=\"M18.56 5.44l.94 2.06.94-2.06 2.06-.94-2.06-.94-.94-2.06-.94 2.06-2.06.94zm-11 1L8.5 8.5l.94-2.06 2.06-.94-2.06-.94L8.5 2.5l-.94 2.06-2.06.94zm10 10l.94 2.06.94-2.06 2.06-.94-2.06-.94-.94-2.06-.94 2.06-2.06.94z\"/><path d=\"M17.41 7.96l-1.37-1.37c-.4-.4-.92-.59-1.43-.59-.52 0-1.04.2-1.43.59L10.3 9.45l-7.72 7.72c-.78.78-.78 2.05 0 2.83L4 21.41c.39.39.9.59 1.41.59.51 0 1.02-.2 1.41-.59l7.78-7.78 2.81-2.81c.8-.78.8-2.07 0-2.86zM5.41 20L4 18.59l7.72-7.72 1.47 1.35L5.41 20z\"/>\n",
              "  </svg>\n",
              "      </button>\n",
              "      \n",
              "  <style>\n",
              "    .colab-df-container {\n",
              "      display:flex;\n",
              "      flex-wrap:wrap;\n",
              "      gap: 12px;\n",
              "    }\n",
              "\n",
              "    .colab-df-convert {\n",
              "      background-color: #E8F0FE;\n",
              "      border: none;\n",
              "      border-radius: 50%;\n",
              "      cursor: pointer;\n",
              "      display: none;\n",
              "      fill: #1967D2;\n",
              "      height: 32px;\n",
              "      padding: 0 0 0 0;\n",
              "      width: 32px;\n",
              "    }\n",
              "\n",
              "    .colab-df-convert:hover {\n",
              "      background-color: #E2EBFA;\n",
              "      box-shadow: 0px 1px 2px rgba(60, 64, 67, 0.3), 0px 1px 3px 1px rgba(60, 64, 67, 0.15);\n",
              "      fill: #174EA6;\n",
              "    }\n",
              "\n",
              "    [theme=dark] .colab-df-convert {\n",
              "      background-color: #3B4455;\n",
              "      fill: #D2E3FC;\n",
              "    }\n",
              "\n",
              "    [theme=dark] .colab-df-convert:hover {\n",
              "      background-color: #434B5C;\n",
              "      box-shadow: 0px 1px 3px 1px rgba(0, 0, 0, 0.15);\n",
              "      filter: drop-shadow(0px 1px 2px rgba(0, 0, 0, 0.3));\n",
              "      fill: #FFFFFF;\n",
              "    }\n",
              "  </style>\n",
              "\n",
              "      <script>\n",
              "        const buttonEl =\n",
              "          document.querySelector('#df-a4b5d8b4-ed9c-480b-8e69-e7df133a9ec1 button.colab-df-convert');\n",
              "        buttonEl.style.display =\n",
              "          google.colab.kernel.accessAllowed ? 'block' : 'none';\n",
              "\n",
              "        async function convertToInteractive(key) {\n",
              "          const element = document.querySelector('#df-a4b5d8b4-ed9c-480b-8e69-e7df133a9ec1');\n",
              "          const dataTable =\n",
              "            await google.colab.kernel.invokeFunction('convertToInteractive',\n",
              "                                                     [key], {});\n",
              "          if (!dataTable) return;\n",
              "\n",
              "          const docLinkHtml = 'Like what you see? Visit the ' +\n",
              "            '<a target=\"_blank\" href=https://colab.research.google.com/notebooks/data_table.ipynb>data table notebook</a>'\n",
              "            + ' to learn more about interactive tables.';\n",
              "          element.innerHTML = '';\n",
              "          dataTable['output_type'] = 'display_data';\n",
              "          await google.colab.output.renderOutput(dataTable, element);\n",
              "          const docLink = document.createElement('div');\n",
              "          docLink.innerHTML = docLinkHtml;\n",
              "          element.appendChild(docLink);\n",
              "        }\n",
              "      </script>\n",
              "    </div>\n",
              "  </div>\n",
              "  "
            ],
            "text/plain": [
              "  country  ... campaign_duration_in_days\n",
              "0      US  ...                        30\n",
              "1      US  ...                        16\n",
              "2      BE  ...                        60\n",
              "3      US  ...                        21\n",
              "4      US  ...                        31\n",
              "\n",
              "[5 rows x 10 columns]"
            ]
          },
          "metadata": {},
          "execution_count": 6
        }
      ]
    },
    {
      "cell_type": "code",
      "source": [
        "DF['state'] = [x.replace('failed', '0') for x in DF['state']]"
      ],
      "metadata": {
        "id": "VCLltFHaA81x"
      },
      "id": "VCLltFHaA81x",
      "execution_count": 7,
      "outputs": []
    },
    {
      "cell_type": "code",
      "source": [
        "DF['state'] = [x.replace('successful', '1') for x in DF['state']]"
      ],
      "metadata": {
        "id": "Itk9OLBnCMtU"
      },
      "id": "Itk9OLBnCMtU",
      "execution_count": 8,
      "outputs": []
    },
    {
      "cell_type": "code",
      "source": [
        "DF['state'].astype(int)"
      ],
      "metadata": {
        "colab": {
          "base_uri": "https://localhost:8080/"
        },
        "id": "crkgFmcDCQSj",
        "outputId": "8e57b024-ead9-44ea-d686-f29be714fc7e"
      },
      "id": "crkgFmcDCQSj",
      "execution_count": 9,
      "outputs": [
        {
          "output_type": "execute_result",
          "data": {
            "text/plain": [
              "0         0\n",
              "1         1\n",
              "2         1\n",
              "3         1\n",
              "4         1\n",
              "         ..\n",
              "208210    0\n",
              "208211    0\n",
              "208212    0\n",
              "208213    0\n",
              "208214    1\n",
              "Name: state, Length: 208215, dtype: int64"
            ]
          },
          "metadata": {},
          "execution_count": 9
        }
      ]
    },
    {
      "cell_type": "code",
      "source": [
        "DF.head()"
      ],
      "metadata": {
        "colab": {
          "base_uri": "https://localhost:8080/",
          "height": 206
        },
        "id": "bGrxUpZzCZzJ",
        "outputId": "e0a4c744-2920-46f1-9206-fa4b7a508adf"
      },
      "id": "bGrxUpZzCZzJ",
      "execution_count": 10,
      "outputs": [
        {
          "output_type": "execute_result",
          "data": {
            "text/html": [
              "\n",
              "  <div id=\"df-1c74b9f4-8304-41c4-a811-a19508d5c5a2\">\n",
              "    <div class=\"colab-df-container\">\n",
              "      <div>\n",
              "<style scoped>\n",
              "    .dataframe tbody tr th:only-of-type {\n",
              "        vertical-align: middle;\n",
              "    }\n",
              "\n",
              "    .dataframe tbody tr th {\n",
              "        vertical-align: top;\n",
              "    }\n",
              "\n",
              "    .dataframe thead th {\n",
              "        text-align: right;\n",
              "    }\n",
              "</style>\n",
              "<table border=\"1\" class=\"dataframe\">\n",
              "  <thead>\n",
              "    <tr style=\"text-align: right;\">\n",
              "      <th></th>\n",
              "      <th>country</th>\n",
              "      <th>city_name</th>\n",
              "      <th>category</th>\n",
              "      <th>description</th>\n",
              "      <th>project_name</th>\n",
              "      <th>goal</th>\n",
              "      <th>state</th>\n",
              "      <th>currency</th>\n",
              "      <th>launch_month_number_of_the_year</th>\n",
              "      <th>campaign_duration_in_days</th>\n",
              "    </tr>\n",
              "  </thead>\n",
              "  <tbody>\n",
              "    <tr>\n",
              "      <th>0</th>\n",
              "      <td>US</td>\n",
              "      <td>Burlington</td>\n",
              "      <td>Glass</td>\n",
              "      <td>96</td>\n",
              "      <td>50</td>\n",
              "      <td>2000.0</td>\n",
              "      <td>0</td>\n",
              "      <td>USD</td>\n",
              "      <td>8</td>\n",
              "      <td>30</td>\n",
              "    </tr>\n",
              "    <tr>\n",
              "      <th>1</th>\n",
              "      <td>US</td>\n",
              "      <td>Vineyard</td>\n",
              "      <td>Events</td>\n",
              "      <td>133</td>\n",
              "      <td>26</td>\n",
              "      <td>3000.0</td>\n",
              "      <td>1</td>\n",
              "      <td>USD</td>\n",
              "      <td>7</td>\n",
              "      <td>16</td>\n",
              "    </tr>\n",
              "    <tr>\n",
              "      <th>2</th>\n",
              "      <td>BE</td>\n",
              "      <td>Antwerp</td>\n",
              "      <td>Comedy</td>\n",
              "      <td>134</td>\n",
              "      <td>26</td>\n",
              "      <td>300.0</td>\n",
              "      <td>1</td>\n",
              "      <td>EUR</td>\n",
              "      <td>10</td>\n",
              "      <td>60</td>\n",
              "    </tr>\n",
              "    <tr>\n",
              "      <th>3</th>\n",
              "      <td>US</td>\n",
              "      <td>Oxnard</td>\n",
              "      <td>Children's Books</td>\n",
              "      <td>133</td>\n",
              "      <td>43</td>\n",
              "      <td>4500.0</td>\n",
              "      <td>1</td>\n",
              "      <td>USD</td>\n",
              "      <td>12</td>\n",
              "      <td>21</td>\n",
              "    </tr>\n",
              "    <tr>\n",
              "      <th>4</th>\n",
              "      <td>US</td>\n",
              "      <td>New York</td>\n",
              "      <td>Musical</td>\n",
              "      <td>92</td>\n",
              "      <td>41</td>\n",
              "      <td>10000.0</td>\n",
              "      <td>1</td>\n",
              "      <td>USD</td>\n",
              "      <td>7</td>\n",
              "      <td>31</td>\n",
              "    </tr>\n",
              "  </tbody>\n",
              "</table>\n",
              "</div>\n",
              "      <button class=\"colab-df-convert\" onclick=\"convertToInteractive('df-1c74b9f4-8304-41c4-a811-a19508d5c5a2')\"\n",
              "              title=\"Convert this dataframe to an interactive table.\"\n",
              "              style=\"display:none;\">\n",
              "        \n",
              "  <svg xmlns=\"http://www.w3.org/2000/svg\" height=\"24px\"viewBox=\"0 0 24 24\"\n",
              "       width=\"24px\">\n",
              "    <path d=\"M0 0h24v24H0V0z\" fill=\"none\"/>\n",
              "    <path d=\"M18.56 5.44l.94 2.06.94-2.06 2.06-.94-2.06-.94-.94-2.06-.94 2.06-2.06.94zm-11 1L8.5 8.5l.94-2.06 2.06-.94-2.06-.94L8.5 2.5l-.94 2.06-2.06.94zm10 10l.94 2.06.94-2.06 2.06-.94-2.06-.94-.94-2.06-.94 2.06-2.06.94z\"/><path d=\"M17.41 7.96l-1.37-1.37c-.4-.4-.92-.59-1.43-.59-.52 0-1.04.2-1.43.59L10.3 9.45l-7.72 7.72c-.78.78-.78 2.05 0 2.83L4 21.41c.39.39.9.59 1.41.59.51 0 1.02-.2 1.41-.59l7.78-7.78 2.81-2.81c.8-.78.8-2.07 0-2.86zM5.41 20L4 18.59l7.72-7.72 1.47 1.35L5.41 20z\"/>\n",
              "  </svg>\n",
              "      </button>\n",
              "      \n",
              "  <style>\n",
              "    .colab-df-container {\n",
              "      display:flex;\n",
              "      flex-wrap:wrap;\n",
              "      gap: 12px;\n",
              "    }\n",
              "\n",
              "    .colab-df-convert {\n",
              "      background-color: #E8F0FE;\n",
              "      border: none;\n",
              "      border-radius: 50%;\n",
              "      cursor: pointer;\n",
              "      display: none;\n",
              "      fill: #1967D2;\n",
              "      height: 32px;\n",
              "      padding: 0 0 0 0;\n",
              "      width: 32px;\n",
              "    }\n",
              "\n",
              "    .colab-df-convert:hover {\n",
              "      background-color: #E2EBFA;\n",
              "      box-shadow: 0px 1px 2px rgba(60, 64, 67, 0.3), 0px 1px 3px 1px rgba(60, 64, 67, 0.15);\n",
              "      fill: #174EA6;\n",
              "    }\n",
              "\n",
              "    [theme=dark] .colab-df-convert {\n",
              "      background-color: #3B4455;\n",
              "      fill: #D2E3FC;\n",
              "    }\n",
              "\n",
              "    [theme=dark] .colab-df-convert:hover {\n",
              "      background-color: #434B5C;\n",
              "      box-shadow: 0px 1px 3px 1px rgba(0, 0, 0, 0.15);\n",
              "      filter: drop-shadow(0px 1px 2px rgba(0, 0, 0, 0.3));\n",
              "      fill: #FFFFFF;\n",
              "    }\n",
              "  </style>\n",
              "\n",
              "      <script>\n",
              "        const buttonEl =\n",
              "          document.querySelector('#df-1c74b9f4-8304-41c4-a811-a19508d5c5a2 button.colab-df-convert');\n",
              "        buttonEl.style.display =\n",
              "          google.colab.kernel.accessAllowed ? 'block' : 'none';\n",
              "\n",
              "        async function convertToInteractive(key) {\n",
              "          const element = document.querySelector('#df-1c74b9f4-8304-41c4-a811-a19508d5c5a2');\n",
              "          const dataTable =\n",
              "            await google.colab.kernel.invokeFunction('convertToInteractive',\n",
              "                                                     [key], {});\n",
              "          if (!dataTable) return;\n",
              "\n",
              "          const docLinkHtml = 'Like what you see? Visit the ' +\n",
              "            '<a target=\"_blank\" href=https://colab.research.google.com/notebooks/data_table.ipynb>data table notebook</a>'\n",
              "            + ' to learn more about interactive tables.';\n",
              "          element.innerHTML = '';\n",
              "          dataTable['output_type'] = 'display_data';\n",
              "          await google.colab.output.renderOutput(dataTable, element);\n",
              "          const docLink = document.createElement('div');\n",
              "          docLink.innerHTML = docLinkHtml;\n",
              "          element.appendChild(docLink);\n",
              "        }\n",
              "      </script>\n",
              "    </div>\n",
              "  </div>\n",
              "  "
            ],
            "text/plain": [
              "  country  ... campaign_duration_in_days\n",
              "0      US  ...                        30\n",
              "1      US  ...                        16\n",
              "2      BE  ...                        60\n",
              "3      US  ...                        21\n",
              "4      US  ...                        31\n",
              "\n",
              "[5 rows x 10 columns]"
            ]
          },
          "metadata": {},
          "execution_count": 10
        }
      ]
    },
    {
      "cell_type": "code",
      "source": [
        "from sklearn.feature_extraction.text import CountVectorizer\n",
        "from sklearn.feature_extraction.text import TfidfVectorizer"
      ],
      "metadata": {
        "id": "KlmSA4pHXA1Q"
      },
      "id": "KlmSA4pHXA1Q",
      "execution_count": 11,
      "outputs": []
    },
    {
      "cell_type": "code",
      "source": [
        "# DF = pd.read_csv('Kick(2021-2022)_wrangled.csv').drop(columns=['Unnamed: 0'])"
      ],
      "metadata": {
        "id": "Nzdvyv6TaeC4"
      },
      "id": "Nzdvyv6TaeC4",
      "execution_count": 11,
      "outputs": []
    },
    {
      "cell_type": "code",
      "source": [
        "vectorizer = CountVectorizer()\n",
        "test = vectorizer.fit_transform(DF['country'])\n",
        "DF['country'] = test.todense()"
      ],
      "metadata": {
        "id": "Zkp-4EbIX8gs"
      },
      "id": "Zkp-4EbIX8gs",
      "execution_count": 12,
      "outputs": []
    },
    {
      "cell_type": "code",
      "source": [
        "vectorizer2 = CountVectorizer()\n",
        "test2 = vectorizer2.fit_transform(DF['city_name'])\n",
        "DF['city_name'] = test2.todense()"
      ],
      "metadata": {
        "id": "U92LmUNxbMDy"
      },
      "id": "U92LmUNxbMDy",
      "execution_count": null,
      "outputs": []
    },
    {
      "cell_type": "code",
      "source": [
        "vectorizer3 = CountVectorizer()\n",
        "test3 = vectorizer3.fit_transform(DF['category'])\n",
        "DF['category'] = test3.todense()"
      ],
      "metadata": {
        "id": "0eZAfFp3bVBW"
      },
      "id": "0eZAfFp3bVBW",
      "execution_count": null,
      "outputs": []
    },
    {
      "cell_type": "code",
      "source": [
        "DF.head()"
      ],
      "metadata": {
        "id": "hKcZEFzaa_wB"
      },
      "id": "hKcZEFzaa_wB",
      "execution_count": null,
      "outputs": []
    },
    {
      "cell_type": "code",
      "source": [
        "DF['country'].nunique()"
      ],
      "metadata": {
        "colab": {
          "base_uri": "https://localhost:8080/"
        },
        "id": "ua1XW5btbDFh",
        "outputId": "89fc435d-6728-4c91-cc92-3dfafefcc790"
      },
      "id": "ua1XW5btbDFh",
      "execution_count": 47,
      "outputs": [
        {
          "output_type": "execute_result",
          "data": {
            "text/plain": [
              "2"
            ]
          },
          "metadata": {},
          "execution_count": 47
        }
      ]
    },
    {
      "cell_type": "code",
      "source": [
        "DF.dtypes"
      ],
      "metadata": {
        "colab": {
          "base_uri": "https://localhost:8080/"
        },
        "id": "wL8O48vDYu9Q",
        "outputId": "a936a9e6-ad53-4a31-8404-6f8de4acac3a"
      },
      "id": "wL8O48vDYu9Q",
      "execution_count": 46,
      "outputs": [
        {
          "output_type": "execute_result",
          "data": {
            "text/plain": [
              "country                              int64\n",
              "city_name                           object\n",
              "category                            object\n",
              "description                         object\n",
              "project_name                        object\n",
              "goal                               float64\n",
              "state                               object\n",
              "currency                            object\n",
              "launch_month_number_of_the_year      int64\n",
              "campaign_duration_in_days            int64\n",
              "dtype: object"
            ]
          },
          "metadata": {},
          "execution_count": 46
        }
      ]
    },
    {
      "cell_type": "code",
      "source": [
        "from tensorflow.keras.models import Sequential\n",
        "from tensorflow.keras.layers import Dense\n",
        "from sklearn.model_selection import train_test_split"
      ],
      "metadata": {
        "id": "VAG4QjEBhZDl"
      },
      "id": "VAG4QjEBhZDl",
      "execution_count": 46,
      "outputs": []
    },
    {
      "cell_type": "code",
      "source": [
        "X = DF.drop(columns='state')\n",
        "y = DF['state']"
      ],
      "metadata": {
        "id": "Lvtz2tqGC5bj"
      },
      "id": "Lvtz2tqGC5bj",
      "execution_count": 47,
      "outputs": []
    },
    {
      "cell_type": "code",
      "source": [
        "X_train, X_test = train_test_split(X, test_size=.25, train_size=.75, random_state=42)\n",
        "y_train, y_test = train_test_split(y, test_size=.25, train_size=.75, random_state=42)"
      ],
      "metadata": {
        "id": "z31dpsubCkhu"
      },
      "id": "z31dpsubCkhu",
      "execution_count": 48,
      "outputs": []
    },
    {
      "cell_type": "code",
      "source": [
        "print(X_train.shape)\n",
        "print(y_train.shape)\n",
        "print(X_test.shape)\n",
        "print(y_test.shape)"
      ],
      "metadata": {
        "colab": {
          "base_uri": "https://localhost:8080/"
        },
        "id": "bjiQCOkrE36M",
        "outputId": "191bdf5b-f28e-4659-85f4-e47e96a20a15"
      },
      "id": "bjiQCOkrE36M",
      "execution_count": 49,
      "outputs": [
        {
          "output_type": "stream",
          "name": "stdout",
          "text": [
            "(156161, 9)\n",
            "(156161,)\n",
            "(52054, 9)\n",
            "(52054,)\n"
          ]
        }
      ]
    },
    {
      "cell_type": "code",
      "source": [
        "def make_model():\n",
        "  model = Sequential()\n",
        "  model.add(Dense(30, activation='relu', input_shape=(156161, 9)))\n",
        "  model.add(Dense(100, activation='relu'))\n",
        "  model.add(Dense(1, activation='sigmoid'))\n",
        "  model.compile(loss='binary_crossentropy',\n",
        "                optimizer='adam', \n",
        "                metrics=['accuracy'])\n",
        "  return model"
      ],
      "metadata": {
        "id": "2agW2IEP84R1"
      },
      "id": "2agW2IEP84R1",
      "execution_count": 50,
      "outputs": []
    },
    {
      "cell_type": "code",
      "source": [
        "model = make_model()"
      ],
      "metadata": {
        "id": "9JXSY8_-Fstj"
      },
      "id": "9JXSY8_-Fstj",
      "execution_count": 51,
      "outputs": []
    },
    {
      "cell_type": "code",
      "source": [
        "import tensorflow as tf\n",
        "import numpy as np\n",
        "X_train = np.array(X_train)\n",
        "y_train = np.array(y_train)\n",
        "X_test = np.array(X_test)\n",
        "y_test = np.array(y_test)"
      ],
      "metadata": {
        "id": "Ds622d30HmjJ"
      },
      "id": "Ds622d30HmjJ",
      "execution_count": 52,
      "outputs": []
    },
    {
      "cell_type": "code",
      "source": [
        "tf.convert_to_tensor(X_train)"
      ],
      "metadata": {
        "colab": {
          "base_uri": "https://localhost:8080/",
          "height": 312
        },
        "id": "CkflLd5sI5Oh",
        "outputId": "7c1983e2-bf96-4430-b8a6-b12f726697dc"
      },
      "id": "CkflLd5sI5Oh",
      "execution_count": 63,
      "outputs": [
        {
          "output_type": "error",
          "ename": "ValueError",
          "evalue": "ignored",
          "traceback": [
            "\u001b[0;31m---------------------------------------------------------------------------\u001b[0m",
            "\u001b[0;31mValueError\u001b[0m                                Traceback (most recent call last)",
            "\u001b[0;32m<ipython-input-63-f613e5d2068d>\u001b[0m in \u001b[0;36m<module>\u001b[0;34m()\u001b[0m\n\u001b[0;32m----> 1\u001b[0;31m \u001b[0mtf\u001b[0m\u001b[0;34m.\u001b[0m\u001b[0mconvert_to_tensor\u001b[0m\u001b[0;34m(\u001b[0m\u001b[0mX_train\u001b[0m\u001b[0;34m)\u001b[0m\u001b[0;34m\u001b[0m\u001b[0;34m\u001b[0m\u001b[0m\n\u001b[0m",
            "\u001b[0;32m/usr/local/lib/python3.7/dist-packages/tensorflow/python/util/traceback_utils.py\u001b[0m in \u001b[0;36merror_handler\u001b[0;34m(*args, **kwargs)\u001b[0m\n\u001b[1;32m    151\u001b[0m     \u001b[0;32mexcept\u001b[0m \u001b[0mException\u001b[0m \u001b[0;32mas\u001b[0m \u001b[0me\u001b[0m\u001b[0;34m:\u001b[0m\u001b[0;34m\u001b[0m\u001b[0;34m\u001b[0m\u001b[0m\n\u001b[1;32m    152\u001b[0m       \u001b[0mfiltered_tb\u001b[0m \u001b[0;34m=\u001b[0m \u001b[0m_process_traceback_frames\u001b[0m\u001b[0;34m(\u001b[0m\u001b[0me\u001b[0m\u001b[0;34m.\u001b[0m\u001b[0m__traceback__\u001b[0m\u001b[0;34m)\u001b[0m\u001b[0;34m\u001b[0m\u001b[0;34m\u001b[0m\u001b[0m\n\u001b[0;32m--> 153\u001b[0;31m       \u001b[0;32mraise\u001b[0m \u001b[0me\u001b[0m\u001b[0;34m.\u001b[0m\u001b[0mwith_traceback\u001b[0m\u001b[0;34m(\u001b[0m\u001b[0mfiltered_tb\u001b[0m\u001b[0;34m)\u001b[0m \u001b[0;32mfrom\u001b[0m \u001b[0;32mNone\u001b[0m\u001b[0;34m\u001b[0m\u001b[0;34m\u001b[0m\u001b[0m\n\u001b[0m\u001b[1;32m    154\u001b[0m     \u001b[0;32mfinally\u001b[0m\u001b[0;34m:\u001b[0m\u001b[0;34m\u001b[0m\u001b[0;34m\u001b[0m\u001b[0m\n\u001b[1;32m    155\u001b[0m       \u001b[0;32mdel\u001b[0m \u001b[0mfiltered_tb\u001b[0m\u001b[0;34m\u001b[0m\u001b[0;34m\u001b[0m\u001b[0m\n",
            "\u001b[0;32m/usr/local/lib/python3.7/dist-packages/tensorflow/python/framework/constant_op.py\u001b[0m in \u001b[0;36mconvert_to_eager_tensor\u001b[0;34m(value, ctx, dtype)\u001b[0m\n\u001b[1;32m    104\u001b[0m       \u001b[0mdtype\u001b[0m \u001b[0;34m=\u001b[0m \u001b[0mdtypes\u001b[0m\u001b[0;34m.\u001b[0m\u001b[0mas_dtype\u001b[0m\u001b[0;34m(\u001b[0m\u001b[0mdtype\u001b[0m\u001b[0;34m)\u001b[0m\u001b[0;34m.\u001b[0m\u001b[0mas_datatype_enum\u001b[0m\u001b[0;34m\u001b[0m\u001b[0;34m\u001b[0m\u001b[0m\n\u001b[1;32m    105\u001b[0m   \u001b[0mctx\u001b[0m\u001b[0;34m.\u001b[0m\u001b[0mensure_initialized\u001b[0m\u001b[0;34m(\u001b[0m\u001b[0;34m)\u001b[0m\u001b[0;34m\u001b[0m\u001b[0;34m\u001b[0m\u001b[0m\n\u001b[0;32m--> 106\u001b[0;31m   \u001b[0;32mreturn\u001b[0m \u001b[0mops\u001b[0m\u001b[0;34m.\u001b[0m\u001b[0mEagerTensor\u001b[0m\u001b[0;34m(\u001b[0m\u001b[0mvalue\u001b[0m\u001b[0;34m,\u001b[0m \u001b[0mctx\u001b[0m\u001b[0;34m.\u001b[0m\u001b[0mdevice_name\u001b[0m\u001b[0;34m,\u001b[0m \u001b[0mdtype\u001b[0m\u001b[0;34m)\u001b[0m\u001b[0;34m\u001b[0m\u001b[0;34m\u001b[0m\u001b[0m\n\u001b[0m\u001b[1;32m    107\u001b[0m \u001b[0;34m\u001b[0m\u001b[0m\n\u001b[1;32m    108\u001b[0m \u001b[0;34m\u001b[0m\u001b[0m\n",
            "\u001b[0;31mValueError\u001b[0m: Failed to convert a NumPy array to a Tensor (Unsupported object type int)."
          ]
        }
      ]
    },
    {
      "cell_type": "code",
      "source": [
        "model.fit(x=X_train,\n",
        "          y=y_train,\n",
        "          epochs=5,\n",
        "          validation_data=(X_test, y_test),\n",
        "          callbacks=['accuracy'])"
      ],
      "metadata": {
        "colab": {
          "base_uri": "https://localhost:8080/",
          "height": 346
        },
        "id": "aRsVeKCGFztr",
        "outputId": "b26c915c-4571-47c6-a5bf-3915b31a2497"
      },
      "id": "aRsVeKCGFztr",
      "execution_count": 54,
      "outputs": [
        {
          "output_type": "error",
          "ename": "ValueError",
          "evalue": "ignored",
          "traceback": [
            "\u001b[0;31m---------------------------------------------------------------------------\u001b[0m",
            "\u001b[0;31mValueError\u001b[0m                                Traceback (most recent call last)",
            "\u001b[0;32m<ipython-input-54-b7b4306764db>\u001b[0m in \u001b[0;36m<module>\u001b[0;34m()\u001b[0m\n\u001b[1;32m      3\u001b[0m           \u001b[0mepochs\u001b[0m\u001b[0;34m=\u001b[0m\u001b[0;36m5\u001b[0m\u001b[0;34m,\u001b[0m\u001b[0;34m\u001b[0m\u001b[0;34m\u001b[0m\u001b[0m\n\u001b[1;32m      4\u001b[0m           \u001b[0mvalidation_data\u001b[0m\u001b[0;34m=\u001b[0m\u001b[0;34m(\u001b[0m\u001b[0mX_test\u001b[0m\u001b[0;34m,\u001b[0m \u001b[0my_test\u001b[0m\u001b[0;34m)\u001b[0m\u001b[0;34m,\u001b[0m\u001b[0;34m\u001b[0m\u001b[0;34m\u001b[0m\u001b[0m\n\u001b[0;32m----> 5\u001b[0;31m           callbacks=['accuracy'])\n\u001b[0m",
            "\u001b[0;32m/usr/local/lib/python3.7/dist-packages/keras/utils/traceback_utils.py\u001b[0m in \u001b[0;36merror_handler\u001b[0;34m(*args, **kwargs)\u001b[0m\n\u001b[1;32m     65\u001b[0m     \u001b[0;32mexcept\u001b[0m \u001b[0mException\u001b[0m \u001b[0;32mas\u001b[0m \u001b[0me\u001b[0m\u001b[0;34m:\u001b[0m  \u001b[0;31m# pylint: disable=broad-except\u001b[0m\u001b[0;34m\u001b[0m\u001b[0;34m\u001b[0m\u001b[0m\n\u001b[1;32m     66\u001b[0m       \u001b[0mfiltered_tb\u001b[0m \u001b[0;34m=\u001b[0m \u001b[0m_process_traceback_frames\u001b[0m\u001b[0;34m(\u001b[0m\u001b[0me\u001b[0m\u001b[0;34m.\u001b[0m\u001b[0m__traceback__\u001b[0m\u001b[0;34m)\u001b[0m\u001b[0;34m\u001b[0m\u001b[0;34m\u001b[0m\u001b[0m\n\u001b[0;32m---> 67\u001b[0;31m       \u001b[0;32mraise\u001b[0m \u001b[0me\u001b[0m\u001b[0;34m.\u001b[0m\u001b[0mwith_traceback\u001b[0m\u001b[0;34m(\u001b[0m\u001b[0mfiltered_tb\u001b[0m\u001b[0;34m)\u001b[0m \u001b[0;32mfrom\u001b[0m \u001b[0;32mNone\u001b[0m\u001b[0;34m\u001b[0m\u001b[0;34m\u001b[0m\u001b[0m\n\u001b[0m\u001b[1;32m     68\u001b[0m     \u001b[0;32mfinally\u001b[0m\u001b[0;34m:\u001b[0m\u001b[0;34m\u001b[0m\u001b[0;34m\u001b[0m\u001b[0m\n\u001b[1;32m     69\u001b[0m       \u001b[0;32mdel\u001b[0m \u001b[0mfiltered_tb\u001b[0m\u001b[0;34m\u001b[0m\u001b[0;34m\u001b[0m\u001b[0m\n",
            "\u001b[0;32m/usr/local/lib/python3.7/dist-packages/tensorflow/python/framework/constant_op.py\u001b[0m in \u001b[0;36mconvert_to_eager_tensor\u001b[0;34m(value, ctx, dtype)\u001b[0m\n\u001b[1;32m    104\u001b[0m       \u001b[0mdtype\u001b[0m \u001b[0;34m=\u001b[0m \u001b[0mdtypes\u001b[0m\u001b[0;34m.\u001b[0m\u001b[0mas_dtype\u001b[0m\u001b[0;34m(\u001b[0m\u001b[0mdtype\u001b[0m\u001b[0;34m)\u001b[0m\u001b[0;34m.\u001b[0m\u001b[0mas_datatype_enum\u001b[0m\u001b[0;34m\u001b[0m\u001b[0;34m\u001b[0m\u001b[0m\n\u001b[1;32m    105\u001b[0m   \u001b[0mctx\u001b[0m\u001b[0;34m.\u001b[0m\u001b[0mensure_initialized\u001b[0m\u001b[0;34m(\u001b[0m\u001b[0;34m)\u001b[0m\u001b[0;34m\u001b[0m\u001b[0;34m\u001b[0m\u001b[0m\n\u001b[0;32m--> 106\u001b[0;31m   \u001b[0;32mreturn\u001b[0m \u001b[0mops\u001b[0m\u001b[0;34m.\u001b[0m\u001b[0mEagerTensor\u001b[0m\u001b[0;34m(\u001b[0m\u001b[0mvalue\u001b[0m\u001b[0;34m,\u001b[0m \u001b[0mctx\u001b[0m\u001b[0;34m.\u001b[0m\u001b[0mdevice_name\u001b[0m\u001b[0;34m,\u001b[0m \u001b[0mdtype\u001b[0m\u001b[0;34m)\u001b[0m\u001b[0;34m\u001b[0m\u001b[0;34m\u001b[0m\u001b[0m\n\u001b[0m\u001b[1;32m    107\u001b[0m \u001b[0;34m\u001b[0m\u001b[0m\n\u001b[1;32m    108\u001b[0m \u001b[0;34m\u001b[0m\u001b[0m\n",
            "\u001b[0;31mValueError\u001b[0m: Failed to convert a NumPy array to a Tensor (Unsupported object type int)."
          ]
        }
      ]
    },
    {
      "cell_type": "code",
      "source": [
        ""
      ],
      "metadata": {
        "id": "Gj-hfSF0GKfQ"
      },
      "id": "Gj-hfSF0GKfQ",
      "execution_count": null,
      "outputs": []
    }
  ],
  "metadata": {
    "kernelspec": {
      "display_name": "Python 3",
      "language": "python",
      "name": "python3"
    },
    "language_info": {
      "codemirror_mode": {
        "name": "ipython",
        "version": 3
      },
      "file_extension": ".py",
      "mimetype": "text/x-python",
      "name": "python",
      "nbconvert_exporter": "python",
      "pygments_lexer": "ipython3",
      "version": "3.8.8"
    },
    "colab": {
      "name": "ConcatData.ipynb",
      "provenance": [],
      "collapsed_sections": []
    },
    "accelerator": "GPU"
  },
  "nbformat": 4,
  "nbformat_minor": 5
}