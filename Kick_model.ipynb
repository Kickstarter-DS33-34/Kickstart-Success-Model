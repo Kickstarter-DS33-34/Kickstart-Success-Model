{
 "cells": [
  {
   "cell_type": "code",
   "execution_count": 369,
   "id": "54be7b1c-e7cc-4e9d-9916-975edcae85b0",
   "metadata": {},
   "outputs": [
    {
     "name": "stdout",
     "output_type": "stream",
     "text": [
      "Looking in links: https://download.pytorch.org/whl/torch_stable.html\n",
      "Collecting torch==1.8.1+cu111\n",
      "  Downloading https://download.pytorch.org/whl/cu111/torch-1.8.1%2Bcu111-cp38-cp38-win_amd64.whl (3055.7 MB)\n",
      "Collecting torchvision==0.9.1+cu111\n",
      "  Downloading https://download.pytorch.org/whl/cu111/torchvision-0.9.1%2Bcu111-cp38-cp38-win_amd64.whl (1.9 MB)\n",
      "Collecting torchaudio===0.8.1\n",
      "  Downloading https://download.pytorch.org/whl/torchaudio-0.8.1-cp38-none-win_amd64.whl (109 kB)\n",
      "Requirement already satisfied: numpy in c:\\users\\gparr\\anaconda3\\lib\\site-packages (from torch==1.8.1+cu111) (1.20.1)\n",
      "Requirement already satisfied: typing-extensions in c:\\users\\gparr\\anaconda3\\lib\\site-packages (from torch==1.8.1+cu111) (3.7.4.3)\n",
      "Requirement already satisfied: pillow>=4.1.1 in c:\\users\\gparr\\anaconda3\\lib\\site-packages (from torchvision==0.9.1+cu111) (8.2.0)\n",
      "Installing collected packages: torch, torchvision, torchaudio\n",
      "Successfully installed torch-1.8.1+cu111 torchaudio-0.8.1 torchvision-0.9.1+cu111\n"
     ]
    }
   ],
   "source": [
    "!pip install torch==1.8.1+cu111 torchvision==0.9.1+cu111 torchaudio===0.8.1 -f https://download.pytorch.org/whl/torch_stable.html"
   ]
  },
  {
   "cell_type": "code",
   "execution_count": 370,
   "id": "5bd43465-49cc-4037-b346-458083a868eb",
   "metadata": {},
   "outputs": [
    {
     "name": "stdout",
     "output_type": "stream",
     "text": [
      "Collecting transformers\n",
      "  Downloading transformers-4.16.2-py3-none-any.whl (3.5 MB)\n",
      "Requirement already satisfied: requests in c:\\users\\gparr\\anaconda3\\lib\\site-packages (2.25.1)\n",
      "Requirement already satisfied: beautifulsoup4 in c:\\users\\gparr\\anaconda3\\lib\\site-packages (4.9.3)\n",
      "Requirement already satisfied: pandas in c:\\users\\gparr\\anaconda3\\lib\\site-packages (1.2.4)\n",
      "Requirement already satisfied: numpy in c:\\users\\gparr\\anaconda3\\lib\\site-packages (1.20.1)\n",
      "Requirement already satisfied: soupsieve>1.2 in c:\\users\\gparr\\anaconda3\\lib\\site-packages (from beautifulsoup4) (2.2.1)\n",
      "Requirement already satisfied: pytz>=2017.3 in c:\\users\\gparr\\anaconda3\\lib\\site-packages (from pandas) (2021.1)\n",
      "Requirement already satisfied: python-dateutil>=2.7.3 in c:\\users\\gparr\\anaconda3\\lib\\site-packages (from pandas) (2.8.1)\n",
      "Requirement already satisfied: six>=1.5 in c:\\users\\gparr\\anaconda3\\lib\\site-packages (from python-dateutil>=2.7.3->pandas) (1.15.0)\n",
      "Requirement already satisfied: certifi>=2017.4.17 in c:\\users\\gparr\\anaconda3\\lib\\site-packages (from requests) (2020.12.5)\n",
      "Requirement already satisfied: chardet<5,>=3.0.2 in c:\\users\\gparr\\anaconda3\\lib\\site-packages (from requests) (4.0.0)\n",
      "Requirement already satisfied: idna<3,>=2.5 in c:\\users\\gparr\\anaconda3\\lib\\site-packages (from requests) (2.10)\n",
      "Requirement already satisfied: urllib3<1.27,>=1.21.1 in c:\\users\\gparr\\anaconda3\\lib\\site-packages (from requests) (1.26.4)\n",
      "Requirement already satisfied: regex!=2019.12.17 in c:\\users\\gparr\\anaconda3\\lib\\site-packages (from transformers) (2021.4.4)\n",
      "Collecting sacremoses\n",
      "  Downloading sacremoses-0.0.47-py2.py3-none-any.whl (895 kB)\n",
      "Requirement already satisfied: filelock in c:\\users\\gparr\\anaconda3\\lib\\site-packages (from transformers) (3.0.12)\n",
      "Collecting huggingface-hub<1.0,>=0.1.0\n",
      "  Downloading huggingface_hub-0.4.0-py3-none-any.whl (67 kB)\n",
      "Collecting tokenizers!=0.11.3,>=0.10.1\n",
      "  Downloading tokenizers-0.11.4-cp38-cp38-win_amd64.whl (3.3 MB)\n",
      "Requirement already satisfied: tqdm>=4.27 in c:\\users\\gparr\\anaconda3\\lib\\site-packages (from transformers) (4.59.0)\n",
      "Requirement already satisfied: pyyaml>=5.1 in c:\\users\\gparr\\anaconda3\\lib\\site-packages (from transformers) (5.4.1)\n",
      "Requirement already satisfied: packaging>=20.0 in c:\\users\\gparr\\anaconda3\\lib\\site-packages (from transformers) (20.9)\n",
      "Requirement already satisfied: typing-extensions>=3.7.4.3 in c:\\users\\gparr\\anaconda3\\lib\\site-packages (from huggingface-hub<1.0,>=0.1.0->transformers) (3.7.4.3)\n",
      "Requirement already satisfied: pyparsing>=2.0.2 in c:\\users\\gparr\\anaconda3\\lib\\site-packages (from packaging>=20.0->transformers) (2.4.7)\n",
      "Requirement already satisfied: click in c:\\users\\gparr\\anaconda3\\lib\\site-packages (from sacremoses->transformers) (7.1.2)\n",
      "Requirement already satisfied: joblib in c:\\users\\gparr\\anaconda3\\lib\\site-packages (from sacremoses->transformers) (1.0.1)\n",
      "Installing collected packages: tokenizers, sacremoses, huggingface-hub, transformers\n",
      "Successfully installed huggingface-hub-0.4.0 sacremoses-0.0.47 tokenizers-0.11.4 transformers-4.16.2\n"
     ]
    }
   ],
   "source": [
    "!pip install transformers requests beautifulsoup4 pandas numpy"
   ]
  },
  {
   "cell_type": "code",
   "execution_count": 371,
   "id": "b8e7b3ea-c272-4274-bbc4-0f193044c1ee",
   "metadata": {},
   "outputs": [],
   "source": [
    "import pandas as pd\n",
    "import os, sys\n",
    "import datetime\n",
    "import json\n",
    "from transformers import AutoTokenizer, AutoModelForSequenceClassification\n",
    "import torch\n",
    "import requests\n",
    "from bs4 import BeautifulSoup\n",
    "import re"
   ]
  },
  {
   "cell_type": "code",
   "execution_count": 4,
   "id": "5707d940-6d0e-493c-9702-a247668de31a",
   "metadata": {},
   "outputs": [],
   "source": [
    "          ### CONCAT FILES IN CSVs FOLDER ###\n",
    "\n",
    "# files = [file_path for file_path in os.listdir('CSVs') if file_path.endswith('.csv')]\n",
    "\n",
    "# df = pd.read_csv(os.path.join('CSVs', files[0]))\n",
    "\n",
    "# for csv_path in files[1:]:\n",
    "#     df_to_add = pd.read_csv(os.path.join('CSVs', csv_path))\n",
    "#     df = pd.concat([df,df_to_add])\n",
    "    \n",
    "    \n",
    "# df.reset_index(drop=True, inplace=True)\n",
    "\n",
    "#df.to_csv('Kick(2021-2022).csv')"
   ]
  },
  {
   "cell_type": "code",
   "execution_count": 509,
   "id": "de91cb0d-691e-42eb-9d86-8171bf4d597e",
   "metadata": {},
   "outputs": [],
   "source": [
    "# COLs = ['country','location','category', 'blurb', 'slug', 'backers_count', \n",
    "#        'created_at','goal','launched_at','deadline','converted_pledged_amount',\n",
    "#         'state', 'currency', 'staff_pick', 'static_usd_rate','usd_type']\n",
    "    \n",
    "\n",
    "# def wrangle(CSV_PATH):\n",
    "#     df = pd.read_csv(CSV_PATH, usecols= COLs)\n",
    "#     df.dropna(inplace=True)\n",
    "\n",
    "#     #Reorder columns\n",
    "#     df = df[['country','location','category', 'blurb', 'slug', 'backers_count', \n",
    "#         'created_at','launched_at','deadline','converted_pledged_amount','goal',\n",
    "#         'state', 'currency',\n",
    "#         'staff_pick', 'static_usd_rate','usd_type']]\n",
    "    \n",
    "#     # Dropping rows where state is = to 'live' or 'canceled'\n",
    "#     df = df[df['state'].isin(['successful','failed'])]\n",
    "    \n",
    "#     # Convert str to dicts (category and location columns)\n",
    "#     convert_to_dicts = lambda x: json.loads(x)\n",
    "#     df['category'] = df['category'].apply(convert_to_dicts)\n",
    "#     df['location'] = df['location'].apply(convert_to_dicts)\n",
    "    \n",
    "#     # Exctract name from dicts (category and location columns)\n",
    "#     extract_name = lambda x: x['name']\n",
    "#     df['category'] = df['category'].apply(extract_name)\n",
    "#     df['location'] = df['location'].apply(extract_name)\n",
    "    \n",
    "#     # Timestamps to Dates\n",
    "#     convert = lambda x: datetime.datetime.fromtimestamp(x)\n",
    "#     df['created_at'] = df['created_at'].apply(convert)\n",
    "#     df['launched_at'] = df['launched_at'].apply(convert)\n",
    "#     df['deadline'] = df['deadline'].apply(convert)\n",
    "      \n",
    "#     # Rename\n",
    "#     df.columns = ['country','city_name','category', 'description', 'project_name', 'n_backers', \n",
    "#        'created_at','launch_date','deadline','pledged_$','goal',\n",
    "#         'state', 'currency',\n",
    "#           'staff_pick', 'usd_rate','usd_type']\n",
    "    \n",
    "#     # New Features \n",
    "#     df['launch_month_number_of_the_year'] = [i.month for i in df['launch_date']]\n",
    "#     df['campaign_duration_in_days'] = [i.days for i in duration]\n",
    "    \n",
    "#     # Drop Cols\n",
    "#     df.drop(columns=['created_at','launch_date','deadline','usd_type', 'usd_rate','staff_pick', 'n_backers','pledged_$'], inplace=True)\n",
    "    \n",
    "#     # Removes Dash from (project_name column)\n",
    "#     dash_remover = lambda x: x.replace('-',' ')\n",
    "#     df['project_name'] = df['project_name'].apply(dash_remover)\n",
    "    \n",
    "#     return df\n",
    "\n",
    "# df = wrangle('Kick(2021-2022).csv')"
   ]
  },
  {
   "cell_type": "code",
   "execution_count": 514,
   "id": "d795c997-5f7b-4e45-88f4-7b526aba88af",
   "metadata": {},
   "outputs": [],
   "source": [
    "df = pd.read_csv('Kick(2021-2022)_wrangled.zip',compression = \"zip\")"
   ]
  },
  {
   "cell_type": "code",
   "execution_count": 515,
   "id": "c831659b-b63d-40a3-bfa0-cb6bb7a056cf",
   "metadata": {},
   "outputs": [
    {
     "data": {
      "text/html": [
       "<div>\n",
       "<style scoped>\n",
       "    .dataframe tbody tr th:only-of-type {\n",
       "        vertical-align: middle;\n",
       "    }\n",
       "\n",
       "    .dataframe tbody tr th {\n",
       "        vertical-align: top;\n",
       "    }\n",
       "\n",
       "    .dataframe thead th {\n",
       "        text-align: right;\n",
       "    }\n",
       "</style>\n",
       "<table border=\"1\" class=\"dataframe\">\n",
       "  <thead>\n",
       "    <tr style=\"text-align: right;\">\n",
       "      <th></th>\n",
       "      <th>Unnamed: 0</th>\n",
       "      <th>country</th>\n",
       "      <th>city_name</th>\n",
       "      <th>category</th>\n",
       "      <th>description</th>\n",
       "      <th>project_name</th>\n",
       "      <th>goal</th>\n",
       "      <th>state</th>\n",
       "      <th>currency</th>\n",
       "      <th>launch_month_number_of_the_year</th>\n",
       "      <th>campaign_duration_in_days</th>\n",
       "    </tr>\n",
       "  </thead>\n",
       "  <tbody>\n",
       "    <tr>\n",
       "      <th>0</th>\n",
       "      <td>0</td>\n",
       "      <td>US</td>\n",
       "      <td>Burlington</td>\n",
       "      <td>Glass</td>\n",
       "      <td>I make these adorable planters myself.   Custo...</td>\n",
       "      <td>i would like to produce and sell my lightbulb ...</td>\n",
       "      <td>2000.0</td>\n",
       "      <td>failed</td>\n",
       "      <td>USD</td>\n",
       "      <td>8</td>\n",
       "      <td>30</td>\n",
       "    </tr>\n",
       "    <tr>\n",
       "      <th>1</th>\n",
       "      <td>1</td>\n",
       "      <td>US</td>\n",
       "      <td>Vineyard</td>\n",
       "      <td>Events</td>\n",
       "      <td>The Utah Valley Food Fest is a sampling event,...</td>\n",
       "      <td>utah valley food fest 2019</td>\n",
       "      <td>3000.0</td>\n",
       "      <td>successful</td>\n",
       "      <td>USD</td>\n",
       "      <td>7</td>\n",
       "      <td>16</td>\n",
       "    </tr>\n",
       "    <tr>\n",
       "      <th>2</th>\n",
       "      <td>2</td>\n",
       "      <td>BE</td>\n",
       "      <td>Antwerp</td>\n",
       "      <td>Comedy</td>\n",
       "      <td>Newly found cabaret project Bunny Burlesk Even...</td>\n",
       "      <td>bbe cabaret burlesque show</td>\n",
       "      <td>300.0</td>\n",
       "      <td>successful</td>\n",
       "      <td>EUR</td>\n",
       "      <td>10</td>\n",
       "      <td>60</td>\n",
       "    </tr>\n",
       "    <tr>\n",
       "      <th>3</th>\n",
       "      <td>3</td>\n",
       "      <td>US</td>\n",
       "      <td>Oxnard</td>\n",
       "      <td>Children's Books</td>\n",
       "      <td>A children's book about a bear that discovers ...</td>\n",
       "      <td>you are loved a bear odd fruit origin story</td>\n",
       "      <td>4500.0</td>\n",
       "      <td>successful</td>\n",
       "      <td>USD</td>\n",
       "      <td>12</td>\n",
       "      <td>21</td>\n",
       "    </tr>\n",
       "    <tr>\n",
       "      <th>4</th>\n",
       "      <td>4</td>\n",
       "      <td>US</td>\n",
       "      <td>New York</td>\n",
       "      <td>Musical</td>\n",
       "      <td>What happens when the queen of darkness decide...</td>\n",
       "      <td>wish a mystical magical murderful musical</td>\n",
       "      <td>10000.0</td>\n",
       "      <td>successful</td>\n",
       "      <td>USD</td>\n",
       "      <td>7</td>\n",
       "      <td>31</td>\n",
       "    </tr>\n",
       "  </tbody>\n",
       "</table>\n",
       "</div>"
      ],
      "text/plain": [
       "   Unnamed: 0 country   city_name          category  \\\n",
       "0           0      US  Burlington             Glass   \n",
       "1           1      US    Vineyard            Events   \n",
       "2           2      BE     Antwerp            Comedy   \n",
       "3           3      US      Oxnard  Children's Books   \n",
       "4           4      US    New York           Musical   \n",
       "\n",
       "                                         description  \\\n",
       "0  I make these adorable planters myself.   Custo...   \n",
       "1  The Utah Valley Food Fest is a sampling event,...   \n",
       "2  Newly found cabaret project Bunny Burlesk Even...   \n",
       "3  A children's book about a bear that discovers ...   \n",
       "4  What happens when the queen of darkness decide...   \n",
       "\n",
       "                                        project_name     goal       state  \\\n",
       "0  i would like to produce and sell my lightbulb ...   2000.0      failed   \n",
       "1                         utah valley food fest 2019   3000.0  successful   \n",
       "2                         bbe cabaret burlesque show    300.0  successful   \n",
       "3        you are loved a bear odd fruit origin story   4500.0  successful   \n",
       "4          wish a mystical magical murderful musical  10000.0  successful   \n",
       "\n",
       "  currency  launch_month_number_of_the_year  campaign_duration_in_days  \n",
       "0      USD                                8                         30  \n",
       "1      USD                                7                         16  \n",
       "2      EUR                               10                         60  \n",
       "3      USD                               12                         21  \n",
       "4      USD                                7                         31  "
      ]
     },
     "execution_count": 515,
     "metadata": {},
     "output_type": "execute_result"
    }
   ],
   "source": [
    "df.head()"
   ]
  },
  {
   "cell_type": "code",
   "execution_count": 512,
   "id": "a67871f7-c96d-4044-ad3a-2fe69415c3e8",
   "metadata": {},
   "outputs": [
    {
     "name": "stdout",
     "output_type": "stream",
     "text": [
      "<class 'pandas.core.frame.DataFrame'>\n",
      "Int64Index: 208215 entries, 0 to 223288\n",
      "Data columns (total 10 columns):\n",
      " #   Column                           Non-Null Count   Dtype  \n",
      "---  ------                           --------------   -----  \n",
      " 0   country                          208215 non-null  object \n",
      " 1   city_name                        208215 non-null  object \n",
      " 2   category                         208215 non-null  object \n",
      " 3   description                      208215 non-null  object \n",
      " 4   project_name                     208215 non-null  object \n",
      " 5   goal                             208215 non-null  float64\n",
      " 6   state                            208215 non-null  object \n",
      " 7   currency                         208215 non-null  object \n",
      " 8   launch_month_number_of_the_year  208215 non-null  int64  \n",
      " 9   campaign_duration_in_days        208215 non-null  int64  \n",
      "dtypes: float64(1), int64(2), object(7)\n",
      "memory usage: 17.5+ MB\n"
     ]
    }
   ],
   "source": [
    "df.info()"
   ]
  },
  {
   "cell_type": "code",
   "execution_count": 496,
   "id": "4ba9fc82-afd9-4cb4-a96d-59b52900df0a",
   "metadata": {},
   "outputs": [
    {
     "data": {
      "text/html": [
       "<div>\n",
       "<style scoped>\n",
       "    .dataframe tbody tr th:only-of-type {\n",
       "        vertical-align: middle;\n",
       "    }\n",
       "\n",
       "    .dataframe tbody tr th {\n",
       "        vertical-align: top;\n",
       "    }\n",
       "\n",
       "    .dataframe thead th {\n",
       "        text-align: right;\n",
       "    }\n",
       "</style>\n",
       "<table border=\"1\" class=\"dataframe\">\n",
       "  <thead>\n",
       "    <tr style=\"text-align: right;\">\n",
       "      <th></th>\n",
       "      <th>country</th>\n",
       "      <th>city_name</th>\n",
       "      <th>category</th>\n",
       "      <th>description</th>\n",
       "      <th>project_name</th>\n",
       "      <th>n_backers</th>\n",
       "      <th>pledged_$</th>\n",
       "      <th>goal</th>\n",
       "      <th>state</th>\n",
       "      <th>currency</th>\n",
       "      <th>staff_pick</th>\n",
       "      <th>launch_week_of_the_year</th>\n",
       "      <th>campaign_duration_in_days</th>\n",
       "    </tr>\n",
       "  </thead>\n",
       "  <tbody>\n",
       "    <tr>\n",
       "      <th>0</th>\n",
       "      <td>US</td>\n",
       "      <td>Burlington</td>\n",
       "      <td>Glass</td>\n",
       "      <td>I make these adorable planters myself.   Custo...</td>\n",
       "      <td>i would like to produce and sell my lightbulb ...</td>\n",
       "      <td>2</td>\n",
       "      <td>31</td>\n",
       "      <td>2000.0</td>\n",
       "      <td>failed</td>\n",
       "      <td>USD</td>\n",
       "      <td>False</td>\n",
       "      <td>34</td>\n",
       "      <td>30</td>\n",
       "    </tr>\n",
       "    <tr>\n",
       "      <th>1</th>\n",
       "      <td>US</td>\n",
       "      <td>Vineyard</td>\n",
       "      <td>Events</td>\n",
       "      <td>The Utah Valley Food Fest is a sampling event,...</td>\n",
       "      <td>utah valley food fest 2019</td>\n",
       "      <td>188</td>\n",
       "      <td>3367</td>\n",
       "      <td>3000.0</td>\n",
       "      <td>successful</td>\n",
       "      <td>USD</td>\n",
       "      <td>False</td>\n",
       "      <td>31</td>\n",
       "      <td>16</td>\n",
       "    </tr>\n",
       "    <tr>\n",
       "      <th>2</th>\n",
       "      <td>BE</td>\n",
       "      <td>Antwerp</td>\n",
       "      <td>Comedy</td>\n",
       "      <td>Newly found cabaret project Bunny Burlesk Even...</td>\n",
       "      <td>bbe cabaret burlesque show</td>\n",
       "      <td>12</td>\n",
       "      <td>380</td>\n",
       "      <td>300.0</td>\n",
       "      <td>successful</td>\n",
       "      <td>EUR</td>\n",
       "      <td>False</td>\n",
       "      <td>40</td>\n",
       "      <td>60</td>\n",
       "    </tr>\n",
       "    <tr>\n",
       "      <th>3</th>\n",
       "      <td>US</td>\n",
       "      <td>Oxnard</td>\n",
       "      <td>Children's Books</td>\n",
       "      <td>A children's book about a bear that discovers ...</td>\n",
       "      <td>you are loved a bear odd fruit origin story</td>\n",
       "      <td>89</td>\n",
       "      <td>4839</td>\n",
       "      <td>4500.0</td>\n",
       "      <td>successful</td>\n",
       "      <td>USD</td>\n",
       "      <td>True</td>\n",
       "      <td>53</td>\n",
       "      <td>21</td>\n",
       "    </tr>\n",
       "    <tr>\n",
       "      <th>4</th>\n",
       "      <td>US</td>\n",
       "      <td>New York</td>\n",
       "      <td>Musical</td>\n",
       "      <td>What happens when the queen of darkness decide...</td>\n",
       "      <td>wish a mystical magical murderful musical</td>\n",
       "      <td>30</td>\n",
       "      <td>10703</td>\n",
       "      <td>10000.0</td>\n",
       "      <td>successful</td>\n",
       "      <td>USD</td>\n",
       "      <td>False</td>\n",
       "      <td>27</td>\n",
       "      <td>31</td>\n",
       "    </tr>\n",
       "  </tbody>\n",
       "</table>\n",
       "</div>"
      ],
      "text/plain": [
       "  country   city_name          category  \\\n",
       "0      US  Burlington             Glass   \n",
       "1      US    Vineyard            Events   \n",
       "2      BE     Antwerp            Comedy   \n",
       "3      US      Oxnard  Children's Books   \n",
       "4      US    New York           Musical   \n",
       "\n",
       "                                         description  \\\n",
       "0  I make these adorable planters myself.   Custo...   \n",
       "1  The Utah Valley Food Fest is a sampling event,...   \n",
       "2  Newly found cabaret project Bunny Burlesk Even...   \n",
       "3  A children's book about a bear that discovers ...   \n",
       "4  What happens when the queen of darkness decide...   \n",
       "\n",
       "                                        project_name  n_backers  pledged_$  \\\n",
       "0  i would like to produce and sell my lightbulb ...          2         31   \n",
       "1                         utah valley food fest 2019        188       3367   \n",
       "2                         bbe cabaret burlesque show         12        380   \n",
       "3        you are loved a bear odd fruit origin story         89       4839   \n",
       "4          wish a mystical magical murderful musical         30      10703   \n",
       "\n",
       "      goal       state currency  staff_pick  launch_week_of_the_year  \\\n",
       "0   2000.0      failed      USD       False                       34   \n",
       "1   3000.0  successful      USD       False                       31   \n",
       "2    300.0  successful      EUR       False                       40   \n",
       "3   4500.0  successful      USD        True                       53   \n",
       "4  10000.0  successful      USD       False                       27   \n",
       "\n",
       "   campaign_duration_in_days  \n",
       "0                         30  \n",
       "1                         16  \n",
       "2                         60  \n",
       "3                         21  \n",
       "4                         31  "
      ]
     },
     "execution_count": 496,
     "metadata": {},
     "output_type": "execute_result"
    }
   ],
   "source": [
    "df.head()"
   ]
  },
  {
   "cell_type": "code",
   "execution_count": 464,
   "id": "6daf0c84-933d-4642-b416-3fc8462d772f",
   "metadata": {},
   "outputs": [
    {
     "data": {
      "text/plain": [
       "False    0.784991\n",
       "True     0.215009\n",
       "Name: staff_pick, dtype: float64"
      ]
     },
     "execution_count": 464,
     "metadata": {},
     "output_type": "execute_result"
    }
   ],
   "source": [
    "df[df['state']=='successful']['staff_pick'].value_counts(normalize=True)"
   ]
  },
  {
   "cell_type": "code",
   "execution_count": 465,
   "id": "44222370-0f6c-4676-a187-ae8b272dfee1",
   "metadata": {},
   "outputs": [
    {
     "data": {
      "text/plain": [
       "False    0.970687\n",
       "True     0.029313\n",
       "Name: staff_pick, dtype: float64"
      ]
     },
     "execution_count": 465,
     "metadata": {},
     "output_type": "execute_result"
    }
   ],
   "source": [
    "df[df['state']=='failed']['staff_pick'].value_counts(normalize=True)"
   ]
  },
  {
   "cell_type": "code",
   "execution_count": 396,
   "id": "c8c93b7a-e42b-41de-a40f-3a5328755abd",
   "metadata": {},
   "outputs": [],
   "source": [
    "test_df = df.head()"
   ]
  },
  {
   "cell_type": "code",
   "execution_count": 448,
   "id": "fbe5bf75-ac13-4786-ba66-c0d527c50683",
   "metadata": {},
   "outputs": [],
   "source": [
    "tokenizer = AutoTokenizer.from_pretrained('nlptown/bert-base-multilingual-uncased-sentiment')\n",
    "\n",
    "model = AutoModelForSequenceClassification.from_pretrained('nlptown/bert-base-multilingual-uncased-sentiment')"
   ]
  },
  {
   "cell_type": "code",
   "execution_count": 457,
   "id": "edea7a2d-1aee-47c3-89fb-203317093754",
   "metadata": {},
   "outputs": [],
   "source": [
    "tokens = tokenizer.encode(\"so so, it was ok\", return_tensors='pt')"
   ]
  },
  {
   "cell_type": "code",
   "execution_count": 458,
   "id": "fd6c6be9-a620-498a-824d-17de5f532032",
   "metadata": {},
   "outputs": [],
   "source": [
    "result = model(tokens)"
   ]
  },
  {
   "cell_type": "code",
   "execution_count": 459,
   "id": "2d262b40-d69e-4e32-87c5-f6044d6aa635",
   "metadata": {},
   "outputs": [
    {
     "data": {
      "text/plain": [
       "tensor([[-1.4170,  0.8113,  2.6103,  0.3364, -1.9903]],\n",
       "       grad_fn=<AddmmBackward>)"
      ]
     },
     "execution_count": 459,
     "metadata": {},
     "output_type": "execute_result"
    }
   ],
   "source": [
    "result.logits"
   ]
  },
  {
   "cell_type": "code",
   "execution_count": 460,
   "id": "05d0e512-0046-47c1-82f9-30761468c963",
   "metadata": {},
   "outputs": [
    {
     "data": {
      "text/plain": [
       "3"
      ]
     },
     "execution_count": 460,
     "metadata": {},
     "output_type": "execute_result"
    }
   ],
   "source": [
    "int(torch.argmax(result.logits))+1"
   ]
  },
  {
   "cell_type": "code",
   "execution_count": null,
   "id": "d37db365-e814-4d9b-af1e-fedf20a068a3",
   "metadata": {},
   "outputs": [],
   "source": []
  }
 ],
 "metadata": {
  "kernelspec": {
   "display_name": "Python 3",
   "language": "python",
   "name": "python3"
  },
  "language_info": {
   "codemirror_mode": {
    "name": "ipython",
    "version": 3
   },
   "file_extension": ".py",
   "mimetype": "text/x-python",
   "name": "python",
   "nbconvert_exporter": "python",
   "pygments_lexer": "ipython3",
   "version": "3.8.8"
  }
 },
 "nbformat": 4,
 "nbformat_minor": 5
}
