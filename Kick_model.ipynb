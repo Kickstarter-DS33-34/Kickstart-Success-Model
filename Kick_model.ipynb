{
 "cells": [
  {
   "cell_type": "code",
   "execution_count": 1,
   "id": "54be7b1c-e7cc-4e9d-9916-975edcae85b0",
   "metadata": {},
   "outputs": [
    {
     "name": "stdout",
     "output_type": "stream",
     "text": [
      "Looking in links: https://download.pytorch.org/whl/torch_stable.html\n",
      "Requirement already satisfied: torch==1.8.1+cu111 in c:\\users\\gparr\\anaconda3\\lib\\site-packages (1.8.1+cu111)\n",
      "Requirement already satisfied: torchvision==0.9.1+cu111 in c:\\users\\gparr\\anaconda3\\lib\\site-packages (0.9.1+cu111)\n",
      "Requirement already satisfied: torchaudio===0.8.1 in c:\\users\\gparr\\anaconda3\\lib\\site-packages (0.8.1)\n",
      "Requirement already satisfied: numpy in c:\\users\\gparr\\anaconda3\\lib\\site-packages (from torch==1.8.1+cu111) (1.20.1)\n",
      "Requirement already satisfied: typing-extensions in c:\\users\\gparr\\anaconda3\\lib\\site-packages (from torch==1.8.1+cu111) (3.7.4.3)\n",
      "Requirement already satisfied: pillow>=4.1.1 in c:\\users\\gparr\\anaconda3\\lib\\site-packages (from torchvision==0.9.1+cu111) (8.2.0)\n"
     ]
    }
   ],
   "source": [
    "!pip install torch==1.8.1+cu111 torchvision==0.9.1+cu111 torchaudio===0.8.1 -f https://download.pytorch.org/whl/torch_stable.html"
   ]
  },
  {
   "cell_type": "code",
   "execution_count": 2,
   "id": "5bd43465-49cc-4037-b346-458083a868eb",
   "metadata": {},
   "outputs": [
    {
     "name": "stdout",
     "output_type": "stream",
     "text": [
      "Requirement already satisfied: transformers in c:\\users\\gparr\\anaconda3\\lib\\site-packages (4.16.2)\n",
      "Requirement already satisfied: requests in c:\\users\\gparr\\anaconda3\\lib\\site-packages (2.25.1)\n",
      "Requirement already satisfied: beautifulsoup4 in c:\\users\\gparr\\anaconda3\\lib\\site-packages (4.9.3)\n",
      "Requirement already satisfied: pandas in c:\\users\\gparr\\anaconda3\\lib\\site-packages (1.2.4)\n",
      "Requirement already satisfied: numpy in c:\\users\\gparr\\anaconda3\\lib\\site-packages (1.20.1)\n",
      "Requirement already satisfied: soupsieve>1.2 in c:\\users\\gparr\\anaconda3\\lib\\site-packages (from beautifulsoup4) (2.2.1)\n",
      "Requirement already satisfied: python-dateutil>=2.7.3 in c:\\users\\gparr\\anaconda3\\lib\\site-packages (from pandas) (2.8.1)\n",
      "Requirement already satisfied: pytz>=2017.3 in c:\\users\\gparr\\anaconda3\\lib\\site-packages (from pandas) (2021.1)\n",
      "Requirement already satisfied: six>=1.5 in c:\\users\\gparr\\anaconda3\\lib\\site-packages (from python-dateutil>=2.7.3->pandas) (1.15.0)\n",
      "Requirement already satisfied: idna<3,>=2.5 in c:\\users\\gparr\\anaconda3\\lib\\site-packages (from requests) (2.10)\n",
      "Requirement already satisfied: urllib3<1.27,>=1.21.1 in c:\\users\\gparr\\anaconda3\\lib\\site-packages (from requests) (1.26.4)\n",
      "Requirement already satisfied: chardet<5,>=3.0.2 in c:\\users\\gparr\\anaconda3\\lib\\site-packages (from requests) (4.0.0)\n",
      "Requirement already satisfied: certifi>=2017.4.17 in c:\\users\\gparr\\anaconda3\\lib\\site-packages (from requests) (2020.12.5)\n",
      "Requirement already satisfied: regex!=2019.12.17 in c:\\users\\gparr\\anaconda3\\lib\\site-packages (from transformers) (2021.4.4)\n",
      "Requirement already satisfied: pyyaml>=5.1 in c:\\users\\gparr\\anaconda3\\lib\\site-packages (from transformers) (5.4.1)\n",
      "Requirement already satisfied: huggingface-hub<1.0,>=0.1.0 in c:\\users\\gparr\\anaconda3\\lib\\site-packages (from transformers) (0.4.0)\n",
      "Requirement already satisfied: tokenizers!=0.11.3,>=0.10.1 in c:\\users\\gparr\\anaconda3\\lib\\site-packages (from transformers) (0.11.4)\n",
      "Requirement already satisfied: sacremoses in c:\\users\\gparr\\anaconda3\\lib\\site-packages (from transformers) (0.0.47)\n",
      "Requirement already satisfied: tqdm>=4.27 in c:\\users\\gparr\\anaconda3\\lib\\site-packages (from transformers) (4.59.0)\n",
      "Requirement already satisfied: filelock in c:\\users\\gparr\\anaconda3\\lib\\site-packages (from transformers) (3.0.12)\n",
      "Requirement already satisfied: packaging>=20.0 in c:\\users\\gparr\\anaconda3\\lib\\site-packages (from transformers) (20.9)\n",
      "Requirement already satisfied: typing-extensions>=3.7.4.3 in c:\\users\\gparr\\anaconda3\\lib\\site-packages (from huggingface-hub<1.0,>=0.1.0->transformers) (3.7.4.3)\n",
      "Requirement already satisfied: pyparsing>=2.0.2 in c:\\users\\gparr\\anaconda3\\lib\\site-packages (from packaging>=20.0->transformers) (2.4.7)\n",
      "Requirement already satisfied: joblib in c:\\users\\gparr\\anaconda3\\lib\\site-packages (from sacremoses->transformers) (1.0.1)\n",
      "Requirement already satisfied: click in c:\\users\\gparr\\anaconda3\\lib\\site-packages (from sacremoses->transformers) (7.1.2)\n"
     ]
    }
   ],
   "source": [
    "!pip install transformers requests beautifulsoup4 pandas numpy"
   ]
  },
  {
   "cell_type": "code",
   "execution_count": 3,
   "id": "a3957745-59cc-4c6d-af50-05ce0811e43d",
   "metadata": {},
   "outputs": [
    {
     "name": "stdout",
     "output_type": "stream",
     "text": [
      "Requirement already satisfied: category_encoders in c:\\users\\gparr\\anaconda3\\lib\\site-packages (2.3.0)\n",
      "Requirement already satisfied: scikit-learn>=0.20.0 in c:\\users\\gparr\\anaconda3\\lib\\site-packages (from category_encoders) (0.24.1)\n",
      "Requirement already satisfied: numpy>=1.14.0 in c:\\users\\gparr\\anaconda3\\lib\\site-packages (from category_encoders) (1.20.1)\n",
      "Requirement already satisfied: statsmodels>=0.9.0 in c:\\users\\gparr\\anaconda3\\lib\\site-packages (from category_encoders) (0.12.2)\n",
      "Requirement already satisfied: pandas>=0.21.1 in c:\\users\\gparr\\anaconda3\\lib\\site-packages (from category_encoders) (1.2.4)\n",
      "Requirement already satisfied: scipy>=1.0.0 in c:\\users\\gparr\\anaconda3\\lib\\site-packages (from category_encoders) (1.6.2)\n",
      "Requirement already satisfied: patsy>=0.5.1 in c:\\users\\gparr\\anaconda3\\lib\\site-packages (from category_encoders) (0.5.1)\n",
      "Requirement already satisfied: python-dateutil>=2.7.3 in c:\\users\\gparr\\anaconda3\\lib\\site-packages (from pandas>=0.21.1->category_encoders) (2.8.1)\n",
      "Requirement already satisfied: pytz>=2017.3 in c:\\users\\gparr\\anaconda3\\lib\\site-packages (from pandas>=0.21.1->category_encoders) (2021.1)\n",
      "Requirement already satisfied: six in c:\\users\\gparr\\anaconda3\\lib\\site-packages (from patsy>=0.5.1->category_encoders) (1.15.0)\n",
      "Requirement already satisfied: threadpoolctl>=2.0.0 in c:\\users\\gparr\\anaconda3\\lib\\site-packages (from scikit-learn>=0.20.0->category_encoders) (2.1.0)\n",
      "Requirement already satisfied: joblib>=0.11 in c:\\users\\gparr\\anaconda3\\lib\\site-packages (from scikit-learn>=0.20.0->category_encoders) (1.0.1)\n"
     ]
    }
   ],
   "source": [
    "!pip install category_encoders"
   ]
  },
  {
   "cell_type": "code",
   "execution_count": 4,
   "id": "28510633-0d50-471b-b4e5-d3ffb993d362",
   "metadata": {},
   "outputs": [
    {
     "name": "stdout",
     "output_type": "stream",
     "text": [
      "Requirement already satisfied: tensorflow in c:\\users\\gparr\\anaconda3\\lib\\site-packages (2.7.0)\n",
      "Requirement already satisfied: libclang>=9.0.1 in c:\\users\\gparr\\anaconda3\\lib\\site-packages (from tensorflow) (13.0.0)\n",
      "Requirement already satisfied: typing-extensions>=3.6.6 in c:\\users\\gparr\\anaconda3\\lib\\site-packages (from tensorflow) (3.7.4.3)\n",
      "Requirement already satisfied: protobuf>=3.9.2 in c:\\users\\gparr\\anaconda3\\lib\\site-packages (from tensorflow) (3.19.4)\n",
      "Requirement already satisfied: gast<0.5.0,>=0.2.1 in c:\\users\\gparr\\anaconda3\\lib\\site-packages (from tensorflow) (0.4.0)\n",
      "Requirement already satisfied: h5py>=2.9.0 in c:\\users\\gparr\\anaconda3\\lib\\site-packages (from tensorflow) (2.10.0)\n",
      "Requirement already satisfied: absl-py>=0.4.0 in c:\\users\\gparr\\anaconda3\\lib\\site-packages (from tensorflow) (1.0.0)\n",
      "Requirement already satisfied: numpy>=1.14.5 in c:\\users\\gparr\\anaconda3\\lib\\site-packages (from tensorflow) (1.20.1)\n",
      "Requirement already satisfied: termcolor>=1.1.0 in c:\\users\\gparr\\anaconda3\\lib\\site-packages (from tensorflow) (1.1.0)\n",
      "Requirement already satisfied: opt-einsum>=2.3.2 in c:\\users\\gparr\\anaconda3\\lib\\site-packages (from tensorflow) (3.3.0)\n",
      "Requirement already satisfied: tensorboard~=2.6 in c:\\users\\gparr\\anaconda3\\lib\\site-packages (from tensorflow) (2.8.0)\n",
      "Requirement already satisfied: flatbuffers<3.0,>=1.12 in c:\\users\\gparr\\anaconda3\\lib\\site-packages (from tensorflow) (2.0)\n",
      "Requirement already satisfied: astunparse>=1.6.0 in c:\\users\\gparr\\anaconda3\\lib\\site-packages (from tensorflow) (1.6.3)\n",
      "Requirement already satisfied: wrapt>=1.11.0 in c:\\users\\gparr\\anaconda3\\lib\\site-packages (from tensorflow) (1.12.1)\n",
      "Requirement already satisfied: keras<2.8,>=2.7.0rc0 in c:\\users\\gparr\\anaconda3\\lib\\site-packages (from tensorflow) (2.7.0)\n",
      "Requirement already satisfied: keras-preprocessing>=1.1.1 in c:\\users\\gparr\\anaconda3\\lib\\site-packages (from tensorflow) (1.1.2)\n",
      "Requirement already satisfied: tensorflow-estimator<2.8,~=2.7.0rc0 in c:\\users\\gparr\\anaconda3\\lib\\site-packages (from tensorflow) (2.7.0)\n",
      "Requirement already satisfied: tensorflow-io-gcs-filesystem>=0.21.0 in c:\\users\\gparr\\anaconda3\\lib\\site-packages (from tensorflow) (0.23.1)\n",
      "Requirement already satisfied: wheel<1.0,>=0.32.0 in c:\\users\\gparr\\anaconda3\\lib\\site-packages (from tensorflow) (0.36.2)\n",
      "Requirement already satisfied: grpcio<2.0,>=1.24.3 in c:\\users\\gparr\\anaconda3\\lib\\site-packages (from tensorflow) (1.43.0)\n",
      "Requirement already satisfied: google-pasta>=0.1.1 in c:\\users\\gparr\\anaconda3\\lib\\site-packages (from tensorflow) (0.2.0)\n",
      "Requirement already satisfied: six>=1.12.0 in c:\\users\\gparr\\anaconda3\\lib\\site-packages (from tensorflow) (1.15.0)\n",
      "Requirement already satisfied: requests<3,>=2.21.0 in c:\\users\\gparr\\anaconda3\\lib\\site-packages (from tensorboard~=2.6->tensorflow) (2.25.1)\n",
      "Requirement already satisfied: werkzeug>=0.11.15 in c:\\users\\gparr\\anaconda3\\lib\\site-packages (from tensorboard~=2.6->tensorflow) (1.0.1)\n",
      "Requirement already satisfied: google-auth-oauthlib<0.5,>=0.4.1 in c:\\users\\gparr\\anaconda3\\lib\\site-packages (from tensorboard~=2.6->tensorflow) (0.4.6)\n",
      "Requirement already satisfied: tensorboard-plugin-wit>=1.6.0 in c:\\users\\gparr\\anaconda3\\lib\\site-packages (from tensorboard~=2.6->tensorflow) (1.8.1)\n",
      "Requirement already satisfied: tensorboard-data-server<0.7.0,>=0.6.0 in c:\\users\\gparr\\anaconda3\\lib\\site-packages (from tensorboard~=2.6->tensorflow) (0.6.1)\n",
      "Requirement already satisfied: markdown>=2.6.8 in c:\\users\\gparr\\anaconda3\\lib\\site-packages (from tensorboard~=2.6->tensorflow) (3.3.6)\n",
      "Requirement already satisfied: google-auth<3,>=1.6.3 in c:\\users\\gparr\\anaconda3\\lib\\site-packages (from tensorboard~=2.6->tensorflow) (2.6.0)\n",
      "Requirement already satisfied: setuptools>=41.0.0 in c:\\users\\gparr\\anaconda3\\lib\\site-packages (from tensorboard~=2.6->tensorflow) (52.0.0.post20210125)\n",
      "Requirement already satisfied: rsa<5,>=3.1.4 in c:\\users\\gparr\\anaconda3\\lib\\site-packages (from google-auth<3,>=1.6.3->tensorboard~=2.6->tensorflow) (4.8)\n",
      "Requirement already satisfied: pyasn1-modules>=0.2.1 in c:\\users\\gparr\\anaconda3\\lib\\site-packages (from google-auth<3,>=1.6.3->tensorboard~=2.6->tensorflow) (0.2.8)\n",
      "Requirement already satisfied: cachetools<6.0,>=2.0.0 in c:\\users\\gparr\\anaconda3\\lib\\site-packages (from google-auth<3,>=1.6.3->tensorboard~=2.6->tensorflow) (5.0.0)\n",
      "Requirement already satisfied: requests-oauthlib>=0.7.0 in c:\\users\\gparr\\anaconda3\\lib\\site-packages (from google-auth-oauthlib<0.5,>=0.4.1->tensorboard~=2.6->tensorflow) (1.3.1)\n",
      "Requirement already satisfied: importlib-metadata>=4.4 in c:\\users\\gparr\\anaconda3\\lib\\site-packages (from markdown>=2.6.8->tensorboard~=2.6->tensorflow) (4.10.1)\n",
      "Requirement already satisfied: zipp>=0.5 in c:\\users\\gparr\\anaconda3\\lib\\site-packages (from importlib-metadata>=4.4->markdown>=2.6.8->tensorboard~=2.6->tensorflow) (3.4.1)\n",
      "Requirement already satisfied: pyasn1<0.5.0,>=0.4.6 in c:\\users\\gparr\\anaconda3\\lib\\site-packages (from pyasn1-modules>=0.2.1->google-auth<3,>=1.6.3->tensorboard~=2.6->tensorflow) (0.4.8)\n",
      "Requirement already satisfied: certifi>=2017.4.17 in c:\\users\\gparr\\anaconda3\\lib\\site-packages (from requests<3,>=2.21.0->tensorboard~=2.6->tensorflow) (2020.12.5)\n",
      "Requirement already satisfied: urllib3<1.27,>=1.21.1 in c:\\users\\gparr\\anaconda3\\lib\\site-packages (from requests<3,>=2.21.0->tensorboard~=2.6->tensorflow) (1.26.4)\n",
      "Requirement already satisfied: idna<3,>=2.5 in c:\\users\\gparr\\anaconda3\\lib\\site-packages (from requests<3,>=2.21.0->tensorboard~=2.6->tensorflow) (2.10)\n",
      "Requirement already satisfied: chardet<5,>=3.0.2 in c:\\users\\gparr\\anaconda3\\lib\\site-packages (from requests<3,>=2.21.0->tensorboard~=2.6->tensorflow) (4.0.0)\n",
      "Requirement already satisfied: oauthlib>=3.0.0 in c:\\users\\gparr\\anaconda3\\lib\\site-packages (from requests-oauthlib>=0.7.0->google-auth-oauthlib<0.5,>=0.4.1->tensorboard~=2.6->tensorflow) (3.2.0)\n"
     ]
    }
   ],
   "source": [
    "!pip install tensorflow"
   ]
  },
  {
   "cell_type": "code",
   "execution_count": 5,
   "id": "b8e7b3ea-c272-4274-bbc4-0f193044c1ee",
   "metadata": {},
   "outputs": [],
   "source": [
    "import pandas as pd\n",
    "import os, sys\n",
    "import datetime\n",
    "import json\n",
    "from transformers import AutoTokenizer, AutoModelForSequenceClassification\n",
    "import torch\n",
    "import requests\n",
    "from bs4 import BeautifulSoup\n",
    "import re\n",
    "import tensorflow as tf\n",
    "from tensorflow.keras.models import Sequential\n",
    "from tensorflow.keras.layers import Dense\n",
    "from sklearn.model_selection import train_test_split\n",
    "from tensorflow.keras.layers import Embedding\n",
    "from sklearn.preprocessing import OrdinalEncoder, LabelEncoder\n",
    "from sklearn.feature_extraction.text import CountVectorizer"
   ]
  },
  {
   "cell_type": "code",
   "execution_count": 6,
   "id": "5707d940-6d0e-493c-9702-a247668de31a",
   "metadata": {},
   "outputs": [],
   "source": [
    "          ### CONCAT FILES IN CSVs FOLDER ###\n",
    "\n",
    "files = [file_path for file_path in os.listdir('CSVs') if file_path.endswith('.csv')]\n",
    "\n",
    "df = pd.read_csv(os.path.join('CSVs', files[0]))\n",
    "\n",
    "for csv_path in files[1:]:\n",
    "    df_to_add = pd.read_csv(os.path.join('CSVs', csv_path))\n",
    "    df = pd.concat([df,df_to_add])\n",
    "    \n",
    "    \n",
    "df.reset_index(drop=True, inplace=True)\n",
    "\n",
    "df.to_csv('Kick(2021-2022).csv')"
   ]
  },
  {
   "cell_type": "code",
   "execution_count": 8,
   "id": "de91cb0d-691e-42eb-9d86-8171bf4d597e",
   "metadata": {},
   "outputs": [],
   "source": [
    "COLs = ['country','location','category', 'blurb', 'slug', 'backers_count', \n",
    "       'created_at','goal','launched_at','deadline','converted_pledged_amount',\n",
    "        'state', 'currency', 'staff_pick', 'static_usd_rate','usd_type']\n",
    "    \n",
    "\n",
    "def wrangle(CSV_PATH):\n",
    "    df = pd.read_csv(CSV_PATH, usecols= COLs)\n",
    "    df.dropna(inplace=True)\n",
    "\n",
    "    #Reorder columns\n",
    "    df = df[['country','location','category', 'blurb', 'slug', 'backers_count', \n",
    "        'created_at','launched_at','deadline','converted_pledged_amount','goal',\n",
    "        'state', 'currency',\n",
    "        'staff_pick', 'static_usd_rate','usd_type']]\n",
    "    \n",
    "    # Dropping rows where state is = to 'live' or 'canceled'\n",
    "    df = df[df['state'].isin(['successful','failed'])]\n",
    "    \n",
    "    # Convert str to dicts (category and location columns)\n",
    "    convert_to_dicts = lambda x: json.loads(x)\n",
    "    df['category'] = df['category'].apply(convert_to_dicts)\n",
    "    df['location'] = df['location'].apply(convert_to_dicts)\n",
    "    \n",
    "    # Exctract name from dicts (category and location columns)\n",
    "    extract_name = lambda x: x['name']\n",
    "    df['category'] = df['category'].apply(extract_name)\n",
    "    df['location'] = df['location'].apply(extract_name)\n",
    "    \n",
    "    # Timestamps to Dates\n",
    "    convert = lambda x: datetime.datetime.fromtimestamp(x)\n",
    "    df['created_at'] = df['created_at'].apply(convert)\n",
    "    df['launched_at'] = df['launched_at'].apply(convert)\n",
    "    df['deadline'] = df['deadline'].apply(convert)\n",
    "      \n",
    "    # Rename\n",
    "    df.columns = ['country','city_name','category', 'description', 'project_name', 'n_backers', \n",
    "       'created_at','launch_date','deadline','pledged_$','goal',\n",
    "        'state', 'currency',\n",
    "          'staff_pick', 'usd_rate','usd_type']\n",
    "    \n",
    "    # New Features \n",
    "    duration = df['deadline'] - df['launch_date']\n",
    "    df['launch_month_number_of_the_year'] = [i.month for i in df['launch_date']]\n",
    "    df['campaign_duration_in_days'] = [i.days for i in duration]\n",
    "    \n",
    "    # Drop Cols\n",
    "    df.drop(columns=['created_at','launch_date','deadline','usd_type', 'usd_rate','staff_pick', 'n_backers','pledged_$'], inplace=True)\n",
    "    \n",
    "    # Removes Dash from (project_name column)\n",
    "    dash_remover = lambda x: x.replace('-',' ')\n",
    "    df['project_name'] = df['project_name'].apply(dash_remover)\n",
    "    \n",
    "    return df\n",
    "\n",
    "df = wrangle('Kick(2021-2022).csv')\n",
    "\n",
    "df.to_csv('Kick(2021-2022)_wrangled.csv')"
   ]
  },
  {
   "cell_type": "code",
   "execution_count": null,
   "id": "78b29ad5-413d-44d6-851b-3c8a8d3f2b5a",
   "metadata": {},
   "outputs": [],
   "source": []
  },
  {
   "cell_type": "code",
   "execution_count": 14,
   "id": "d795c997-5f7b-4e45-88f4-7b526aba88af",
   "metadata": {},
   "outputs": [],
   "source": [
    "df = pd.read_csv('Kick(2021-2022)_wrangled.zip',compression = \"zip\").drop(columns=['Unnamed: 0'])\n",
    "\n",
    "# get string lenght from 'description' and 'project_name' columns\n",
    "df['description'] = [len(desc) for desc in df['description']]\n",
    "df['project_name'] = [len(title) for title in df['project_name']]\n",
    "\n",
    "df['state'] = [int(x) for x in df['state'].isin(['successful'])]"
   ]
  },
  {
   "cell_type": "code",
   "execution_count": 15,
   "id": "ce39387c-eef3-4698-8d37-9121ab43d1ac",
   "metadata": {},
   "outputs": [],
   "source": [
    "df = df[['state','country', 'city_name', 'category',\n",
    "         'currency', 'launch_month_number_of_the_year','goal',\n",
    "       'campaign_duration_in_days', 'description', 'project_name']]"
   ]
  },
  {
   "cell_type": "code",
   "execution_count": 16,
   "id": "76b910c7-2290-441a-a043-230551e2ecbf",
   "metadata": {},
   "outputs": [],
   "source": [
    "not_encoded_df = df.copy()"
   ]
  },
  {
   "cell_type": "code",
   "execution_count": 17,
   "id": "5f4e5ab8-c4f2-4049-a26a-cf0f247a49f1",
   "metadata": {},
   "outputs": [
    {
     "data": {
      "text/html": [
       "<div>\n",
       "<style scoped>\n",
       "    .dataframe tbody tr th:only-of-type {\n",
       "        vertical-align: middle;\n",
       "    }\n",
       "\n",
       "    .dataframe tbody tr th {\n",
       "        vertical-align: top;\n",
       "    }\n",
       "\n",
       "    .dataframe thead th {\n",
       "        text-align: right;\n",
       "    }\n",
       "</style>\n",
       "<table border=\"1\" class=\"dataframe\">\n",
       "  <thead>\n",
       "    <tr style=\"text-align: right;\">\n",
       "      <th></th>\n",
       "      <th>state</th>\n",
       "      <th>country</th>\n",
       "      <th>city_name</th>\n",
       "      <th>category</th>\n",
       "      <th>currency</th>\n",
       "      <th>launch_month_number_of_the_year</th>\n",
       "      <th>goal</th>\n",
       "      <th>campaign_duration_in_days</th>\n",
       "      <th>description</th>\n",
       "      <th>project_name</th>\n",
       "    </tr>\n",
       "  </thead>\n",
       "  <tbody>\n",
       "    <tr>\n",
       "      <th>0</th>\n",
       "      <td>0</td>\n",
       "      <td>US</td>\n",
       "      <td>Burlington</td>\n",
       "      <td>Glass</td>\n",
       "      <td>USD</td>\n",
       "      <td>8</td>\n",
       "      <td>2000.0</td>\n",
       "      <td>30</td>\n",
       "      <td>96</td>\n",
       "      <td>50</td>\n",
       "    </tr>\n",
       "    <tr>\n",
       "      <th>1</th>\n",
       "      <td>1</td>\n",
       "      <td>US</td>\n",
       "      <td>Vineyard</td>\n",
       "      <td>Events</td>\n",
       "      <td>USD</td>\n",
       "      <td>7</td>\n",
       "      <td>3000.0</td>\n",
       "      <td>16</td>\n",
       "      <td>133</td>\n",
       "      <td>26</td>\n",
       "    </tr>\n",
       "    <tr>\n",
       "      <th>2</th>\n",
       "      <td>1</td>\n",
       "      <td>BE</td>\n",
       "      <td>Antwerp</td>\n",
       "      <td>Comedy</td>\n",
       "      <td>EUR</td>\n",
       "      <td>10</td>\n",
       "      <td>300.0</td>\n",
       "      <td>60</td>\n",
       "      <td>134</td>\n",
       "      <td>26</td>\n",
       "    </tr>\n",
       "    <tr>\n",
       "      <th>3</th>\n",
       "      <td>1</td>\n",
       "      <td>US</td>\n",
       "      <td>Oxnard</td>\n",
       "      <td>Children's Books</td>\n",
       "      <td>USD</td>\n",
       "      <td>12</td>\n",
       "      <td>4500.0</td>\n",
       "      <td>21</td>\n",
       "      <td>133</td>\n",
       "      <td>43</td>\n",
       "    </tr>\n",
       "    <tr>\n",
       "      <th>4</th>\n",
       "      <td>1</td>\n",
       "      <td>US</td>\n",
       "      <td>New York</td>\n",
       "      <td>Musical</td>\n",
       "      <td>USD</td>\n",
       "      <td>7</td>\n",
       "      <td>10000.0</td>\n",
       "      <td>31</td>\n",
       "      <td>92</td>\n",
       "      <td>41</td>\n",
       "    </tr>\n",
       "  </tbody>\n",
       "</table>\n",
       "</div>"
      ],
      "text/plain": [
       "   state country   city_name          category currency  \\\n",
       "0      0      US  Burlington             Glass      USD   \n",
       "1      1      US    Vineyard            Events      USD   \n",
       "2      1      BE     Antwerp            Comedy      EUR   \n",
       "3      1      US      Oxnard  Children's Books      USD   \n",
       "4      1      US    New York           Musical      USD   \n",
       "\n",
       "   launch_month_number_of_the_year     goal  campaign_duration_in_days  \\\n",
       "0                                8   2000.0                         30   \n",
       "1                                7   3000.0                         16   \n",
       "2                               10    300.0                         60   \n",
       "3                               12   4500.0                         21   \n",
       "4                                7  10000.0                         31   \n",
       "\n",
       "   description  project_name  \n",
       "0           96            50  \n",
       "1          133            26  \n",
       "2          134            26  \n",
       "3          133            43  \n",
       "4           92            41  "
      ]
     },
     "execution_count": 17,
     "metadata": {},
     "output_type": "execute_result"
    }
   ],
   "source": [
    "not_encoded_df.head()"
   ]
  },
  {
   "cell_type": "code",
   "execution_count": 18,
   "id": "c8e64dfc-2119-41e0-a783-ab25bfc80095",
   "metadata": {},
   "outputs": [],
   "source": [
    "encoder = LabelEncoder()\n",
    "df['country'] = encoder.fit_transform(df['country'])\n",
    "\n",
    "df['city_name'] = encoder.fit_transform(df['city_name'])\n",
    "\n",
    "df['category'] = encoder.fit_transform(df['category'])\n",
    "\n",
    "df['currency'] = encoder.fit_transform(df['currency'])\n"
   ]
  },
  {
   "cell_type": "code",
   "execution_count": 19,
   "id": "959a3047-b194-4417-9376-7cc4cde839c5",
   "metadata": {},
   "outputs": [
    {
     "data": {
      "text/html": [
       "<div>\n",
       "<style scoped>\n",
       "    .dataframe tbody tr th:only-of-type {\n",
       "        vertical-align: middle;\n",
       "    }\n",
       "\n",
       "    .dataframe tbody tr th {\n",
       "        vertical-align: top;\n",
       "    }\n",
       "\n",
       "    .dataframe thead th {\n",
       "        text-align: right;\n",
       "    }\n",
       "</style>\n",
       "<table border=\"1\" class=\"dataframe\">\n",
       "  <thead>\n",
       "    <tr style=\"text-align: right;\">\n",
       "      <th></th>\n",
       "      <th>state</th>\n",
       "      <th>country</th>\n",
       "      <th>city_name</th>\n",
       "      <th>category</th>\n",
       "      <th>currency</th>\n",
       "      <th>launch_month_number_of_the_year</th>\n",
       "      <th>goal</th>\n",
       "      <th>campaign_duration_in_days</th>\n",
       "      <th>description</th>\n",
       "      <th>project_name</th>\n",
       "    </tr>\n",
       "  </thead>\n",
       "  <tbody>\n",
       "    <tr>\n",
       "      <th>0</th>\n",
       "      <td>0</td>\n",
       "      <td>24</td>\n",
       "      <td>1529</td>\n",
       "      <td>64</td>\n",
       "      <td>14</td>\n",
       "      <td>8</td>\n",
       "      <td>2000.0</td>\n",
       "      <td>30</td>\n",
       "      <td>96</td>\n",
       "      <td>50</td>\n",
       "    </tr>\n",
       "    <tr>\n",
       "      <th>1</th>\n",
       "      <td>1</td>\n",
       "      <td>24</td>\n",
       "      <td>10038</td>\n",
       "      <td>44</td>\n",
       "      <td>14</td>\n",
       "      <td>7</td>\n",
       "      <td>3000.0</td>\n",
       "      <td>16</td>\n",
       "      <td>133</td>\n",
       "      <td>26</td>\n",
       "    </tr>\n",
       "    <tr>\n",
       "      <th>2</th>\n",
       "      <td>1</td>\n",
       "      <td>2</td>\n",
       "      <td>548</td>\n",
       "      <td>24</td>\n",
       "      <td>4</td>\n",
       "      <td>10</td>\n",
       "      <td>300.0</td>\n",
       "      <td>60</td>\n",
       "      <td>134</td>\n",
       "      <td>26</td>\n",
       "    </tr>\n",
       "    <tr>\n",
       "      <th>3</th>\n",
       "      <td>1</td>\n",
       "      <td>24</td>\n",
       "      <td>7174</td>\n",
       "      <td>19</td>\n",
       "      <td>14</td>\n",
       "      <td>12</td>\n",
       "      <td>4500.0</td>\n",
       "      <td>21</td>\n",
       "      <td>133</td>\n",
       "      <td>43</td>\n",
       "    </tr>\n",
       "    <tr>\n",
       "      <th>4</th>\n",
       "      <td>1</td>\n",
       "      <td>24</td>\n",
       "      <td>6641</td>\n",
       "      <td>92</td>\n",
       "      <td>14</td>\n",
       "      <td>7</td>\n",
       "      <td>10000.0</td>\n",
       "      <td>31</td>\n",
       "      <td>92</td>\n",
       "      <td>41</td>\n",
       "    </tr>\n",
       "  </tbody>\n",
       "</table>\n",
       "</div>"
      ],
      "text/plain": [
       "   state  country  city_name  category  currency  \\\n",
       "0      0       24       1529        64        14   \n",
       "1      1       24      10038        44        14   \n",
       "2      1        2        548        24         4   \n",
       "3      1       24       7174        19        14   \n",
       "4      1       24       6641        92        14   \n",
       "\n",
       "   launch_month_number_of_the_year     goal  campaign_duration_in_days  \\\n",
       "0                                8   2000.0                         30   \n",
       "1                                7   3000.0                         16   \n",
       "2                               10    300.0                         60   \n",
       "3                               12   4500.0                         21   \n",
       "4                                7  10000.0                         31   \n",
       "\n",
       "   description  project_name  \n",
       "0           96            50  \n",
       "1          133            26  \n",
       "2          134            26  \n",
       "3          133            43  \n",
       "4           92            41  "
      ]
     },
     "execution_count": 19,
     "metadata": {},
     "output_type": "execute_result"
    }
   ],
   "source": [
    "df.head()"
   ]
  },
  {
   "cell_type": "code",
   "execution_count": 24,
   "id": "28523d95-d76c-4af9-889e-df6c96559708",
   "metadata": {},
   "outputs": [],
   "source": [
    "dict_country = {}\n",
    "dict_city = {}\n",
    "dict_category = {}\n",
    "dict_currency = {}\n",
    "\n",
    "for key, val in zip(not_encoded_df['country'],df['country']):\n",
    "    dict_country[key] = val\n",
    "    \n",
    "for key, val in zip(not_encoded_df['city_name'],df['city_name']):\n",
    "    dict_city[key] = val\n",
    "    \n",
    "for key, val in zip(not_encoded_df['category'],df['category']):\n",
    "    dict_category[key] = val\n",
    "    \n",
    "for key, val in zip(not_encoded_df['currency'],df['currency']):\n",
    "    dict_currency[key] = val"
   ]
  },
  {
   "cell_type": "code",
   "execution_count": 37,
   "id": "e6bfea93-398d-424b-a39b-cd8f550b5bb2",
   "metadata": {},
   "outputs": [
    {
     "data": {
      "text/plain": [
       "country      {'US': 24, 'BE': 2, 'CA': 3, 'ES': 7, 'MX': 16...\n",
       "city_name    {'Burlington': 1529, 'Vineyard': 10038, 'Antwe...\n",
       "category     {'Glass': 64, 'Events': 44, 'Comedy': 24, 'Chi...\n",
       "currency     {'USD': 14, 'EUR': 4, 'CAD': 1, 'MXN': 8, 'HKD...\n",
       "dtype: object"
      ]
     },
     "execution_count": 37,
     "metadata": {},
     "output_type": "execute_result"
    }
   ],
   "source": [
    "Encode_user_input = pd.Series([dict_country, dict_city, dict_category, dict_currency], index=['country', 'city_name', 'category', 'currency'])\n",
    "Encode_user_input"
   ]
  },
  {
   "cell_type": "code",
   "execution_count": 833,
   "id": "06a0ce28-1a92-4e55-ac18-176d280ba648",
   "metadata": {},
   "outputs": [
    {
     "data": {
      "text/html": [
       "<div>\n",
       "<style scoped>\n",
       "    .dataframe tbody tr th:only-of-type {\n",
       "        vertical-align: middle;\n",
       "    }\n",
       "\n",
       "    .dataframe tbody tr th {\n",
       "        vertical-align: top;\n",
       "    }\n",
       "\n",
       "    .dataframe thead th {\n",
       "        text-align: right;\n",
       "    }\n",
       "</style>\n",
       "<table border=\"1\" class=\"dataframe\">\n",
       "  <thead>\n",
       "    <tr style=\"text-align: right;\">\n",
       "      <th></th>\n",
       "      <th>state</th>\n",
       "      <th>country</th>\n",
       "      <th>city_name</th>\n",
       "      <th>category</th>\n",
       "      <th>currency</th>\n",
       "      <th>launch_month_number_of_the_year</th>\n",
       "      <th>goal</th>\n",
       "      <th>campaign_duration_in_days</th>\n",
       "      <th>description</th>\n",
       "      <th>project_name</th>\n",
       "    </tr>\n",
       "  </thead>\n",
       "  <tbody>\n",
       "    <tr>\n",
       "      <th>0</th>\n",
       "      <td>0</td>\n",
       "      <td>24</td>\n",
       "      <td>1529</td>\n",
       "      <td>64</td>\n",
       "      <td>14</td>\n",
       "      <td>8</td>\n",
       "      <td>2000.0</td>\n",
       "      <td>30</td>\n",
       "      <td>96</td>\n",
       "      <td>50</td>\n",
       "    </tr>\n",
       "    <tr>\n",
       "      <th>1</th>\n",
       "      <td>1</td>\n",
       "      <td>24</td>\n",
       "      <td>10038</td>\n",
       "      <td>44</td>\n",
       "      <td>14</td>\n",
       "      <td>7</td>\n",
       "      <td>3000.0</td>\n",
       "      <td>16</td>\n",
       "      <td>133</td>\n",
       "      <td>26</td>\n",
       "    </tr>\n",
       "    <tr>\n",
       "      <th>2</th>\n",
       "      <td>1</td>\n",
       "      <td>2</td>\n",
       "      <td>548</td>\n",
       "      <td>24</td>\n",
       "      <td>4</td>\n",
       "      <td>10</td>\n",
       "      <td>300.0</td>\n",
       "      <td>60</td>\n",
       "      <td>134</td>\n",
       "      <td>26</td>\n",
       "    </tr>\n",
       "    <tr>\n",
       "      <th>3</th>\n",
       "      <td>1</td>\n",
       "      <td>24</td>\n",
       "      <td>7174</td>\n",
       "      <td>19</td>\n",
       "      <td>14</td>\n",
       "      <td>12</td>\n",
       "      <td>4500.0</td>\n",
       "      <td>21</td>\n",
       "      <td>133</td>\n",
       "      <td>43</td>\n",
       "    </tr>\n",
       "    <tr>\n",
       "      <th>4</th>\n",
       "      <td>1</td>\n",
       "      <td>24</td>\n",
       "      <td>6641</td>\n",
       "      <td>92</td>\n",
       "      <td>14</td>\n",
       "      <td>7</td>\n",
       "      <td>10000.0</td>\n",
       "      <td>31</td>\n",
       "      <td>92</td>\n",
       "      <td>41</td>\n",
       "    </tr>\n",
       "  </tbody>\n",
       "</table>\n",
       "</div>"
      ],
      "text/plain": [
       "   state  country  city_name  category  currency  \\\n",
       "0      0       24       1529        64        14   \n",
       "1      1       24      10038        44        14   \n",
       "2      1        2        548        24         4   \n",
       "3      1       24       7174        19        14   \n",
       "4      1       24       6641        92        14   \n",
       "\n",
       "   launch_month_number_of_the_year     goal  campaign_duration_in_days  \\\n",
       "0                                8   2000.0                         30   \n",
       "1                                7   3000.0                         16   \n",
       "2                               10    300.0                         60   \n",
       "3                               12   4500.0                         21   \n",
       "4                                7  10000.0                         31   \n",
       "\n",
       "   description  project_name  \n",
       "0           96            50  \n",
       "1          133            26  \n",
       "2          134            26  \n",
       "3          133            43  \n",
       "4           92            41  "
      ]
     },
     "execution_count": 833,
     "metadata": {},
     "output_type": "execute_result"
    }
   ],
   "source": [
    "df.head({not_encoded_df['country']:df['country']})"
   ]
  },
  {
   "cell_type": "code",
   "execution_count": 773,
   "id": "d37db365-e814-4d9b-af1e-fedf20a068a3",
   "metadata": {},
   "outputs": [],
   "source": [
    "df_train, df_test = train_test_split(df, test_size=.25, train_size=.75, random_state=42)"
   ]
  },
  {
   "cell_type": "code",
   "execution_count": 774,
   "id": "1894fb90-8d14-4a3e-8ec2-224e92714f1c",
   "metadata": {},
   "outputs": [],
   "source": [
    "X_train = df_train.values[:,1:]\n",
    "y_train = df_train.values[:,:1]\n",
    "\n",
    "X_test = df_test.values[:,1:]\n",
    "y_test = df_test.values[:,:1]"
   ]
  },
  {
   "cell_type": "code",
   "execution_count": 775,
   "id": "8d876857-7a96-439f-b750-4be58717c990",
   "metadata": {},
   "outputs": [
    {
     "data": {
      "text/plain": [
       "array([[2.400e+01, 1.221e+03, 9.600e+01, 1.400e+01, 9.000e+00, 3.500e+03,\n",
       "        3.000e+01, 8.900e+01, 3.200e+01],\n",
       "       [2.400e+01, 3.650e+02, 1.160e+02, 1.400e+01, 5.000e+00, 1.500e+03,\n",
       "        3.000e+01, 1.300e+02, 5.000e+01],\n",
       "       [7.000e+00, 8.230e+02, 1.530e+02, 4.000e+00, 8.000e+00, 1.500e+03,\n",
       "        3.000e+01, 9.200e+01, 2.700e+01],\n",
       "       [9.000e+00, 5.494e+03, 5.400e+01, 5.000e+00, 5.000e+00, 7.000e+02,\n",
       "        3.000e+01, 1.220e+02, 4.400e+01],\n",
       "       [2.400e+01, 7.384e+03, 6.000e+00, 1.400e+01, 6.000e+00, 1.000e+04,\n",
       "        4.500e+01, 1.340e+02, 5.000e+01]])"
      ]
     },
     "execution_count": 775,
     "metadata": {},
     "output_type": "execute_result"
    }
   ],
   "source": [
    "X_train[:5]"
   ]
  },
  {
   "cell_type": "code",
   "execution_count": 776,
   "id": "1b23aee0-2885-4d8d-9c76-cc14b8dc5536",
   "metadata": {},
   "outputs": [
    {
     "data": {
      "text/plain": [
       "(156161, 9)"
      ]
     },
     "execution_count": 776,
     "metadata": {},
     "output_type": "execute_result"
    }
   ],
   "source": [
    "X_train.shape"
   ]
  },
  {
   "cell_type": "code",
   "execution_count": 834,
   "id": "4645bdde-4d9c-4ef6-a7ab-564fcc636ac6",
   "metadata": {},
   "outputs": [],
   "source": [
    "def make_model():\n",
    "    model = Sequential()\n",
    "    model.add(Dense(20, input_dim=9, activation='relu'))\n",
    "    model.add(Dense(100, activation='relu'))\n",
    "    model.add(Dense(1, activation='sigmoid'))\n",
    "    model.compile(loss='binary_crossentropy',\n",
    "                optimizer='adam', \n",
    "                metrics=['accuracy'])\n",
    "    return model"
   ]
  },
  {
   "cell_type": "code",
   "execution_count": 835,
   "id": "be898346-5367-4e29-9f4c-da3846389ee9",
   "metadata": {},
   "outputs": [],
   "source": [
    "# from keras.wrappers.scikit_learn import KerasClassifier\n",
    "# estimator = KerasClassifier(build_fn=make_model, epochs=5, verbose=1)"
   ]
  },
  {
   "cell_type": "code",
   "execution_count": 836,
   "id": "c50df294-1ccc-4032-9beb-3b677853ba18",
   "metadata": {},
   "outputs": [],
   "source": [
    "# estimator.fit(x=X_train,\n",
    "#           y=y_train,\n",
    "#           epochs=5,\n",
    "#           validation_data=(X_test, y_test)\n",
    "#           )"
   ]
  },
  {
   "cell_type": "code",
   "execution_count": 837,
   "id": "8b16b38e-4857-4a42-9839-3eeba50b9a90",
   "metadata": {},
   "outputs": [],
   "source": [
    "model = make_model()"
   ]
  },
  {
   "cell_type": "code",
   "execution_count": 838,
   "id": "a13b0c3a-f5ed-4ef2-b6e9-ff5349eaed56",
   "metadata": {},
   "outputs": [
    {
     "name": "stdout",
     "output_type": "stream",
     "text": [
      "Model: \"sequential_26\"\n",
      "_________________________________________________________________\n",
      " Layer (type)                Output Shape              Param #   \n",
      "=================================================================\n",
      " dense_67 (Dense)            (None, 20)                200       \n",
      "                                                                 \n",
      " dense_68 (Dense)            (None, 100)               2100      \n",
      "                                                                 \n",
      " dense_69 (Dense)            (None, 1)                 101       \n",
      "                                                                 \n",
      "=================================================================\n",
      "Total params: 2,401\n",
      "Trainable params: 2,401\n",
      "Non-trainable params: 0\n",
      "_________________________________________________________________\n"
     ]
    }
   ],
   "source": [
    "model.summary()"
   ]
  },
  {
   "cell_type": "code",
   "execution_count": 839,
   "id": "6f4aa5cc-4036-4fb3-a147-a93fe11a57b6",
   "metadata": {},
   "outputs": [
    {
     "name": "stdout",
     "output_type": "stream",
     "text": [
      "Epoch 1/5\n",
      "4881/4881 [==============================] - 40s 8ms/step - loss: 456.0708 - accuracy: 0.5979 - val_loss: 4.0430 - val_accuracy: 0.6405\n",
      "Epoch 2/5\n",
      "4881/4881 [==============================] - 39s 8ms/step - loss: 61.7819 - accuracy: 0.6486 - val_loss: 0.6578 - val_accuracy: 0.6326\n",
      "Epoch 3/5\n",
      "4881/4881 [==============================] - 38s 8ms/step - loss: 0.6545 - accuracy: 0.6384 - val_loss: 0.6580 - val_accuracy: 0.6326\n",
      "Epoch 4/5\n",
      "4881/4881 [==============================] - 39s 8ms/step - loss: 0.6545 - accuracy: 0.6384 - val_loss: 0.6576 - val_accuracy: 0.6326\n",
      "Epoch 5/5\n",
      "4881/4881 [==============================] - 40s 8ms/step - loss: 0.6545 - accuracy: 0.6384 - val_loss: 0.6577 - val_accuracy: 0.6326\n"
     ]
    },
    {
     "data": {
      "text/plain": [
       "<keras.callbacks.History at 0x29767208be0>"
      ]
     },
     "execution_count": 839,
     "metadata": {},
     "output_type": "execute_result"
    }
   ],
   "source": [
    "model.fit(x=X_train,\n",
    "          y=y_train,\n",
    "          epochs=5,\n",
    "          validation_data=(X_test, y_test)\n",
    "          )"
   ]
  },
  {
   "cell_type": "code",
   "execution_count": null,
   "id": "edf1ecb7-c55a-42b9-adea-537c5e723b31",
   "metadata": {},
   "outputs": [],
   "source": []
  }
 ],
 "metadata": {
  "kernelspec": {
   "display_name": "Python 3",
   "language": "python",
   "name": "python3"
  },
  "language_info": {
   "codemirror_mode": {
    "name": "ipython",
    "version": 3
   },
   "file_extension": ".py",
   "mimetype": "text/x-python",
   "name": "python",
   "nbconvert_exporter": "python",
   "pygments_lexer": "ipython3",
   "version": "3.8.8"
  }
 },
 "nbformat": 4,
 "nbformat_minor": 5
}
