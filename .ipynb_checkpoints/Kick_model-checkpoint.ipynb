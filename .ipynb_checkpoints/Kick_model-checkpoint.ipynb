{
 "cells": [
  {
   "cell_type": "code",
   "execution_count": 53,
   "id": "b8e7b3ea-c272-4274-bbc4-0f193044c1ee",
   "metadata": {},
   "outputs": [],
   "source": [
    "import pandas as pd\n",
    "import os, sys\n",
    "import datetime\n",
    "import json"
   ]
  },
  {
   "cell_type": "code",
   "execution_count": 4,
   "id": "5707d940-6d0e-493c-9702-a247668de31a",
   "metadata": {},
   "outputs": [],
   "source": [
    "          ### CONCAT FILES IN CSVs FOLDER ###\n",
    "\n",
    "# files = [file_path for file_path in os.listdir('CSVs') if file_path.endswith('.csv')]\n",
    "\n",
    "# df = pd.read_csv(os.path.join('CSVs', files[0]))\n",
    "\n",
    "# for csv_path in files[1:]:\n",
    "#     df_to_add = pd.read_csv(os.path.join('CSVs', csv_path))\n",
    "#     df = pd.concat([df,df_to_add])\n",
    "    \n",
    "    \n",
    "# df.reset_index(drop=True, inplace=True)\n",
    "\n",
    "#df.to_csv('Kick(2021-2022).csv')"
   ]
  },
  {
   "cell_type": "code",
   "execution_count": 353,
   "id": "de91cb0d-691e-42eb-9d86-8171bf4d597e",
   "metadata": {},
   "outputs": [],
   "source": [
    "# COLs = ['country','location','category', 'blurb', 'slug', 'backers_count', \n",
    "#        'created_at','goal','launched_at','deadline','converted_pledged_amount',\n",
    "#         'state', 'currency', 'staff_pick', 'static_usd_rate','usd_type']\n",
    "    \n",
    "\n",
    "# def wrangle(CSV_PATH):\n",
    "#     df = pd.read_csv(CSV_PATH, usecols= COLs)\n",
    "#     df.dropna(inplace=True)\n",
    "\n",
    "#     #Reorder columns\n",
    "#     df = df[['country','location','category', 'blurb', 'slug', 'backers_count', \n",
    "#         'created_at','launched_at','deadline','converted_pledged_amount','goal',\n",
    "#         'state', 'currency',\n",
    "#         'staff_pick', 'static_usd_rate','usd_type']]\n",
    "    \n",
    "#     # Dropping rows where state is = to 'live' or 'canceled'\n",
    "#     df = df[df['state'].isin(['successful','failed'])]\n",
    "    \n",
    "#     # Convert str to dicts (category and location columns)\n",
    "#     convert_to_dicts = lambda x: json.loads(x)\n",
    "#     df['category'] = df['category'].apply(convert_to_dicts)\n",
    "#     df['location'] = df['location'].apply(convert_to_dicts)\n",
    "    \n",
    "#     # Exctract name from dicts (category and location columns)\n",
    "#     extract_name = lambda x: x['name']\n",
    "#     df['category'] = df['category'].apply(extract_name)\n",
    "#     df['location'] = df['location'].apply(extract_name)\n",
    "    \n",
    "#     # Timestamps to Dates\n",
    "#     convert = lambda x: datetime.datetime.fromtimestamp(x)\n",
    "#     df['created_at'] = df['created_at'].apply(convert)\n",
    "#     df['launched_at'] = df['launched_at'].apply(convert)\n",
    "#     df['deadline'] = df['deadline'].apply(convert)\n",
    "      \n",
    "#     # Rename\n",
    "#     df.columns = ['country','location','category', 'blurb', 'slug', 'n_backers', \n",
    "#        'created_at','launch_date','deadline','pledged_$','goal',\n",
    "#         'state', 'currency',\n",
    "#           'staff_pick', 'usd_rate','usd_type']\n",
    "    \n",
    "#     # New Features \n",
    "#     df['launch_week_of_the_year'] = [i.week for i in df['launch_date']]\n",
    "#     df['campaign_duration_in_days'] = [i.days for i in duration]\n",
    "    \n",
    "#     # Drop Cols\n",
    "#     df.drop(columns=['created_at','launch_date','deadline','usd_type', 'usd_rate'], inplace=True)\n",
    "    \n",
    "#     return df\n",
    "\n",
    "# df = wrangle('Kick(2021-2022).csv')"
   ]
  },
  {
   "cell_type": "code",
   "execution_count": 361,
   "id": "d795c997-5f7b-4e45-88f4-7b526aba88af",
   "metadata": {},
   "outputs": [],
   "source": [
    "df = pd.read_csv('Kick(2021-2022)_wrangled.zip',compression = \"zip\")"
   ]
  },
  {
   "cell_type": "code",
   "execution_count": 362,
   "id": "6daf0c84-933d-4642-b416-3fc8462d772f",
   "metadata": {},
   "outputs": [
    {
     "data": {
      "text/html": [
       "<div>\n",
       "<style scoped>\n",
       "    .dataframe tbody tr th:only-of-type {\n",
       "        vertical-align: middle;\n",
       "    }\n",
       "\n",
       "    .dataframe tbody tr th {\n",
       "        vertical-align: top;\n",
       "    }\n",
       "\n",
       "    .dataframe thead th {\n",
       "        text-align: right;\n",
       "    }\n",
       "</style>\n",
       "<table border=\"1\" class=\"dataframe\">\n",
       "  <thead>\n",
       "    <tr style=\"text-align: right;\">\n",
       "      <th></th>\n",
       "      <th>Unnamed: 0</th>\n",
       "      <th>country</th>\n",
       "      <th>location</th>\n",
       "      <th>category</th>\n",
       "      <th>blurb</th>\n",
       "      <th>slug</th>\n",
       "      <th>n_backers</th>\n",
       "      <th>pledged_$</th>\n",
       "      <th>goal</th>\n",
       "      <th>state</th>\n",
       "      <th>currency</th>\n",
       "      <th>staff_pick</th>\n",
       "      <th>launch_week_of_the_year</th>\n",
       "      <th>campaign_duration_in_days</th>\n",
       "    </tr>\n",
       "  </thead>\n",
       "  <tbody>\n",
       "    <tr>\n",
       "      <th>0</th>\n",
       "      <td>0</td>\n",
       "      <td>US</td>\n",
       "      <td>Burlington</td>\n",
       "      <td>Glass</td>\n",
       "      <td>I make these adorable planters myself.   Custo...</td>\n",
       "      <td>i-would-like-to-produce-and-sell-my-lightbulb-...</td>\n",
       "      <td>2</td>\n",
       "      <td>31</td>\n",
       "      <td>2000.0</td>\n",
       "      <td>failed</td>\n",
       "      <td>USD</td>\n",
       "      <td>False</td>\n",
       "      <td>34</td>\n",
       "      <td>30</td>\n",
       "    </tr>\n",
       "    <tr>\n",
       "      <th>1</th>\n",
       "      <td>1</td>\n",
       "      <td>US</td>\n",
       "      <td>Vineyard</td>\n",
       "      <td>Events</td>\n",
       "      <td>The Utah Valley Food Fest is a sampling event,...</td>\n",
       "      <td>utah-valley-food-fest-2019</td>\n",
       "      <td>188</td>\n",
       "      <td>3367</td>\n",
       "      <td>3000.0</td>\n",
       "      <td>successful</td>\n",
       "      <td>USD</td>\n",
       "      <td>False</td>\n",
       "      <td>31</td>\n",
       "      <td>16</td>\n",
       "    </tr>\n",
       "    <tr>\n",
       "      <th>2</th>\n",
       "      <td>2</td>\n",
       "      <td>BE</td>\n",
       "      <td>Antwerp</td>\n",
       "      <td>Comedy</td>\n",
       "      <td>Newly found cabaret project Bunny Burlesk Even...</td>\n",
       "      <td>bbe-cabaret-burlesque-show</td>\n",
       "      <td>12</td>\n",
       "      <td>380</td>\n",
       "      <td>300.0</td>\n",
       "      <td>successful</td>\n",
       "      <td>EUR</td>\n",
       "      <td>False</td>\n",
       "      <td>40</td>\n",
       "      <td>60</td>\n",
       "    </tr>\n",
       "    <tr>\n",
       "      <th>3</th>\n",
       "      <td>3</td>\n",
       "      <td>US</td>\n",
       "      <td>Oxnard</td>\n",
       "      <td>Children's Books</td>\n",
       "      <td>A children's book about a bear that discovers ...</td>\n",
       "      <td>you-are-loved-a-bear-odd-fruit-origin-story</td>\n",
       "      <td>89</td>\n",
       "      <td>4839</td>\n",
       "      <td>4500.0</td>\n",
       "      <td>successful</td>\n",
       "      <td>USD</td>\n",
       "      <td>True</td>\n",
       "      <td>53</td>\n",
       "      <td>21</td>\n",
       "    </tr>\n",
       "    <tr>\n",
       "      <th>4</th>\n",
       "      <td>4</td>\n",
       "      <td>US</td>\n",
       "      <td>New York</td>\n",
       "      <td>Musical</td>\n",
       "      <td>What happens when the queen of darkness decide...</td>\n",
       "      <td>wish-a-mystical-magical-murderful-musical</td>\n",
       "      <td>30</td>\n",
       "      <td>10703</td>\n",
       "      <td>10000.0</td>\n",
       "      <td>successful</td>\n",
       "      <td>USD</td>\n",
       "      <td>False</td>\n",
       "      <td>27</td>\n",
       "      <td>31</td>\n",
       "    </tr>\n",
       "  </tbody>\n",
       "</table>\n",
       "</div>"
      ],
      "text/plain": [
       "   Unnamed: 0 country    location          category  \\\n",
       "0           0      US  Burlington             Glass   \n",
       "1           1      US    Vineyard            Events   \n",
       "2           2      BE     Antwerp            Comedy   \n",
       "3           3      US      Oxnard  Children's Books   \n",
       "4           4      US    New York           Musical   \n",
       "\n",
       "                                               blurb  \\\n",
       "0  I make these adorable planters myself.   Custo...   \n",
       "1  The Utah Valley Food Fest is a sampling event,...   \n",
       "2  Newly found cabaret project Bunny Burlesk Even...   \n",
       "3  A children's book about a bear that discovers ...   \n",
       "4  What happens when the queen of darkness decide...   \n",
       "\n",
       "                                                slug  n_backers  pledged_$  \\\n",
       "0  i-would-like-to-produce-and-sell-my-lightbulb-...          2         31   \n",
       "1                         utah-valley-food-fest-2019        188       3367   \n",
       "2                         bbe-cabaret-burlesque-show         12        380   \n",
       "3        you-are-loved-a-bear-odd-fruit-origin-story         89       4839   \n",
       "4          wish-a-mystical-magical-murderful-musical         30      10703   \n",
       "\n",
       "      goal       state currency  staff_pick  launch_week_of_the_year  \\\n",
       "0   2000.0      failed      USD       False                       34   \n",
       "1   3000.0  successful      USD       False                       31   \n",
       "2    300.0  successful      EUR       False                       40   \n",
       "3   4500.0  successful      USD        True                       53   \n",
       "4  10000.0  successful      USD       False                       27   \n",
       "\n",
       "   campaign_duration_in_days  \n",
       "0                         30  \n",
       "1                         16  \n",
       "2                         60  \n",
       "3                         21  \n",
       "4                         31  "
      ]
     },
     "execution_count": 362,
     "metadata": {},
     "output_type": "execute_result"
    }
   ],
   "source": [
    "df.head()"
   ]
  },
  {
   "cell_type": "code",
   "execution_count": 356,
   "id": "a83fee69-b9e4-451d-a9df-abf66916805b",
   "metadata": {},
   "outputs": [],
   "source": [
    "df.to_csv('Kick(2021-2022)_wrangled.csv')"
   ]
  },
  {
   "cell_type": "code",
   "execution_count": 294,
   "id": "41e50aeb-e723-4ab6-9326-036d109033fe",
   "metadata": {},
   "outputs": [
    {
     "name": "stdout",
     "output_type": "stream",
     "text": [
      "<class 'pandas.core.frame.DataFrame'>\n",
      "Int64Index: 208215 entries, 0 to 223288\n",
      "Data columns (total 18 columns):\n",
      " #   Column            Non-Null Count   Dtype         \n",
      "---  ------            --------------   -----         \n",
      " 0   country           208215 non-null  object        \n",
      " 1   location          208215 non-null  object        \n",
      " 2   category          208215 non-null  object        \n",
      " 3   blurb             208215 non-null  object        \n",
      " 4   slug              208215 non-null  object        \n",
      " 5   n_backers         208215 non-null  int64         \n",
      " 6   created_at        208215 non-null  datetime64[ns]\n",
      " 7   launch_date       208215 non-null  datetime64[ns]\n",
      " 8   deadline          208215 non-null  datetime64[ns]\n",
      " 9   pledged_$         208215 non-null  int64         \n",
      " 10  goal              208215 non-null  float64       \n",
      " 11  state             208215 non-null  object        \n",
      " 12  state_changed_at  208215 non-null  datetime64[ns]\n",
      " 13  currency          208215 non-null  object        \n",
      " 14  spotlight         208215 non-null  bool          \n",
      " 15  staff_pick        208215 non-null  bool          \n",
      " 16  usd_rate          208215 non-null  float64       \n",
      " 17  usd_type          208215 non-null  object        \n",
      "dtypes: bool(2), datetime64[ns](4), float64(2), int64(2), object(8)\n",
      "memory usage: 27.4+ MB\n"
     ]
    }
   ],
   "source": [
    "df.info()"
   ]
  },
  {
   "cell_type": "code",
   "execution_count": 324,
   "id": "47834e57-bbee-4ddc-8bb8-43ada34d6b09",
   "metadata": {},
   "outputs": [],
   "source": [
    "df['launch_week_of_the_year'] = [i.week for i in df['launch_date']]\n",
    "df['duration_in_days'] = [i.days for i in duration]\n",
    "\n"
   ]
  },
  {
   "cell_type": "code",
   "execution_count": 315,
   "id": "d5049b0c-3854-44b1-a91a-b2046409a36f",
   "metadata": {},
   "outputs": [],
   "source": [
    "duration = df['deadline'] - df['launch_date']"
   ]
  },
  {
   "cell_type": "code",
   "execution_count": 322,
   "id": "a59c0ff0-609c-4294-a97b-f5289951d99f",
   "metadata": {},
   "outputs": [],
   "source": [
    "df['duration_in_days'] = [i.days for i in duration]"
   ]
  },
  {
   "cell_type": "code",
   "execution_count": 325,
   "id": "45357037-8204-4f47-afff-5f91d500d079",
   "metadata": {},
   "outputs": [
    {
     "data": {
      "text/html": [
       "<div>\n",
       "<style scoped>\n",
       "    .dataframe tbody tr th:only-of-type {\n",
       "        vertical-align: middle;\n",
       "    }\n",
       "\n",
       "    .dataframe tbody tr th {\n",
       "        vertical-align: top;\n",
       "    }\n",
       "\n",
       "    .dataframe thead th {\n",
       "        text-align: right;\n",
       "    }\n",
       "</style>\n",
       "<table border=\"1\" class=\"dataframe\">\n",
       "  <thead>\n",
       "    <tr style=\"text-align: right;\">\n",
       "      <th></th>\n",
       "      <th>country</th>\n",
       "      <th>location</th>\n",
       "      <th>category</th>\n",
       "      <th>blurb</th>\n",
       "      <th>slug</th>\n",
       "      <th>n_backers</th>\n",
       "      <th>created_at</th>\n",
       "      <th>launch_date</th>\n",
       "      <th>deadline</th>\n",
       "      <th>pledged_$</th>\n",
       "      <th>goal</th>\n",
       "      <th>state</th>\n",
       "      <th>state_changed_at</th>\n",
       "      <th>currency</th>\n",
       "      <th>spotlight</th>\n",
       "      <th>staff_pick</th>\n",
       "      <th>usd_rate</th>\n",
       "      <th>usd_type</th>\n",
       "      <th>duration</th>\n",
       "      <th>launch_week</th>\n",
       "    </tr>\n",
       "  </thead>\n",
       "  <tbody>\n",
       "    <tr>\n",
       "      <th>0</th>\n",
       "      <td>US</td>\n",
       "      <td>Burlington</td>\n",
       "      <td>Glass</td>\n",
       "      <td>I make these adorable planters myself.   Custo...</td>\n",
       "      <td>i-would-like-to-produce-and-sell-my-lightbulb-...</td>\n",
       "      <td>2</td>\n",
       "      <td>2014-08-14 17:03:06</td>\n",
       "      <td>2014-08-20 14:16:23</td>\n",
       "      <td>2014-09-19 14:16:23</td>\n",
       "      <td>31</td>\n",
       "      <td>2000.0</td>\n",
       "      <td>failed</td>\n",
       "      <td>2014-09-19 14:16:23</td>\n",
       "      <td>USD</td>\n",
       "      <td>False</td>\n",
       "      <td>False</td>\n",
       "      <td>1.000000</td>\n",
       "      <td>domestic</td>\n",
       "      <td>30</td>\n",
       "      <td>34</td>\n",
       "    </tr>\n",
       "    <tr>\n",
       "      <th>1</th>\n",
       "      <td>US</td>\n",
       "      <td>Vineyard</td>\n",
       "      <td>Events</td>\n",
       "      <td>The Utah Valley Food Fest is a sampling event,...</td>\n",
       "      <td>utah-valley-food-fest-2019</td>\n",
       "      <td>188</td>\n",
       "      <td>2019-07-17 22:31:20</td>\n",
       "      <td>2019-07-31 21:55:28</td>\n",
       "      <td>2019-08-17 02:01:00</td>\n",
       "      <td>3367</td>\n",
       "      <td>3000.0</td>\n",
       "      <td>successful</td>\n",
       "      <td>2019-08-17 02:01:00</td>\n",
       "      <td>USD</td>\n",
       "      <td>True</td>\n",
       "      <td>False</td>\n",
       "      <td>1.000000</td>\n",
       "      <td>domestic</td>\n",
       "      <td>16</td>\n",
       "      <td>31</td>\n",
       "    </tr>\n",
       "    <tr>\n",
       "      <th>2</th>\n",
       "      <td>BE</td>\n",
       "      <td>Antwerp</td>\n",
       "      <td>Comedy</td>\n",
       "      <td>Newly found cabaret project Bunny Burlesk Even...</td>\n",
       "      <td>bbe-cabaret-burlesque-show</td>\n",
       "      <td>12</td>\n",
       "      <td>2018-10-01 04:32:40</td>\n",
       "      <td>2018-10-02 05:02:05</td>\n",
       "      <td>2018-12-01 05:02:05</td>\n",
       "      <td>380</td>\n",
       "      <td>300.0</td>\n",
       "      <td>successful</td>\n",
       "      <td>2018-12-01 05:02:05</td>\n",
       "      <td>EUR</td>\n",
       "      <td>True</td>\n",
       "      <td>False</td>\n",
       "      <td>1.159643</td>\n",
       "      <td>international</td>\n",
       "      <td>60</td>\n",
       "      <td>40</td>\n",
       "    </tr>\n",
       "    <tr>\n",
       "      <th>3</th>\n",
       "      <td>US</td>\n",
       "      <td>Oxnard</td>\n",
       "      <td>Children's Books</td>\n",
       "      <td>A children's book about a bear that discovers ...</td>\n",
       "      <td>you-are-loved-a-bear-odd-fruit-origin-story</td>\n",
       "      <td>89</td>\n",
       "      <td>2020-12-13 19:21:05</td>\n",
       "      <td>2020-12-29 22:00:16</td>\n",
       "      <td>2021-01-19 22:30:00</td>\n",
       "      <td>4839</td>\n",
       "      <td>4500.0</td>\n",
       "      <td>successful</td>\n",
       "      <td>2021-01-19 22:30:00</td>\n",
       "      <td>USD</td>\n",
       "      <td>True</td>\n",
       "      <td>True</td>\n",
       "      <td>1.000000</td>\n",
       "      <td>domestic</td>\n",
       "      <td>21</td>\n",
       "      <td>53</td>\n",
       "    </tr>\n",
       "    <tr>\n",
       "      <th>4</th>\n",
       "      <td>US</td>\n",
       "      <td>New York</td>\n",
       "      <td>Musical</td>\n",
       "      <td>What happens when the queen of darkness decide...</td>\n",
       "      <td>wish-a-mystical-magical-murderful-musical</td>\n",
       "      <td>30</td>\n",
       "      <td>2015-06-28 10:42:17</td>\n",
       "      <td>2015-07-02 17:49:19</td>\n",
       "      <td>2015-08-02 19:00:00</td>\n",
       "      <td>10703</td>\n",
       "      <td>10000.0</td>\n",
       "      <td>successful</td>\n",
       "      <td>2015-08-02 19:00:16</td>\n",
       "      <td>USD</td>\n",
       "      <td>True</td>\n",
       "      <td>False</td>\n",
       "      <td>1.000000</td>\n",
       "      <td>international</td>\n",
       "      <td>31</td>\n",
       "      <td>27</td>\n",
       "    </tr>\n",
       "  </tbody>\n",
       "</table>\n",
       "</div>"
      ],
      "text/plain": [
       "  country    location          category  \\\n",
       "0      US  Burlington             Glass   \n",
       "1      US    Vineyard            Events   \n",
       "2      BE     Antwerp            Comedy   \n",
       "3      US      Oxnard  Children's Books   \n",
       "4      US    New York           Musical   \n",
       "\n",
       "                                               blurb  \\\n",
       "0  I make these adorable planters myself.   Custo...   \n",
       "1  The Utah Valley Food Fest is a sampling event,...   \n",
       "2  Newly found cabaret project Bunny Burlesk Even...   \n",
       "3  A children's book about a bear that discovers ...   \n",
       "4  What happens when the queen of darkness decide...   \n",
       "\n",
       "                                                slug  n_backers  \\\n",
       "0  i-would-like-to-produce-and-sell-my-lightbulb-...          2   \n",
       "1                         utah-valley-food-fest-2019        188   \n",
       "2                         bbe-cabaret-burlesque-show         12   \n",
       "3        you-are-loved-a-bear-odd-fruit-origin-story         89   \n",
       "4          wish-a-mystical-magical-murderful-musical         30   \n",
       "\n",
       "           created_at         launch_date            deadline  pledged_$  \\\n",
       "0 2014-08-14 17:03:06 2014-08-20 14:16:23 2014-09-19 14:16:23         31   \n",
       "1 2019-07-17 22:31:20 2019-07-31 21:55:28 2019-08-17 02:01:00       3367   \n",
       "2 2018-10-01 04:32:40 2018-10-02 05:02:05 2018-12-01 05:02:05        380   \n",
       "3 2020-12-13 19:21:05 2020-12-29 22:00:16 2021-01-19 22:30:00       4839   \n",
       "4 2015-06-28 10:42:17 2015-07-02 17:49:19 2015-08-02 19:00:00      10703   \n",
       "\n",
       "      goal       state    state_changed_at currency  spotlight  staff_pick  \\\n",
       "0   2000.0      failed 2014-09-19 14:16:23      USD      False       False   \n",
       "1   3000.0  successful 2019-08-17 02:01:00      USD       True       False   \n",
       "2    300.0  successful 2018-12-01 05:02:05      EUR       True       False   \n",
       "3   4500.0  successful 2021-01-19 22:30:00      USD       True        True   \n",
       "4  10000.0  successful 2015-08-02 19:00:16      USD       True       False   \n",
       "\n",
       "   usd_rate       usd_type  duration  launch_week  \n",
       "0  1.000000       domestic        30           34  \n",
       "1  1.000000       domestic        16           31  \n",
       "2  1.159643  international        60           40  \n",
       "3  1.000000       domestic        21           53  \n",
       "4  1.000000  international        31           27  "
      ]
     },
     "execution_count": 325,
     "metadata": {},
     "output_type": "execute_result"
    }
   ],
   "source": [
    "df.head()"
   ]
  },
  {
   "cell_type": "code",
   "execution_count": 291,
   "id": "7d9fd3f5-b1a4-4397-8fc5-9d6bac391fcd",
   "metadata": {},
   "outputs": [
    {
     "data": {
      "text/plain": [
       "16"
      ]
     },
     "execution_count": 291,
     "metadata": {},
     "output_type": "execute_result"
    }
   ],
   "source": [
    "test.days"
   ]
  },
  {
   "cell_type": "code",
   "execution_count": 271,
   "id": "c893e294-3a51-45fa-9028-6799f59c847b",
   "metadata": {},
   "outputs": [
    {
     "data": {
      "text/plain": [
       "country                 25\n",
       "location             10834\n",
       "category               161\n",
       "blurb               130836\n",
       "slug                131581\n",
       "n_backers             3114\n",
       "created_at          131535\n",
       "launch_date         131489\n",
       "deadline            125114\n",
       "pledged_$            29267\n",
       "goal                  4541\n",
       "state                    2\n",
       "state_changed_at    125202\n",
       "currency                15\n",
       "spotlight                2\n",
       "staff_pick               2\n",
       "usd_rate             13715\n",
       "usd_type                 2\n",
       "dtype: int64"
      ]
     },
     "execution_count": 271,
     "metadata": {},
     "output_type": "execute_result"
    }
   ],
   "source": [
    "df.nunique()"
   ]
  },
  {
   "cell_type": "code",
   "execution_count": 41,
   "id": "0bca8fae-a766-4004-a434-b9cc54d38d5e",
   "metadata": {},
   "outputs": [
    {
     "data": {
      "text/plain": [
       "datetime.datetime(2018, 5, 29, 9, 56, 42)"
      ]
     },
     "execution_count": 41,
     "metadata": {},
     "output_type": "execute_result"
    }
   ],
   "source": [
    "datetime.datetime.fromtimestamp(df['created_at'][1])"
   ]
  },
  {
   "cell_type": "code",
   "execution_count": 34,
   "id": "e273fae0-9d6b-415b-b306-e42b419eb4d9",
   "metadata": {},
   "outputs": [
    {
     "ename": "AttributeError",
     "evalue": "'numpy.int64' object has no attribute 'to_pydatetime'",
     "output_type": "error",
     "traceback": [
      "\u001b[1;31m---------------------------------------------------------------------------\u001b[0m",
      "\u001b[1;31mAttributeError\u001b[0m                            Traceback (most recent call last)",
      "\u001b[1;32m<ipython-input-34-199596b11cee>\u001b[0m in \u001b[0;36m<module>\u001b[1;34m\u001b[0m\n\u001b[1;32m----> 1\u001b[1;33m \u001b[0mdf\u001b[0m\u001b[1;33m[\u001b[0m\u001b[1;34m'created_at'\u001b[0m\u001b[1;33m]\u001b[0m\u001b[1;33m[\u001b[0m\u001b[1;36m0\u001b[0m\u001b[1;33m]\u001b[0m\u001b[1;33m.\u001b[0m\u001b[0mto_pydatetime\u001b[0m\u001b[1;33m(\u001b[0m\u001b[1;33m)\u001b[0m\u001b[1;33m\u001b[0m\u001b[1;33m\u001b[0m\u001b[0m\n\u001b[0m",
      "\u001b[1;31mAttributeError\u001b[0m: 'numpy.int64' object has no attribute 'to_pydatetime'"
     ]
    }
   ],
   "source": [
    "df['created_at'][0].to_pydatetime()"
   ]
  },
  {
   "cell_type": "code",
   "execution_count": 71,
   "id": "3c6ca4fd-df84-472e-9abf-2cca6bdf590e",
   "metadata": {},
   "outputs": [],
   "source": [
    "d_test = pd.read_csv('CSVs/2022 (9).csv')"
   ]
  },
  {
   "cell_type": "code",
   "execution_count": 241,
   "id": "283aa661-09b0-4aa6-8317-de53569f257c",
   "metadata": {},
   "outputs": [],
   "source": [
    "convert = lambda x: datetime.datetime.fromtimestamp(x)\n",
    "df['created_at'] = df['created_at'].apply(convert)\n",
    "# d_test['created_at'] = d_test['created_at'].apply(convert)\n",
    "# d_test['launched_at'] = d_test['launched_at'].apply(convert)"
   ]
  },
  {
   "cell_type": "code",
   "execution_count": 242,
   "id": "8abe2468-a704-46f5-a0ca-806e37bde7f9",
   "metadata": {},
   "outputs": [
    {
     "data": {
      "text/plain": [
       "0        2014-08-14 17:03:06\n",
       "1        2019-07-17 22:31:20\n",
       "2        2018-10-01 04:32:40\n",
       "3        2020-12-13 19:21:05\n",
       "4        2015-06-28 10:42:17\n",
       "                 ...        \n",
       "223284   2015-07-28 19:00:33\n",
       "223285   2015-07-01 22:01:36\n",
       "223286   2015-07-15 12:23:38\n",
       "223287   2015-07-02 07:11:45\n",
       "223288   2017-07-26 08:49:18\n",
       "Name: created_at, Length: 222754, dtype: datetime64[ns]"
      ]
     },
     "execution_count": 242,
     "metadata": {},
     "output_type": "execute_result"
    }
   ],
   "source": [
    "df['created_at'] "
   ]
  },
  {
   "cell_type": "code",
   "execution_count": 76,
   "id": "c9d95fdc-992d-4b10-9203-645be4c5fbed",
   "metadata": {},
   "outputs": [
    {
     "data": {
      "text/plain": [
       "1.592374e+09    1\n",
       "Name: last_update_published_at, dtype: int64"
      ]
     },
     "execution_count": 76,
     "metadata": {},
     "output_type": "execute_result"
    }
   ],
   "source": [
    "df['last_update_published_at'].value_counts()"
   ]
  },
  {
   "cell_type": "code",
   "execution_count": 70,
   "id": "0133373d-4081-4737-b5f9-6d90390629ec",
   "metadata": {},
   "outputs": [
    {
     "data": {
      "text/plain": [
       "Timedelta('216 days 11:17:00')"
      ]
     },
     "execution_count": 70,
     "metadata": {},
     "output_type": "execute_result"
    }
   ],
   "source": [
    "(d_test['deadline'][1] - d_test['created_at'][2])"
   ]
  },
  {
   "cell_type": "code",
   "execution_count": null,
   "id": "54be7b1c-e7cc-4e9d-9916-975edcae85b0",
   "metadata": {},
   "outputs": [],
   "source": []
  }
 ],
 "metadata": {
  "kernelspec": {
   "display_name": "Python 3",
   "language": "python",
   "name": "python3"
  },
  "language_info": {
   "codemirror_mode": {
    "name": "ipython",
    "version": 3
   },
   "file_extension": ".py",
   "mimetype": "text/x-python",
   "name": "python",
   "nbconvert_exporter": "python",
   "pygments_lexer": "ipython3",
   "version": "3.8.8"
  }
 },
 "nbformat": 4,
 "nbformat_minor": 5
}
