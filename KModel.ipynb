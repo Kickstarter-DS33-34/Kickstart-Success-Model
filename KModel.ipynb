{
 "cells": [
  {
   "cell_type": "code",
   "execution_count": 1,
   "id": "a49b9412-ca0d-4186-a4b3-ded270bb2293",
   "metadata": {},
   "outputs": [],
   "source": [
    "import tensorflow as tf\n",
    "import numpy as np\n",
    "import pandas as pd\n",
    "from tensorflow import keras\n",
    "from tensorflow.keras import layers\n",
    "from sklearn.preprocessing import LabelEncoder\n",
    "from tensorflow.keras.layers import IntegerLookup\n",
    "from tensorflow.keras.layers import Normalization\n",
    "from tensorflow.keras.layers import StringLookup"
   ]
  },
  {
   "cell_type": "code",
   "execution_count": 2,
   "id": "52482d76-d249-4bd8-a0d6-1429dacffe92",
   "metadata": {},
   "outputs": [
    {
     "name": "stdout",
     "output_type": "stream",
     "text": [
      "2.7.0\n"
     ]
    }
   ],
   "source": [
    "print(tf.__version__)"
   ]
  },
  {
   "cell_type": "code",
   "execution_count": 60,
   "id": "67e4c0f3-8ea7-4367-aac5-eacf23e8ea9b",
   "metadata": {},
   "outputs": [],
   "source": [
    "# def wrangle(CSV_Path):\n",
    "#     df = pd.read_csv(CSV_Path,compression = \"zip\").drop(columns=['Unnamed: 0'])\n",
    "\n",
    "#     # get string lenght from 'description' and 'project_name' columns\n",
    "#     df['description'] = [len(desc) for desc in df['description']]\n",
    "#     df['project_name'] = [len(title) for title in df['project_name']]\n",
    "\n",
    "#     df['state'] = [int(x) for x in df['state'].isin(['successful'])]\n",
    "\n",
    "#     # Reorder Columns & rename\n",
    "#     df = df[['state','country', 'city_name', 'category', 'currency', 'launch_month_number_of_the_year'\n",
    "#              ,'goal','campaign_duration_in_days', 'description', 'project_name']]\n",
    "#     df.columns = ['state','country', 'city_name', 'category', 'currency', 'launch_month'\n",
    "#                  ,'goal','days_of_campaign', 'description', 'project_name']\n",
    "    \n",
    "#     df['category'] = df['category'].str.lower()\n",
    "#     df['city_name'] = df['city_name'].str.lower()\n",
    "    \n",
    "#     fail_cats = list(set(df['category'][df['state']==0]))\n",
    "#     successful_cats = list(set(df['category'][df['state']==1]))\n",
    "    \n",
    "#     just_successful_cats = [cat for cat in successful_cats if cat not in fail_cats]\n",
    "    \n",
    "#     df = df[~df['category'].isin(just_successful_cats)]\n",
    "    \n",
    "#     return df\n"
   ]
  },
  {
   "cell_type": "code",
   "execution_count": 69,
   "id": "6fba97c4-2fe6-41c4-8406-520350266b04",
   "metadata": {},
   "outputs": [],
   "source": [
    "# df = wrangle('Kick(2021-2022)_wrangled2.zip')"
   ]
  },
  {
   "cell_type": "code",
   "execution_count": 75,
   "id": "ca87c408-3de6-4ccf-99e0-ba5de7836142",
   "metadata": {},
   "outputs": [],
   "source": [
    "df = pd.read_csv('clean_data.zip',compression = \"zip\").drop(columns=['Unnamed: 0'])"
   ]
  },
  {
   "cell_type": "code",
   "execution_count": 76,
   "id": "f3e71845-8144-4a57-a246-a39aae358b7e",
   "metadata": {},
   "outputs": [
    {
     "data": {
      "text/html": [
       "<div>\n",
       "<style scoped>\n",
       "    .dataframe tbody tr th:only-of-type {\n",
       "        vertical-align: middle;\n",
       "    }\n",
       "\n",
       "    .dataframe tbody tr th {\n",
       "        vertical-align: top;\n",
       "    }\n",
       "\n",
       "    .dataframe thead th {\n",
       "        text-align: right;\n",
       "    }\n",
       "</style>\n",
       "<table border=\"1\" class=\"dataframe\">\n",
       "  <thead>\n",
       "    <tr style=\"text-align: right;\">\n",
       "      <th></th>\n",
       "      <th>state</th>\n",
       "      <th>country</th>\n",
       "      <th>city_name</th>\n",
       "      <th>category</th>\n",
       "      <th>currency</th>\n",
       "      <th>launch_month</th>\n",
       "      <th>goal</th>\n",
       "      <th>days_of_campaign</th>\n",
       "      <th>description</th>\n",
       "      <th>project_name</th>\n",
       "    </tr>\n",
       "  </thead>\n",
       "  <tbody>\n",
       "    <tr>\n",
       "      <th>0</th>\n",
       "      <td>0</td>\n",
       "      <td>US</td>\n",
       "      <td>burlington</td>\n",
       "      <td>glass</td>\n",
       "      <td>USD</td>\n",
       "      <td>8</td>\n",
       "      <td>2000.0</td>\n",
       "      <td>30</td>\n",
       "      <td>96</td>\n",
       "      <td>50</td>\n",
       "    </tr>\n",
       "    <tr>\n",
       "      <th>1</th>\n",
       "      <td>1</td>\n",
       "      <td>US</td>\n",
       "      <td>vineyard</td>\n",
       "      <td>events</td>\n",
       "      <td>USD</td>\n",
       "      <td>7</td>\n",
       "      <td>3000.0</td>\n",
       "      <td>16</td>\n",
       "      <td>133</td>\n",
       "      <td>26</td>\n",
       "    </tr>\n",
       "    <tr>\n",
       "      <th>2</th>\n",
       "      <td>1</td>\n",
       "      <td>BE</td>\n",
       "      <td>antwerp</td>\n",
       "      <td>comedy</td>\n",
       "      <td>EUR</td>\n",
       "      <td>10</td>\n",
       "      <td>300.0</td>\n",
       "      <td>60</td>\n",
       "      <td>134</td>\n",
       "      <td>26</td>\n",
       "    </tr>\n",
       "    <tr>\n",
       "      <th>3</th>\n",
       "      <td>1</td>\n",
       "      <td>US</td>\n",
       "      <td>new york</td>\n",
       "      <td>musical</td>\n",
       "      <td>USD</td>\n",
       "      <td>7</td>\n",
       "      <td>10000.0</td>\n",
       "      <td>31</td>\n",
       "      <td>92</td>\n",
       "      <td>41</td>\n",
       "    </tr>\n",
       "    <tr>\n",
       "      <th>4</th>\n",
       "      <td>1</td>\n",
       "      <td>CA</td>\n",
       "      <td>calgary</td>\n",
       "      <td>fine art</td>\n",
       "      <td>CAD</td>\n",
       "      <td>11</td>\n",
       "      <td>800.0</td>\n",
       "      <td>6</td>\n",
       "      <td>130</td>\n",
       "      <td>50</td>\n",
       "    </tr>\n",
       "  </tbody>\n",
       "</table>\n",
       "</div>"
      ],
      "text/plain": [
       "   state country   city_name  category currency  launch_month     goal  \\\n",
       "0      0      US  burlington     glass      USD             8   2000.0   \n",
       "1      1      US    vineyard    events      USD             7   3000.0   \n",
       "2      1      BE     antwerp    comedy      EUR            10    300.0   \n",
       "3      1      US    new york   musical      USD             7  10000.0   \n",
       "4      1      CA     calgary  fine art      CAD            11    800.0   \n",
       "\n",
       "   days_of_campaign  description  project_name  \n",
       "0                30           96            50  \n",
       "1                16          133            26  \n",
       "2                60          134            26  \n",
       "3                31           92            41  \n",
       "4                 6          130            50  "
      ]
     },
     "execution_count": 76,
     "metadata": {},
     "output_type": "execute_result"
    }
   ],
   "source": [
    "df.head()"
   ]
  },
  {
   "cell_type": "code",
   "execution_count": 77,
   "id": "d829a65b-8e2b-42da-b22c-d28a51f89690",
   "metadata": {},
   "outputs": [
    {
     "data": {
      "text/plain": [
       "(782971, 10)"
      ]
     },
     "execution_count": 77,
     "metadata": {},
     "output_type": "execute_result"
    }
   ],
   "source": [
    "df.shape"
   ]
  },
  {
   "cell_type": "code",
   "execution_count": 96,
   "id": "f1331d8a-659c-4eed-a82a-3d21880f8a57",
   "metadata": {},
   "outputs": [
    {
     "name": "stdout",
     "output_type": "stream",
     "text": [
      "Using 166572 samples for training and 41643 for validation\n"
     ]
    }
   ],
   "source": [
    "val_df = df.sample(frac=0.2, random_state=42)\n",
    "train_df = df.drop(val_df.index)\n",
    "\n",
    "print(f\"Using {len(train_df)} samples for training and {len(val_df)} for validation\")"
   ]
  },
  {
   "cell_type": "code",
   "execution_count": 97,
   "id": "c5ad0629-eea2-476d-ae1e-82691f7bc364",
   "metadata": {},
   "outputs": [],
   "source": [
    "def dataframe_to_dataset(dataframe):\n",
    "    dataframe = dataframe.copy()\n",
    "    labels = dataframe.pop(\"state\")\n",
    "    ds = tf.data.Dataset.from_tensor_slices((dict(dataframe), labels))\n",
    "    ds = ds.shuffle(buffer_size=len(dataframe))\n",
    "    return ds\n",
    "\n",
    "train_ds = dataframe_to_dataset(train_df)\n",
    "val_ds = dataframe_to_dataset(val_df)"
   ]
  },
  {
   "cell_type": "code",
   "execution_count": 99,
   "id": "7d0d78e7-3818-48e1-abbb-7e2bf16b419f",
   "metadata": {},
   "outputs": [
    {
     "name": "stdout",
     "output_type": "stream",
     "text": [
      "Input: {'country': <tf.Tensor: shape=(), dtype=string, numpy=b'US'>, 'city_name': <tf.Tensor: shape=(), dtype=string, numpy=b'Seattle'>, 'category': <tf.Tensor: shape=(), dtype=string, numpy=b'Mixed Media'>, 'currency': <tf.Tensor: shape=(), dtype=string, numpy=b'USD'>, 'launch_month': <tf.Tensor: shape=(), dtype=int64, numpy=5>, 'goal': <tf.Tensor: shape=(), dtype=float64, numpy=800.0>, 'days_of_campaign': <tf.Tensor: shape=(), dtype=int64, numpy=18>, 'description': <tf.Tensor: shape=(), dtype=int64, numpy=124>, 'project_name': <tf.Tensor: shape=(), dtype=int64, numpy=49>}\n",
      "Target: tf.Tensor(1, shape=(), dtype=int64)\n"
     ]
    }
   ],
   "source": [
    "for x, y in train_ds.take(1):\n",
    "    print(\"Input:\", x)\n",
    "    print(\"Target:\", y)"
   ]
  },
  {
   "cell_type": "code",
   "execution_count": 100,
   "id": "57e04b5f-ad57-426f-87cd-d9339d003d73",
   "metadata": {},
   "outputs": [],
   "source": [
    "train_ds = train_ds.batch(32)\n",
    "val_ds = val_ds.batch(32)"
   ]
  },
  {
   "cell_type": "code",
   "execution_count": 101,
   "id": "b621d5a7-c93b-4585-8ad1-dcfe15b8a18c",
   "metadata": {},
   "outputs": [],
   "source": [
    "def encode_numerical_feature(feature, name, dataset):\n",
    "    # Create a Normalization layer for our feature\n",
    "    normalizer = Normalization()\n",
    "\n",
    "    # Prepare a Dataset that only yields our feature\n",
    "    feature_ds = dataset.map(lambda x, y: x[name])\n",
    "    feature_ds = feature_ds.map(lambda x: tf.expand_dims(x, -1))\n",
    "\n",
    "    # Learn the statistics of the data\n",
    "    normalizer.adapt(feature_ds)\n",
    "\n",
    "    # Normalize the input feature\n",
    "    encoded_feature = normalizer(feature)\n",
    "    return encoded_feature\n",
    "\n",
    "def encode_categorical_feature(feature, name, dataset, is_string):\n",
    "    lookup_class = StringLookup if is_string else IntegerLookup\n",
    "    # Create a lookup layer which will turn strings into integer indices\n",
    "    lookup = lookup_class(output_mode=\"binary\")\n",
    "\n",
    "    # Prepare a Dataset that only yields our feature\n",
    "    feature_ds = dataset.map(lambda x, y: x[name])\n",
    "    feature_ds = feature_ds.map(lambda x: tf.expand_dims(x, -1))\n",
    "\n",
    "    # Learn the set of possible string values and assign them a fixed integer index\n",
    "    lookup.adapt(feature_ds)\n",
    "\n",
    "    # Turn the string input into integer indices\n",
    "    encoded_feature = lookup(feature)\n",
    "    return encoded_feature"
   ]
  },
  {
   "cell_type": "code",
   "execution_count": 102,
   "id": "71f7b10d-16f2-453f-b83d-6fc45d919f11",
   "metadata": {},
   "outputs": [],
   "source": [
    "# Categorical features encoded as strings\n",
    "country = keras.Input(shape=(1,), name=\"country\", dtype=\"string\")\n",
    "city_name = keras.Input(shape=(1,), name=\"city_name\", dtype=\"string\")\n",
    "category = keras.Input(shape=(1,), name=\"category\", dtype=\"string\")\n",
    "currency = keras.Input(shape=(1,), name=\"currency\", dtype=\"string\")\n",
    "\n",
    "# Categorical features encoded as integers\n",
    "launch_month = keras.Input(shape=(1,), name=\"launch_month\", dtype=\"int64\")\n",
    "\n",
    "# Numerical features\n",
    "goal = keras.Input(shape=(1,), name=\"goal\")\n",
    "days_of_campaign = keras.Input(shape=(1,), name=\"days_of_campaign\")\n",
    "description = keras.Input(shape=(1,), name=\"description\")\n",
    "project_name = keras.Input(shape=(1,), name=\"project_name\")\n",
    "\n",
    "\n",
    "all_inputs = [country, city_name, category, currency, launch_month,\n",
    "               goal, days_of_campaign, description, project_name]"
   ]
  },
  {
   "cell_type": "code",
   "execution_count": 103,
   "id": "87240d02-e952-4cdf-8fa0-ba4d72219f1b",
   "metadata": {},
   "outputs": [],
   "source": [
    "# String categorical features\n",
    "country_encoded = encode_categorical_feature(country, \"country\", train_ds, True)\n",
    "city_name_encoded = encode_categorical_feature(city_name, \"city_name\", train_ds, True)\n",
    "category_encoded = encode_categorical_feature(category, \"category\", train_ds, True)\n",
    "currency_encoded = encode_categorical_feature(currency, \"currency\", train_ds, True)\n",
    "\n",
    "# Integer categorical features\n",
    "launch_month_encoded = encode_categorical_feature(launch_month, \"launch_month\", train_ds, False)\n",
    "\n",
    "# Numerical features\n",
    "goal_encoded = encode_numerical_feature(goal, \"goal\", train_ds)\n",
    "days_of_campaign_encoded = encode_numerical_feature(days_of_campaign, \"days_of_campaign\", train_ds)\n",
    "description_encoded = encode_numerical_feature(description, \"description\", train_ds)\n",
    "project_name_encoded = encode_numerical_feature(project_name, \"project_name\", train_ds)\n",
    "\n",
    "\n",
    "all_features = layers.concatenate([country_encoded, city_name_encoded, category_encoded, currency_encoded,\n",
    "               launch_month_encoded, goal_encoded, days_of_campaign_encoded, description_encoded,\n",
    "               project_name_encoded])"
   ]
  },
  {
   "cell_type": "code",
   "execution_count": 104,
   "id": "4dac446b-89d6-42f4-93af-dd2503f416f2",
   "metadata": {},
   "outputs": [],
   "source": [
    "x = layers.Dense(50, activation=\"relu\")(all_features)\n",
    "x = layers.Dropout(0.3)(x)\n",
    "output = layers.Dense(1, activation=\"sigmoid\")(x)\n",
    "model = keras.Model(all_inputs, output)\n",
    "model.compile(\"adam\", \"binary_crossentropy\", metrics=[\"accuracy\"])"
   ]
  },
  {
   "cell_type": "code",
   "execution_count": 46,
   "id": "d52a50d4-5fc8-4524-a3d2-a30d2820e1b2",
   "metadata": {},
   "outputs": [],
   "source": [
    "# # `rankdir='LR'` is to make the graph horizontal.\n",
    "# keras.utils.plot_model(model, show_shapes=True, rankdir=\"LR\")"
   ]
  },
  {
   "cell_type": "code",
   "execution_count": 63,
   "id": "9ac305ef-d50c-4a0f-a1af-9864eeae40fd",
   "metadata": {},
   "outputs": [
    {
     "name": "stdout",
     "output_type": "stream",
     "text": [
      "Epoch 1/40\n",
      "5206/5206 [==============================] - 72s 14ms/step - loss: 0.2904 - accuracy: 0.8645 - val_loss: 0.3790 - val_accuracy: 0.8292\n",
      "Epoch 2/40\n",
      "5206/5206 [==============================] - 76s 14ms/step - loss: 0.2863 - accuracy: 0.8667 - val_loss: 0.3799 - val_accuracy: 0.8305\n",
      "Epoch 3/40\n",
      "5206/5206 [==============================] - 78s 15ms/step - loss: 0.2839 - accuracy: 0.8674 - val_loss: 0.3791 - val_accuracy: 0.8307\n",
      "Epoch 4/40\n",
      "5206/5206 [==============================] - 79s 15ms/step - loss: 0.2818 - accuracy: 0.8676 - val_loss: 0.3808 - val_accuracy: 0.8305\n",
      "Epoch 5/40\n",
      "5206/5206 [==============================] - 80s 15ms/step - loss: 0.2802 - accuracy: 0.8698 - val_loss: 0.3804 - val_accuracy: 0.8323\n",
      "Epoch 6/40\n",
      "5206/5206 [==============================] - 79s 15ms/step - loss: 0.2786 - accuracy: 0.8703 - val_loss: 0.3807 - val_accuracy: 0.8319\n",
      "Epoch 7/40\n",
      "5206/5206 [==============================] - 80s 15ms/step - loss: 0.2756 - accuracy: 0.8713 - val_loss: 0.3829 - val_accuracy: 0.8312\n",
      "Epoch 8/40\n",
      "5206/5206 [==============================] - 81s 15ms/step - loss: 0.2745 - accuracy: 0.8718 - val_loss: 0.3827 - val_accuracy: 0.8327\n",
      "Epoch 9/40\n",
      "5206/5206 [==============================] - 82s 16ms/step - loss: 0.2726 - accuracy: 0.8731 - val_loss: 0.3810 - val_accuracy: 0.8329\n",
      "Epoch 10/40\n",
      "5206/5206 [==============================] - 80s 15ms/step - loss: 0.2697 - accuracy: 0.8747 - val_loss: 0.3820 - val_accuracy: 0.8335\n",
      "Epoch 11/40\n",
      "5206/5206 [==============================] - 81s 15ms/step - loss: 0.2692 - accuracy: 0.8740 - val_loss: 0.3824 - val_accuracy: 0.8339\n",
      "Epoch 12/40\n",
      "5206/5206 [==============================] - 81s 15ms/step - loss: 0.2671 - accuracy: 0.8763 - val_loss: 0.3861 - val_accuracy: 0.8335\n",
      "Epoch 13/40\n",
      "5206/5206 [==============================] - 76s 14ms/step - loss: 0.2666 - accuracy: 0.8767 - val_loss: 0.3838 - val_accuracy: 0.8335\n",
      "Epoch 14/40\n",
      "5206/5206 [==============================] - 78s 15ms/step - loss: 0.2659 - accuracy: 0.8765 - val_loss: 0.3844 - val_accuracy: 0.8354\n",
      "Epoch 15/40\n",
      "5206/5206 [==============================] - 72s 14ms/step - loss: 0.2651 - accuracy: 0.8769 - val_loss: 0.3837 - val_accuracy: 0.8355\n",
      "Epoch 16/40\n",
      "5206/5206 [==============================] - 74s 14ms/step - loss: 0.2633 - accuracy: 0.8772 - val_loss: 0.3841 - val_accuracy: 0.8328\n",
      "Epoch 17/40\n",
      "5206/5206 [==============================] - 74s 14ms/step - loss: 0.2617 - accuracy: 0.8782 - val_loss: 0.3866 - val_accuracy: 0.8345\n",
      "Epoch 18/40\n",
      "5206/5206 [==============================] - 72s 14ms/step - loss: 0.2611 - accuracy: 0.8786 - val_loss: 0.3875 - val_accuracy: 0.8362\n",
      "Epoch 19/40\n",
      "5206/5206 [==============================] - 72s 14ms/step - loss: 0.2608 - accuracy: 0.8794 - val_loss: 0.3849 - val_accuracy: 0.8346\n",
      "Epoch 20/40\n",
      "5206/5206 [==============================] - 72s 14ms/step - loss: 0.2598 - accuracy: 0.8791 - val_loss: 0.3861 - val_accuracy: 0.8361\n",
      "Epoch 21/40\n",
      "5206/5206 [==============================] - 72s 14ms/step - loss: 0.2585 - accuracy: 0.8803 - val_loss: 0.3875 - val_accuracy: 0.8364\n",
      "Epoch 22/40\n",
      "5206/5206 [==============================] - 73s 14ms/step - loss: 0.2582 - accuracy: 0.8800 - val_loss: 0.3861 - val_accuracy: 0.8356\n",
      "Epoch 23/40\n",
      "5206/5206 [==============================] - 74s 14ms/step - loss: 0.2580 - accuracy: 0.8800 - val_loss: 0.3859 - val_accuracy: 0.8341\n",
      "Epoch 24/40\n",
      "5206/5206 [==============================] - 74s 14ms/step - loss: 0.2568 - accuracy: 0.8809 - val_loss: 0.3855 - val_accuracy: 0.8358\n",
      "Epoch 25/40\n",
      "5206/5206 [==============================] - 76s 14ms/step - loss: 0.2567 - accuracy: 0.8806 - val_loss: 0.3874 - val_accuracy: 0.8364\n",
      "Epoch 26/40\n",
      "5206/5206 [==============================] - 73s 14ms/step - loss: 0.2552 - accuracy: 0.8820 - val_loss: 0.3894 - val_accuracy: 0.8364\n",
      "Epoch 27/40\n",
      "5206/5206 [==============================] - 74s 14ms/step - loss: 0.2560 - accuracy: 0.8818 - val_loss: 0.3879 - val_accuracy: 0.8371\n",
      "Epoch 28/40\n",
      "5206/5206 [==============================] - 74s 14ms/step - loss: 0.2545 - accuracy: 0.8823 - val_loss: 0.3873 - val_accuracy: 0.8356\n",
      "Epoch 29/40\n",
      "5206/5206 [==============================] - 75s 14ms/step - loss: 0.2536 - accuracy: 0.8826 - val_loss: 0.3885 - val_accuracy: 0.8353\n",
      "Epoch 30/40\n",
      "5206/5206 [==============================] - 73s 14ms/step - loss: 0.2523 - accuracy: 0.8828 - val_loss: 0.3876 - val_accuracy: 0.8375\n",
      "Epoch 31/40\n",
      "5206/5206 [==============================] - 73s 14ms/step - loss: 0.2523 - accuracy: 0.8830 - val_loss: 0.3902 - val_accuracy: 0.8374\n",
      "Epoch 32/40\n",
      "5206/5206 [==============================] - 74s 14ms/step - loss: 0.2513 - accuracy: 0.8831 - val_loss: 0.3877 - val_accuracy: 0.8376\n",
      "Epoch 33/40\n",
      "5206/5206 [==============================] - 74s 14ms/step - loss: 0.2527 - accuracy: 0.8831 - val_loss: 0.3889 - val_accuracy: 0.8370\n",
      "Epoch 34/40\n",
      "5206/5206 [==============================] - 74s 14ms/step - loss: 0.2517 - accuracy: 0.8833 - val_loss: 0.3871 - val_accuracy: 0.8374\n",
      "Epoch 35/40\n",
      "5206/5206 [==============================] - 74s 14ms/step - loss: 0.2502 - accuracy: 0.8852 - val_loss: 0.3878 - val_accuracy: 0.8375\n",
      "Epoch 36/40\n",
      "5206/5206 [==============================] - 73s 14ms/step - loss: 0.2514 - accuracy: 0.8840 - val_loss: 0.3891 - val_accuracy: 0.8375\n",
      "Epoch 37/40\n",
      "5206/5206 [==============================] - 73s 14ms/step - loss: 0.2502 - accuracy: 0.8848 - val_loss: 0.3899 - val_accuracy: 0.8368\n",
      "Epoch 38/40\n",
      "5206/5206 [==============================] - 73s 14ms/step - loss: 0.2509 - accuracy: 0.8842 - val_loss: 0.3891 - val_accuracy: 0.8376\n",
      "Epoch 39/40\n",
      "5206/5206 [==============================] - 73s 14ms/step - loss: 0.2487 - accuracy: 0.8849 - val_loss: 0.3876 - val_accuracy: 0.8385\n",
      "Epoch 40/40\n",
      "5206/5206 [==============================] - 74s 14ms/step - loss: 0.2491 - accuracy: 0.8848 - val_loss: 0.3893 - val_accuracy: 0.8387\n"
     ]
    },
    {
     "data": {
      "text/plain": [
       "<keras.callbacks.History at 0x157848fc8e0>"
      ]
     },
     "execution_count": 63,
     "metadata": {},
     "output_type": "execute_result"
    }
   ],
   "source": [
    "model.fit(train_ds, epochs=10, validation_data=val_ds)"
   ]
  },
  {
   "cell_type": "code",
   "execution_count": 90,
   "id": "189b0838-fc13-45c3-8f99-bddd32b18cef",
   "metadata": {},
   "outputs": [
    {
     "name": "stdout",
     "output_type": "stream",
     "text": [
      "This particular Kickstarter campaign has a 66.16% probability of been succssesful, as evaluated by our model.\n"
     ]
    }
   ],
   "source": [
    "\n",
    "sample = {\n",
    "    \"country\": 'US',\n",
    "    \"city_name\": 'Burlington',\n",
    "    \"category\": 'Glass',\n",
    "    \"currency\": 'USD',\n",
    "    \"launch_month\": 8,\n",
    "    \"goal\": 2000,\n",
    "    \"days_of_campaign\": 30,\n",
    "    \"description\": 96,\n",
    "    \"project_name\": 50\n",
    "}\n",
    "\n",
    "input_dict = {name: tf.convert_to_tensor([value]) for name, value in sample.items()}\n",
    "predictions = model.predict(input_dict)\n",
    "\n",
    "print(\n",
    "    f\"This particular Kickstarter campaign has a {round(100 * predictions[0][0],2)}% probability \"\n",
    "    \"of been succssesful, as evaluated by our model.\"\n",
    ")"
   ]
  },
  {
   "cell_type": "code",
   "execution_count": 91,
   "id": "7d141be0-8129-45bd-8b6c-50e2d9a54122",
   "metadata": {},
   "outputs": [],
   "source": [
    "# model.save('TrainedModel1')"
   ]
  }
 ],
 "metadata": {
  "kernelspec": {
   "display_name": "Python 3",
   "language": "python",
   "name": "python3"
  },
  "language_info": {
   "codemirror_mode": {
    "name": "ipython",
    "version": 3
   },
   "file_extension": ".py",
   "mimetype": "text/x-python",
   "name": "python",
   "nbconvert_exporter": "python",
   "pygments_lexer": "ipython3",
   "version": "3.8.8"
  }
 },
 "nbformat": 4,
 "nbformat_minor": 5
}
