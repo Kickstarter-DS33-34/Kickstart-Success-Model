{
 "cells": [
  {
   "cell_type": "code",
   "execution_count": 1,
   "id": "a49b9412-ca0d-4186-a4b3-ded270bb2293",
   "metadata": {},
   "outputs": [],
   "source": [
    "import tensorflow as tf\n",
    "import numpy as np\n",
    "import pandas as pd\n",
    "from tensorflow import keras\n",
    "from tensorflow.keras import layers\n",
    "from sklearn.preprocessing import LabelEncoder\n",
    "from tensorflow.keras.layers import IntegerLookup\n",
    "from tensorflow.keras.layers import Normalization\n",
    "from tensorflow.keras.layers import StringLookup"
   ]
  },
  {
   "cell_type": "code",
   "execution_count": 28,
   "id": "67e4c0f3-8ea7-4367-aac5-eacf23e8ea9b",
   "metadata": {},
   "outputs": [],
   "source": [
    "df = pd.read_csv('Kick(2021-2022)_wrangled.zip',compression = \"zip\").drop(columns=['Unnamed: 0'])\n",
    "\n",
    "# get string lenght from 'description' and 'project_name' columns\n",
    "df['description'] = [len(desc) for desc in df['description']]\n",
    "df['project_name'] = [len(title) for title in df['project_name']]\n",
    "\n",
    "df['state'] = [int(x) for x in df['state'].isin(['successful'])]\n",
    "\n",
    "# Reorder Columns & rename\n",
    "df = df[['state','country', 'city_name', 'category', 'currency', 'launch_month_number_of_the_year'\n",
    "         ,'goal','campaign_duration_in_days', 'description', 'project_name']]\n",
    "df.columns = ['state','country', 'city_name', 'category', 'currency', 'launch_month'\n",
    "             ,'goal','days_of_campaign', 'description', 'project_name']\n",
    "# # Not encoded DF\n",
    "# not_encoded_df = df.copy()\n",
    "\n",
    "# # Encode Labels\n",
    "# encoder = LabelEncoder()\n",
    "# df['country'] = encoder.fit_transform(df['country'])\n",
    "# df['city_name'] = encoder.fit_transform(df['city_name'])\n",
    "# df['category'] = encoder.fit_transform(df['category'])\n",
    "# df['currency'] = encoder.fit_transform(df['currency'])"
   ]
  },
  {
   "cell_type": "code",
   "execution_count": 29,
   "id": "6fba97c4-2fe6-41c4-8406-520350266b04",
   "metadata": {},
   "outputs": [],
   "source": [
    "# not_encoded_df.head()"
   ]
  },
  {
   "cell_type": "code",
   "execution_count": 30,
   "id": "5eabe342-52e2-4a2c-97d5-116e0bd0f5b8",
   "metadata": {},
   "outputs": [
    {
     "data": {
      "text/html": [
       "<div>\n",
       "<style scoped>\n",
       "    .dataframe tbody tr th:only-of-type {\n",
       "        vertical-align: middle;\n",
       "    }\n",
       "\n",
       "    .dataframe tbody tr th {\n",
       "        vertical-align: top;\n",
       "    }\n",
       "\n",
       "    .dataframe thead th {\n",
       "        text-align: right;\n",
       "    }\n",
       "</style>\n",
       "<table border=\"1\" class=\"dataframe\">\n",
       "  <thead>\n",
       "    <tr style=\"text-align: right;\">\n",
       "      <th></th>\n",
       "      <th>state</th>\n",
       "      <th>country</th>\n",
       "      <th>city_name</th>\n",
       "      <th>category</th>\n",
       "      <th>currency</th>\n",
       "      <th>launch_month</th>\n",
       "      <th>goal</th>\n",
       "      <th>days_of_campaign</th>\n",
       "      <th>description</th>\n",
       "      <th>project_name</th>\n",
       "    </tr>\n",
       "  </thead>\n",
       "  <tbody>\n",
       "    <tr>\n",
       "      <th>0</th>\n",
       "      <td>0</td>\n",
       "      <td>US</td>\n",
       "      <td>Burlington</td>\n",
       "      <td>Glass</td>\n",
       "      <td>USD</td>\n",
       "      <td>8</td>\n",
       "      <td>2000.0</td>\n",
       "      <td>30</td>\n",
       "      <td>96</td>\n",
       "      <td>50</td>\n",
       "    </tr>\n",
       "    <tr>\n",
       "      <th>1</th>\n",
       "      <td>1</td>\n",
       "      <td>US</td>\n",
       "      <td>Vineyard</td>\n",
       "      <td>Events</td>\n",
       "      <td>USD</td>\n",
       "      <td>7</td>\n",
       "      <td>3000.0</td>\n",
       "      <td>16</td>\n",
       "      <td>133</td>\n",
       "      <td>26</td>\n",
       "    </tr>\n",
       "    <tr>\n",
       "      <th>2</th>\n",
       "      <td>1</td>\n",
       "      <td>BE</td>\n",
       "      <td>Antwerp</td>\n",
       "      <td>Comedy</td>\n",
       "      <td>EUR</td>\n",
       "      <td>10</td>\n",
       "      <td>300.0</td>\n",
       "      <td>60</td>\n",
       "      <td>134</td>\n",
       "      <td>26</td>\n",
       "    </tr>\n",
       "    <tr>\n",
       "      <th>3</th>\n",
       "      <td>1</td>\n",
       "      <td>US</td>\n",
       "      <td>Oxnard</td>\n",
       "      <td>Children's Books</td>\n",
       "      <td>USD</td>\n",
       "      <td>12</td>\n",
       "      <td>4500.0</td>\n",
       "      <td>21</td>\n",
       "      <td>133</td>\n",
       "      <td>43</td>\n",
       "    </tr>\n",
       "    <tr>\n",
       "      <th>4</th>\n",
       "      <td>1</td>\n",
       "      <td>US</td>\n",
       "      <td>New York</td>\n",
       "      <td>Musical</td>\n",
       "      <td>USD</td>\n",
       "      <td>7</td>\n",
       "      <td>10000.0</td>\n",
       "      <td>31</td>\n",
       "      <td>92</td>\n",
       "      <td>41</td>\n",
       "    </tr>\n",
       "  </tbody>\n",
       "</table>\n",
       "</div>"
      ],
      "text/plain": [
       "   state country   city_name          category currency  launch_month  \\\n",
       "0      0      US  Burlington             Glass      USD             8   \n",
       "1      1      US    Vineyard            Events      USD             7   \n",
       "2      1      BE     Antwerp            Comedy      EUR            10   \n",
       "3      1      US      Oxnard  Children's Books      USD            12   \n",
       "4      1      US    New York           Musical      USD             7   \n",
       "\n",
       "      goal  days_of_campaign  description  project_name  \n",
       "0   2000.0                30           96            50  \n",
       "1   3000.0                16          133            26  \n",
       "2    300.0                60          134            26  \n",
       "3   4500.0                21          133            43  \n",
       "4  10000.0                31           92            41  "
      ]
     },
     "execution_count": 30,
     "metadata": {},
     "output_type": "execute_result"
    }
   ],
   "source": [
    "df.head()"
   ]
  },
  {
   "cell_type": "code",
   "execution_count": 31,
   "id": "f1331d8a-659c-4eed-a82a-3d21880f8a57",
   "metadata": {},
   "outputs": [
    {
     "name": "stdout",
     "output_type": "stream",
     "text": [
      "Using 166572 samples for training and 41643 for validation\n"
     ]
    }
   ],
   "source": [
    "val_df = df.sample(frac=0.2, random_state=42)\n",
    "train_df = df.drop(val_df.index)\n",
    "\n",
    "print(f\"Using {len(train_df)} samples for training and {len(val_df)} for validation\")"
   ]
  },
  {
   "cell_type": "code",
   "execution_count": 32,
   "id": "c5ad0629-eea2-476d-ae1e-82691f7bc364",
   "metadata": {},
   "outputs": [],
   "source": [
    "def dataframe_to_dataset(dataframe):\n",
    "    dataframe = dataframe.copy()\n",
    "    labels = dataframe.pop(\"state\")\n",
    "    ds = tf.data.Dataset.from_tensor_slices((dict(dataframe), labels))\n",
    "    ds = ds.shuffle(buffer_size=len(dataframe))\n",
    "    return ds\n",
    "\n",
    "train_ds = dataframe_to_dataset(train_df)\n",
    "val_ds = dataframe_to_dataset(val_df)"
   ]
  },
  {
   "cell_type": "code",
   "execution_count": 33,
   "id": "7d0d78e7-3818-48e1-abbb-7e2bf16b419f",
   "metadata": {},
   "outputs": [
    {
     "name": "stdout",
     "output_type": "stream",
     "text": [
      "Input: {'country': <tf.Tensor: shape=(), dtype=string, numpy=b'GB'>, 'city_name': <tf.Tensor: shape=(), dtype=string, numpy=b'Lilongwe'>, 'category': <tf.Tensor: shape=(), dtype=string, numpy=b'Documentary'>, 'currency': <tf.Tensor: shape=(), dtype=string, numpy=b'GBP'>, 'launch_month': <tf.Tensor: shape=(), dtype=int64, numpy=2>, 'goal': <tf.Tensor: shape=(), dtype=float64, numpy=750.0>, 'days_of_campaign': <tf.Tensor: shape=(), dtype=int64, numpy=30>, 'description': <tf.Tensor: shape=(), dtype=int64, numpy=75>, 'project_name': <tf.Tensor: shape=(), dtype=int64, numpy=46>}\n",
      "Target: tf.Tensor(1, shape=(), dtype=int64)\n"
     ]
    }
   ],
   "source": [
    "for x, y in train_ds.take(1):\n",
    "    print(\"Input:\", x)\n",
    "    print(\"Target:\", y)"
   ]
  },
  {
   "cell_type": "code",
   "execution_count": 34,
   "id": "57e04b5f-ad57-426f-87cd-d9339d003d73",
   "metadata": {},
   "outputs": [],
   "source": [
    "train_ds = train_ds.batch(32)\n",
    "val_ds = val_ds.batch(32)"
   ]
  },
  {
   "cell_type": "code",
   "execution_count": 35,
   "id": "b621d5a7-c93b-4585-8ad1-dcfe15b8a18c",
   "metadata": {},
   "outputs": [],
   "source": [
    "def encode_numerical_feature(feature, name, dataset):\n",
    "    # Create a Normalization layer for our feature\n",
    "    normalizer = Normalization()\n",
    "\n",
    "    # Prepare a Dataset that only yields our feature\n",
    "    feature_ds = dataset.map(lambda x, y: x[name])\n",
    "    feature_ds = feature_ds.map(lambda x: tf.expand_dims(x, -1))\n",
    "\n",
    "    # Learn the statistics of the data\n",
    "    normalizer.adapt(feature_ds)\n",
    "\n",
    "    # Normalize the input feature\n",
    "    encoded_feature = normalizer(feature)\n",
    "    return encoded_feature\n",
    "\n",
    "def encode_categorical_feature(feature, name, dataset, is_string):\n",
    "    lookup_class = StringLookup if is_string else IntegerLookup\n",
    "    # Create a lookup layer which will turn strings into integer indices\n",
    "    lookup = lookup_class(output_mode=\"binary\")\n",
    "\n",
    "    # Prepare a Dataset that only yields our feature\n",
    "    feature_ds = dataset.map(lambda x, y: x[name])\n",
    "    feature_ds = feature_ds.map(lambda x: tf.expand_dims(x, -1))\n",
    "\n",
    "    # Learn the set of possible string values and assign them a fixed integer index\n",
    "    lookup.adapt(feature_ds)\n",
    "\n",
    "    # Turn the string input into integer indices\n",
    "    encoded_feature = lookup(feature)\n",
    "    return encoded_feature"
   ]
  },
  {
   "cell_type": "code",
   "execution_count": 36,
   "id": "71f7b10d-16f2-453f-b83d-6fc45d919f11",
   "metadata": {},
   "outputs": [],
   "source": [
    "# Categorical features encoded as strings\n",
    "country = keras.Input(shape=(1,), name=\"country\", dtype=\"string\")\n",
    "city_name = keras.Input(shape=(1,), name=\"city_name\", dtype=\"string\")\n",
    "category = keras.Input(shape=(1,), name=\"category\", dtype=\"string\")\n",
    "currency = keras.Input(shape=(1,), name=\"currency\", dtype=\"string\")\n",
    "\n",
    "# Categorical features encoded as integers\n",
    "launch_month = keras.Input(shape=(1,), name=\"launch_month\", dtype=\"int64\")\n",
    "\n",
    "# Numerical features\n",
    "goal = keras.Input(shape=(1,), name=\"goal\")\n",
    "days_of_campaign = keras.Input(shape=(1,), name=\"days_of_campaign\")\n",
    "description = keras.Input(shape=(1,), name=\"description\")\n",
    "project_name = keras.Input(shape=(1,), name=\"project_name\")\n",
    "\n",
    "\n",
    "all_inputs = [country, city_name, category, currency, launch_month,\n",
    "               goal, days_of_campaign, description, project_name]"
   ]
  },
  {
   "cell_type": "code",
   "execution_count": 37,
   "id": "87240d02-e952-4cdf-8fa0-ba4d72219f1b",
   "metadata": {},
   "outputs": [],
   "source": [
    "# String categorical features\n",
    "country_encoded = encode_categorical_feature(country, \"country\", train_ds, True)\n",
    "city_name_encoded = encode_categorical_feature(city_name, \"city_name\", train_ds, True)\n",
    "category_encoded = encode_categorical_feature(category, \"category\", train_ds, True)\n",
    "currency_encoded = encode_categorical_feature(currency, \"currency\", train_ds, True)\n",
    "\n",
    "# Integer categorical features\n",
    "launch_month_encoded = encode_categorical_feature(launch_month, \"launch_month\", train_ds, False)\n",
    "\n",
    "# Numerical features\n",
    "goal_encoded = encode_numerical_feature(goal, \"goal\", train_ds)\n",
    "days_of_campaign_encoded = encode_numerical_feature(days_of_campaign, \"days_of_campaign\", train_ds)\n",
    "description_encoded = encode_numerical_feature(description, \"description\", train_ds)\n",
    "project_name_encoded = encode_numerical_feature(project_name, \"project_name\", train_ds)\n",
    "\n",
    "\n",
    "all_features = layers.concatenate([country_encoded, city_name_encoded, category_encoded, currency_encoded,\n",
    "               launch_month_encoded, goal_encoded, days_of_campaign_encoded, description_encoded,\n",
    "               project_name_encoded])"
   ]
  },
  {
   "cell_type": "code",
   "execution_count": 38,
   "id": "4dac446b-89d6-42f4-93af-dd2503f416f2",
   "metadata": {},
   "outputs": [],
   "source": [
    "x = layers.Dense(32, activation=\"relu\")(all_features)\n",
    "x = layers.Dropout(0.5)(x)\n",
    "output = layers.Dense(1, activation=\"sigmoid\")(x)\n",
    "model = keras.Model(all_inputs, output)\n",
    "model.compile(\"adam\", \"binary_crossentropy\", metrics=[\"accuracy\"])"
   ]
  },
  {
   "cell_type": "code",
   "execution_count": 39,
   "id": "d52a50d4-5fc8-4524-a3d2-a30d2820e1b2",
   "metadata": {},
   "outputs": [],
   "source": [
    "# # `rankdir='LR'` is to make the graph horizontal.\n",
    "# keras.utils.plot_model(model, show_shapes=True, rankdir=\"LR\")"
   ]
  },
  {
   "cell_type": "code",
   "execution_count": 40,
   "id": "9ac305ef-d50c-4a0f-a1af-9864eeae40fd",
   "metadata": {},
   "outputs": [
    {
     "name": "stdout",
     "output_type": "stream",
     "text": [
      "Epoch 1/5\n",
      "5206/5206 [==============================] - 49s 9ms/step - loss: 0.4502 - accuracy: 0.7680 - val_loss: 0.4178 - val_accuracy: 0.7856\n",
      "Epoch 2/5\n",
      "5206/5206 [==============================] - 53s 10ms/step - loss: 0.4156 - accuracy: 0.7894 - val_loss: 0.4087 - val_accuracy: 0.7945\n",
      "Epoch 3/5\n",
      "5206/5206 [==============================] - 52s 10ms/step - loss: 0.4042 - accuracy: 0.7980 - val_loss: 0.4027 - val_accuracy: 0.7984\n",
      "Epoch 4/5\n",
      "5206/5206 [==============================] - 54s 10ms/step - loss: 0.3951 - accuracy: 0.8052 - val_loss: 0.4006 - val_accuracy: 0.8016\n",
      "Epoch 5/5\n",
      "5206/5206 [==============================] - 53s 10ms/step - loss: 0.3874 - accuracy: 0.8094 - val_loss: 0.3986 - val_accuracy: 0.8034\n"
     ]
    },
    {
     "data": {
      "text/plain": [
       "<keras.callbacks.History at 0x157c000ffd0>"
      ]
     },
     "execution_count": 40,
     "metadata": {},
     "output_type": "execute_result"
    }
   ],
   "source": [
    "model.fit(train_ds, epochs=5, validation_data=val_ds)"
   ]
  },
  {
   "cell_type": "code",
   "execution_count": 44,
   "id": "189b0838-fc13-45c3-8f99-bddd32b18cef",
   "metadata": {},
   "outputs": [
    {
     "name": "stdout",
     "output_type": "stream",
     "text": [
      "This particular Kickstarter campaign has a 42.14% probability of been succssesful, as evaluated by our model.\n"
     ]
    }
   ],
   "source": [
    "sample = {\n",
    "    \"country\": 'US',\n",
    "    \"city_name\": 'New York',\n",
    "    \"category\": 'Events',\n",
    "    \"currency\": 'USD',\n",
    "    \"launch_month\": 2,\n",
    "    \"goal\": 1500,\n",
    "    \"days_of_campaign\": 30,\n",
    "    \"description\": len('We organize concerts and events for famous artist around the world'),\n",
    "    \"project_name\": len('Events Masters')\n",
    "}\n",
    "\n",
    "input_dict = {name: tf.convert_to_tensor([value]) for name, value in sample.items()}\n",
    "predictions = model.predict(input_dict)\n",
    "\n",
    "print(\n",
    "    f\"This particular Kickstarter campaign has a {round(100 * predictions[0][0],2)}% probability \"\n",
    "    \"of been succssesful, as evaluated by our model.\"\n",
    ")"
   ]
  },
  {
   "cell_type": "code",
   "execution_count": null,
   "id": "7d141be0-8129-45bd-8b6c-50e2d9a54122",
   "metadata": {},
   "outputs": [],
   "source": []
  }
 ],
 "metadata": {
  "kernelspec": {
   "display_name": "Python 3",
   "language": "python",
   "name": "python3"
  },
  "language_info": {
   "codemirror_mode": {
    "name": "ipython",
    "version": 3
   },
   "file_extension": ".py",
   "mimetype": "text/x-python",
   "name": "python",
   "nbconvert_exporter": "python",
   "pygments_lexer": "ipython3",
   "version": "3.8.8"
  }
 },
 "nbformat": 4,
 "nbformat_minor": 5
}
